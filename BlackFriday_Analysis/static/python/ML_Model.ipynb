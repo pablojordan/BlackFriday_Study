{
 "cells": [
  {
   "cell_type": "code",
   "execution_count": 1,
   "metadata": {
    "ExecuteTime": {
     "end_time": "2019-11-19T19:20:56.607459Z",
     "start_time": "2019-11-19T19:20:54.319771Z"
    }
   },
   "outputs": [],
   "source": [
    "import os\n",
    "import pandas as pd\n",
    "import numpy as np\n",
    "import seaborn as sns\n",
    "import matplotlib.pyplot as plt\n",
    "\n",
    "#To visualize the whole grid\n",
    "pd.options.display.max_columns = 999"
   ]
  },
  {
   "cell_type": "markdown",
   "metadata": {},
   "source": [
    "## Huy Model"
   ]
  },
  {
   "cell_type": "code",
   "execution_count": 2,
   "metadata": {
    "ExecuteTime": {
     "end_time": "2019-11-19T19:21:09.861282Z",
     "start_time": "2019-11-19T19:21:09.027031Z"
    }
   },
   "outputs": [],
   "source": [
    "# Read both train and test data\n",
    "train = pd.read_csv(\"../../data/trainCLEAN.csv\")\n",
    "test = pd.read_csv(\"../../data/testCLEAN.csv\")"
   ]
  },
  {
   "cell_type": "code",
   "execution_count": 3,
   "metadata": {
    "ExecuteTime": {
     "end_time": "2019-11-19T19:21:09.971454Z",
     "start_time": "2019-11-19T19:21:09.924201Z"
    }
   },
   "outputs": [],
   "source": [
    "X = train[['Gender', 'Age', 'Occupation', 'City_Category',\n",
    "       'Stay_In_Current_City_Years', 'Marital_Status', 'Product_Category_1',\n",
    "       'Product_Category_2', 'Product_Category_3']]\n",
    "y = train['Purchase'].values.reshape(-1, 1)"
   ]
  },
  {
   "cell_type": "code",
   "execution_count": 4,
   "metadata": {
    "ExecuteTime": {
     "end_time": "2019-11-19T19:21:16.468728Z",
     "start_time": "2019-11-19T19:21:14.971024Z"
    }
   },
   "outputs": [],
   "source": [
    "from sklearn.model_selection import train_test_split\n",
    "\n",
    "X_train, X_test, y_train, y_test = train_test_split(X, y, test_size = 0.2, random_state=42)"
   ]
  },
  {
   "cell_type": "code",
   "execution_count": 5,
   "metadata": {
    "ExecuteTime": {
     "end_time": "2019-11-19T19:21:32.442180Z",
     "start_time": "2019-11-19T19:21:30.643132Z"
    }
   },
   "outputs": [
    {
     "name": "stdout",
     "output_type": "stream",
     "text": [
      "Purchase Predictions: [ 7674.25436568  7674.25436568 11570.13770492 ...  6146.54627034\n",
      "  6146.54627034  7359.61284184]\n",
      "MAE: 2260.588130797274\n",
      "MSE: 8957329.239800084\n",
      "RMSE 2992.879756989927\n",
      "Model Accuracy (score):64.25439064054648%\n"
     ]
    }
   ],
   "source": [
    "# https://stackoverflow.com/questions/46139186/interpreting-the-decisiontreeregressor-score\n",
    "from sklearn.tree import DecisionTreeRegressor  \n",
    "from sklearn.metrics import mean_squared_error, r2_score\n",
    "from sklearn import metrics\n",
    "\n",
    "regressor_model = DecisionTreeRegressor(max_depth=8, min_samples_leaf=150)\n",
    "regressor_model = regressor_model.fit(X_train, y_train)\n",
    "regressor_predictions = regressor_model.predict(X_test)\n",
    "regressor_score = regressor_model.score(X_train,y_train)\n",
    "\n",
    "print('Purchase Predictions:', regressor_predictions)\n",
    "print('MAE:', metrics.mean_absolute_error(y_test, regressor_predictions))\n",
    "print('MSE:', metrics.mean_squared_error(y_test, regressor_predictions))\n",
    "print('RMSE', np.sqrt(metrics.mean_squared_error(y_test, regressor_predictions)))\n",
    "print(f\"Model Accuracy (score):{regressor_score*100}%\")"
   ]
  },
  {
   "cell_type": "code",
   "execution_count": 6,
   "metadata": {
    "ExecuteTime": {
     "end_time": "2019-11-19T19:21:55.196166Z",
     "start_time": "2019-11-19T19:21:41.374616Z"
    }
   },
   "outputs": [
    {
     "name": "stdout",
     "output_type": "stream",
     "text": [
      "Coefficient of Determination (a.k.a R2 in LR): [0.63650802 0.64540879 0.63940972 0.63913948 0.64333521 0.64147487\n",
      " 0.63732935 0.64210934 0.64829829 0.64265044]\n"
     ]
    }
   ],
   "source": [
    "from sklearn.model_selection import cross_val_score\n",
    "R2_coefficient_determination = cross_val_score(regressor_model, X_train, y_train, cv=10)\n",
    "R2_coefficient_determination\n",
    "\n",
    "print('Coefficient of Determination (a.k.a R2 in LR):', R2_coefficient_determination)"
   ]
  },
  {
   "cell_type": "code",
   "execution_count": 13,
   "metadata": {
    "ExecuteTime": {
     "end_time": "2019-11-20T01:36:10.659981Z",
     "start_time": "2019-11-20T01:36:10.642473Z"
    }
   },
   "outputs": [],
   "source": [
    "# save model\n",
    "import pickle\n",
    "\n",
    "with open(f'treeRegressor.pickle', 'wb') as f:\n",
    "    pickle.dump(regressor_model, f)"
   ]
  },
  {
   "cell_type": "code",
   "execution_count": 23,
   "metadata": {
    "ExecuteTime": {
     "end_time": "2019-11-20T01:56:35.584893Z",
     "start_time": "2019-11-20T01:56:35.578491Z"
    }
   },
   "outputs": [],
   "source": [
    "with open(f'treeRegressor.pickle', \"rb\") as f:\n",
    "    model = pickle.load(f)\n",
    "\n",
    "# feature_names = model.get_DecisionTreeRegressor.feature_names\n"
   ]
  },
  {
   "cell_type": "code",
   "execution_count": 24,
   "metadata": {
    "ExecuteTime": {
     "end_time": "2019-11-20T01:56:57.228136Z",
     "start_time": "2019-11-20T01:56:57.221116Z"
    }
   },
   "outputs": [],
   "source": [
    "pickle_in = open(\"treeRegressor.pickle\",\"rb\")\n",
    "example_dict = pickle.load(pickle_in)"
   ]
  },
  {
   "cell_type": "code",
   "execution_count": 25,
   "metadata": {
    "ExecuteTime": {
     "end_time": "2019-11-20T01:56:58.363846Z",
     "start_time": "2019-11-20T01:56:58.355703Z"
    }
   },
   "outputs": [
    {
     "data": {
      "text/plain": [
       "DecisionTreeRegressor(criterion='mse', max_depth=8, max_features=None,\n",
       "                      max_leaf_nodes=None, min_impurity_decrease=0.0,\n",
       "                      min_impurity_split=None, min_samples_leaf=150,\n",
       "                      min_samples_split=2, min_weight_fraction_leaf=0.0,\n",
       "                      presort=False, random_state=None, splitter='best')"
      ]
     },
     "execution_count": 25,
     "metadata": {},
     "output_type": "execute_result"
    }
   ],
   "source": [
    "example_dict "
   ]
  },
  {
   "cell_type": "code",
   "execution_count": null,
   "metadata": {},
   "outputs": [],
   "source": []
  }
 ],
 "metadata": {
  "kernelspec": {
   "display_name": "Python 3",
   "language": "python",
   "name": "python3"
  },
  "language_info": {
   "codemirror_mode": {
    "name": "ipython",
    "version": 3
   },
   "file_extension": ".py",
   "mimetype": "text/x-python",
   "name": "python",
   "nbconvert_exporter": "python",
   "pygments_lexer": "ipython3",
   "version": "3.6.8"
  },
  "toc": {
   "base_numbering": 1,
   "nav_menu": {},
   "number_sections": true,
   "sideBar": true,
   "skip_h1_title": false,
   "title_cell": "Table of Contents",
   "title_sidebar": "Contents",
   "toc_cell": false,
   "toc_position": {},
   "toc_section_display": true,
   "toc_window_display": false
  },
  "varInspector": {
   "cols": {
    "lenName": 16,
    "lenType": 16,
    "lenVar": 40
   },
   "kernels_config": {
    "python": {
     "delete_cmd_postfix": "",
     "delete_cmd_prefix": "del ",
     "library": "var_list.py",
     "varRefreshCmd": "print(var_dic_list())"
    },
    "r": {
     "delete_cmd_postfix": ") ",
     "delete_cmd_prefix": "rm(",
     "library": "var_list.r",
     "varRefreshCmd": "cat(var_dic_list()) "
    }
   },
   "types_to_exclude": [
    "module",
    "function",
    "builtin_function_or_method",
    "instance",
    "_Feature"
   ],
   "window_display": false
  }
 },
 "nbformat": 4,
 "nbformat_minor": 4
}
