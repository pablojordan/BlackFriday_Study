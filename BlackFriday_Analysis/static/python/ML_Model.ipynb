{
 "cells": [
  {
   "cell_type": "code",
   "execution_count": 1,
   "metadata": {
    "ExecuteTime": {
     "end_time": "2019-11-15T00:02:22.382439Z",
     "start_time": "2019-11-15T00:02:19.829277Z"
    }
   },
   "outputs": [],
   "source": [
    "import os\n",
    "import pandas as pd\n",
    "import numpy as np\n",
    "import seaborn as sns\n",
    "import matplotlib.pyplot as plt\n",
    "#To visualize the whole grid\n",
    "pd.options.display.max_columns = 999"
   ]
  },
  {
   "cell_type": "code",
   "execution_count": 2,
   "metadata": {
    "ExecuteTime": {
     "end_time": "2019-11-15T00:02:23.877900Z",
     "start_time": "2019-11-15T00:02:22.466215Z"
    }
   },
   "outputs": [],
   "source": [
    "# Read both train and test data\n",
    "train = pd.read_csv(\"../../data/train.csv\")\n",
    "test = pd.read_csv(\"../../data/test.csv\")"
   ]
  },
  {
   "cell_type": "code",
   "execution_count": 3,
   "metadata": {
    "ExecuteTime": {
     "end_time": "2019-11-15T00:02:24.728502Z",
     "start_time": "2019-11-15T00:02:24.291791Z"
    }
   },
   "outputs": [],
   "source": [
    "# Convert all null values to 0. It is assumed that the if it is null value, the customer did not buy such product\n",
    "train = train.fillna(0)\n",
    "test =  test.fillna(0)"
   ]
  },
  {
   "cell_type": "code",
   "execution_count": 4,
   "metadata": {
    "ExecuteTime": {
     "end_time": "2019-11-15T00:02:25.260854Z",
     "start_time": "2019-11-15T00:02:25.187928Z"
    }
   },
   "outputs": [],
   "source": [
    "# Lets drop User ID and Product ID\n",
    "drop_columns = ['User_ID', 'Product_ID']\n",
    "train.drop(drop_columns, inplace = True, axis =1)\n"
   ]
  },
  {
   "cell_type": "code",
   "execution_count": 5,
   "metadata": {
    "ExecuteTime": {
     "end_time": "2019-11-15T00:02:25.796422Z",
     "start_time": "2019-11-15T00:02:25.616963Z"
    }
   },
   "outputs": [
    {
     "name": "stdout",
     "output_type": "stream",
     "text": [
      "<class 'pandas.core.frame.DataFrame'>\n",
      "RangeIndex: 550068 entries, 0 to 550067\n",
      "Data columns (total 10 columns):\n",
      "Gender                        550068 non-null object\n",
      "Age                           550068 non-null object\n",
      "Occupation                    550068 non-null int64\n",
      "City_Category                 550068 non-null object\n",
      "Stay_In_Current_City_Years    550068 non-null object\n",
      "Marital_Status                550068 non-null int64\n",
      "Product_Category_1            550068 non-null int64\n",
      "Product_Category_2            550068 non-null float64\n",
      "Product_Category_3            550068 non-null float64\n",
      "Purchase                      550068 non-null int64\n",
      "dtypes: float64(2), int64(4), object(4)\n",
      "memory usage: 42.0+ MB\n"
     ]
    }
   ],
   "source": [
    "train.info()"
   ]
  },
  {
   "cell_type": "code",
   "execution_count": 6,
   "metadata": {
    "ExecuteTime": {
     "end_time": "2019-11-15T00:02:27.032635Z",
     "start_time": "2019-11-15T00:02:26.904369Z"
    }
   },
   "outputs": [],
   "source": [
    "# Remove category 19 and 20 fron Product Category 1 from Train\n",
    "removal = train.index[(train.Product_Category_1.isin([19,20]))]\n",
    "train = train.drop(removal)"
   ]
  },
  {
   "cell_type": "code",
   "execution_count": 7,
   "metadata": {
    "ExecuteTime": {
     "end_time": "2019-11-15T00:02:30.348970Z",
     "start_time": "2019-11-15T00:02:30.122781Z"
    }
   },
   "outputs": [],
   "source": [
    "# Convert Stay_in_current_city_years to binary by using dummy variables\n",
    "dummy_gender = pd.get_dummies(train['Gender'])\n",
    "dummy_age = pd.get_dummies(train['Age'])\n",
    "dummy_city = pd.get_dummies(train['City_Category'])\n",
    "dummy_current_city = pd.get_dummies(train['Stay_In_Current_City_Years'])"
   ]
  },
  {
   "cell_type": "code",
   "execution_count": 8,
   "metadata": {
    "ExecuteTime": {
     "end_time": "2019-11-15T00:02:32.859967Z",
     "start_time": "2019-11-15T00:02:32.742227Z"
    }
   },
   "outputs": [
    {
     "data": {
      "text/html": [
       "<div>\n",
       "<style scoped>\n",
       "    .dataframe tbody tr th:only-of-type {\n",
       "        vertical-align: middle;\n",
       "    }\n",
       "\n",
       "    .dataframe tbody tr th {\n",
       "        vertical-align: top;\n",
       "    }\n",
       "\n",
       "    .dataframe thead th {\n",
       "        text-align: right;\n",
       "    }\n",
       "</style>\n",
       "<table border=\"1\" class=\"dataframe\">\n",
       "  <thead>\n",
       "    <tr style=\"text-align: right;\">\n",
       "      <th></th>\n",
       "      <th>Gender</th>\n",
       "      <th>Age</th>\n",
       "      <th>Occupation</th>\n",
       "      <th>City_Category</th>\n",
       "      <th>Stay_In_Current_City_Years</th>\n",
       "      <th>Marital_Status</th>\n",
       "      <th>Product_Category_1</th>\n",
       "      <th>Product_Category_2</th>\n",
       "      <th>Product_Category_3</th>\n",
       "      <th>Purchase</th>\n",
       "      <th>F</th>\n",
       "      <th>M</th>\n",
       "      <th>0-17</th>\n",
       "      <th>18-25</th>\n",
       "      <th>26-35</th>\n",
       "      <th>36-45</th>\n",
       "      <th>46-50</th>\n",
       "      <th>51-55</th>\n",
       "      <th>55+</th>\n",
       "      <th>A</th>\n",
       "      <th>B</th>\n",
       "      <th>C</th>\n",
       "      <th>0</th>\n",
       "      <th>1</th>\n",
       "      <th>2</th>\n",
       "      <th>3</th>\n",
       "      <th>4+</th>\n",
       "    </tr>\n",
       "  </thead>\n",
       "  <tbody>\n",
       "    <tr>\n",
       "      <td>0</td>\n",
       "      <td>F</td>\n",
       "      <td>0-17</td>\n",
       "      <td>10</td>\n",
       "      <td>A</td>\n",
       "      <td>2</td>\n",
       "      <td>0</td>\n",
       "      <td>3</td>\n",
       "      <td>0.0</td>\n",
       "      <td>0.0</td>\n",
       "      <td>8370</td>\n",
       "      <td>1</td>\n",
       "      <td>0</td>\n",
       "      <td>1</td>\n",
       "      <td>0</td>\n",
       "      <td>0</td>\n",
       "      <td>0</td>\n",
       "      <td>0</td>\n",
       "      <td>0</td>\n",
       "      <td>0</td>\n",
       "      <td>1</td>\n",
       "      <td>0</td>\n",
       "      <td>0</td>\n",
       "      <td>0</td>\n",
       "      <td>0</td>\n",
       "      <td>1</td>\n",
       "      <td>0</td>\n",
       "      <td>0</td>\n",
       "    </tr>\n",
       "    <tr>\n",
       "      <td>1</td>\n",
       "      <td>F</td>\n",
       "      <td>0-17</td>\n",
       "      <td>10</td>\n",
       "      <td>A</td>\n",
       "      <td>2</td>\n",
       "      <td>0</td>\n",
       "      <td>1</td>\n",
       "      <td>6.0</td>\n",
       "      <td>14.0</td>\n",
       "      <td>15200</td>\n",
       "      <td>1</td>\n",
       "      <td>0</td>\n",
       "      <td>1</td>\n",
       "      <td>0</td>\n",
       "      <td>0</td>\n",
       "      <td>0</td>\n",
       "      <td>0</td>\n",
       "      <td>0</td>\n",
       "      <td>0</td>\n",
       "      <td>1</td>\n",
       "      <td>0</td>\n",
       "      <td>0</td>\n",
       "      <td>0</td>\n",
       "      <td>0</td>\n",
       "      <td>1</td>\n",
       "      <td>0</td>\n",
       "      <td>0</td>\n",
       "    </tr>\n",
       "    <tr>\n",
       "      <td>2</td>\n",
       "      <td>F</td>\n",
       "      <td>0-17</td>\n",
       "      <td>10</td>\n",
       "      <td>A</td>\n",
       "      <td>2</td>\n",
       "      <td>0</td>\n",
       "      <td>12</td>\n",
       "      <td>0.0</td>\n",
       "      <td>0.0</td>\n",
       "      <td>1422</td>\n",
       "      <td>1</td>\n",
       "      <td>0</td>\n",
       "      <td>1</td>\n",
       "      <td>0</td>\n",
       "      <td>0</td>\n",
       "      <td>0</td>\n",
       "      <td>0</td>\n",
       "      <td>0</td>\n",
       "      <td>0</td>\n",
       "      <td>1</td>\n",
       "      <td>0</td>\n",
       "      <td>0</td>\n",
       "      <td>0</td>\n",
       "      <td>0</td>\n",
       "      <td>1</td>\n",
       "      <td>0</td>\n",
       "      <td>0</td>\n",
       "    </tr>\n",
       "    <tr>\n",
       "      <td>3</td>\n",
       "      <td>F</td>\n",
       "      <td>0-17</td>\n",
       "      <td>10</td>\n",
       "      <td>A</td>\n",
       "      <td>2</td>\n",
       "      <td>0</td>\n",
       "      <td>12</td>\n",
       "      <td>14.0</td>\n",
       "      <td>0.0</td>\n",
       "      <td>1057</td>\n",
       "      <td>1</td>\n",
       "      <td>0</td>\n",
       "      <td>1</td>\n",
       "      <td>0</td>\n",
       "      <td>0</td>\n",
       "      <td>0</td>\n",
       "      <td>0</td>\n",
       "      <td>0</td>\n",
       "      <td>0</td>\n",
       "      <td>1</td>\n",
       "      <td>0</td>\n",
       "      <td>0</td>\n",
       "      <td>0</td>\n",
       "      <td>0</td>\n",
       "      <td>1</td>\n",
       "      <td>0</td>\n",
       "      <td>0</td>\n",
       "    </tr>\n",
       "    <tr>\n",
       "      <td>4</td>\n",
       "      <td>M</td>\n",
       "      <td>55+</td>\n",
       "      <td>16</td>\n",
       "      <td>C</td>\n",
       "      <td>4+</td>\n",
       "      <td>0</td>\n",
       "      <td>8</td>\n",
       "      <td>0.0</td>\n",
       "      <td>0.0</td>\n",
       "      <td>7969</td>\n",
       "      <td>0</td>\n",
       "      <td>1</td>\n",
       "      <td>0</td>\n",
       "      <td>0</td>\n",
       "      <td>0</td>\n",
       "      <td>0</td>\n",
       "      <td>0</td>\n",
       "      <td>0</td>\n",
       "      <td>1</td>\n",
       "      <td>0</td>\n",
       "      <td>0</td>\n",
       "      <td>1</td>\n",
       "      <td>0</td>\n",
       "      <td>0</td>\n",
       "      <td>0</td>\n",
       "      <td>0</td>\n",
       "      <td>1</td>\n",
       "    </tr>\n",
       "    <tr>\n",
       "      <td>...</td>\n",
       "      <td>...</td>\n",
       "      <td>...</td>\n",
       "      <td>...</td>\n",
       "      <td>...</td>\n",
       "      <td>...</td>\n",
       "      <td>...</td>\n",
       "      <td>...</td>\n",
       "      <td>...</td>\n",
       "      <td>...</td>\n",
       "      <td>...</td>\n",
       "      <td>...</td>\n",
       "      <td>...</td>\n",
       "      <td>...</td>\n",
       "      <td>...</td>\n",
       "      <td>...</td>\n",
       "      <td>...</td>\n",
       "      <td>...</td>\n",
       "      <td>...</td>\n",
       "      <td>...</td>\n",
       "      <td>...</td>\n",
       "      <td>...</td>\n",
       "      <td>...</td>\n",
       "      <td>...</td>\n",
       "      <td>...</td>\n",
       "      <td>...</td>\n",
       "      <td>...</td>\n",
       "      <td>...</td>\n",
       "    </tr>\n",
       "    <tr>\n",
       "      <td>95</td>\n",
       "      <td>M</td>\n",
       "      <td>0-17</td>\n",
       "      <td>10</td>\n",
       "      <td>A</td>\n",
       "      <td>3</td>\n",
       "      <td>0</td>\n",
       "      <td>1</td>\n",
       "      <td>2.0</td>\n",
       "      <td>4.0</td>\n",
       "      <td>4211</td>\n",
       "      <td>0</td>\n",
       "      <td>1</td>\n",
       "      <td>1</td>\n",
       "      <td>0</td>\n",
       "      <td>0</td>\n",
       "      <td>0</td>\n",
       "      <td>0</td>\n",
       "      <td>0</td>\n",
       "      <td>0</td>\n",
       "      <td>1</td>\n",
       "      <td>0</td>\n",
       "      <td>0</td>\n",
       "      <td>0</td>\n",
       "      <td>0</td>\n",
       "      <td>0</td>\n",
       "      <td>1</td>\n",
       "      <td>0</td>\n",
       "    </tr>\n",
       "    <tr>\n",
       "      <td>96</td>\n",
       "      <td>M</td>\n",
       "      <td>0-17</td>\n",
       "      <td>10</td>\n",
       "      <td>A</td>\n",
       "      <td>3</td>\n",
       "      <td>0</td>\n",
       "      <td>11</td>\n",
       "      <td>0.0</td>\n",
       "      <td>0.0</td>\n",
       "      <td>1539</td>\n",
       "      <td>0</td>\n",
       "      <td>1</td>\n",
       "      <td>1</td>\n",
       "      <td>0</td>\n",
       "      <td>0</td>\n",
       "      <td>0</td>\n",
       "      <td>0</td>\n",
       "      <td>0</td>\n",
       "      <td>0</td>\n",
       "      <td>1</td>\n",
       "      <td>0</td>\n",
       "      <td>0</td>\n",
       "      <td>0</td>\n",
       "      <td>0</td>\n",
       "      <td>0</td>\n",
       "      <td>1</td>\n",
       "      <td>0</td>\n",
       "    </tr>\n",
       "    <tr>\n",
       "      <td>97</td>\n",
       "      <td>M</td>\n",
       "      <td>18-25</td>\n",
       "      <td>16</td>\n",
       "      <td>B</td>\n",
       "      <td>0</td>\n",
       "      <td>0</td>\n",
       "      <td>3</td>\n",
       "      <td>12.0</td>\n",
       "      <td>0.0</td>\n",
       "      <td>3055</td>\n",
       "      <td>0</td>\n",
       "      <td>1</td>\n",
       "      <td>0</td>\n",
       "      <td>1</td>\n",
       "      <td>0</td>\n",
       "      <td>0</td>\n",
       "      <td>0</td>\n",
       "      <td>0</td>\n",
       "      <td>0</td>\n",
       "      <td>0</td>\n",
       "      <td>1</td>\n",
       "      <td>0</td>\n",
       "      <td>1</td>\n",
       "      <td>0</td>\n",
       "      <td>0</td>\n",
       "      <td>0</td>\n",
       "      <td>0</td>\n",
       "    </tr>\n",
       "    <tr>\n",
       "      <td>98</td>\n",
       "      <td>M</td>\n",
       "      <td>18-25</td>\n",
       "      <td>15</td>\n",
       "      <td>A</td>\n",
       "      <td>4+</td>\n",
       "      <td>0</td>\n",
       "      <td>1</td>\n",
       "      <td>8.0</td>\n",
       "      <td>17.0</td>\n",
       "      <td>12099</td>\n",
       "      <td>0</td>\n",
       "      <td>1</td>\n",
       "      <td>0</td>\n",
       "      <td>1</td>\n",
       "      <td>0</td>\n",
       "      <td>0</td>\n",
       "      <td>0</td>\n",
       "      <td>0</td>\n",
       "      <td>0</td>\n",
       "      <td>1</td>\n",
       "      <td>0</td>\n",
       "      <td>0</td>\n",
       "      <td>0</td>\n",
       "      <td>0</td>\n",
       "      <td>0</td>\n",
       "      <td>0</td>\n",
       "      <td>1</td>\n",
       "    </tr>\n",
       "    <tr>\n",
       "      <td>99</td>\n",
       "      <td>M</td>\n",
       "      <td>18-25</td>\n",
       "      <td>15</td>\n",
       "      <td>A</td>\n",
       "      <td>4+</td>\n",
       "      <td>0</td>\n",
       "      <td>5</td>\n",
       "      <td>8.0</td>\n",
       "      <td>0.0</td>\n",
       "      <td>8797</td>\n",
       "      <td>0</td>\n",
       "      <td>1</td>\n",
       "      <td>0</td>\n",
       "      <td>1</td>\n",
       "      <td>0</td>\n",
       "      <td>0</td>\n",
       "      <td>0</td>\n",
       "      <td>0</td>\n",
       "      <td>0</td>\n",
       "      <td>1</td>\n",
       "      <td>0</td>\n",
       "      <td>0</td>\n",
       "      <td>0</td>\n",
       "      <td>0</td>\n",
       "      <td>0</td>\n",
       "      <td>0</td>\n",
       "      <td>1</td>\n",
       "    </tr>\n",
       "  </tbody>\n",
       "</table>\n",
       "<p>100 rows × 27 columns</p>\n",
       "</div>"
      ],
      "text/plain": [
       "   Gender    Age  Occupation City_Category Stay_In_Current_City_Years  \\\n",
       "0       F   0-17          10             A                          2   \n",
       "1       F   0-17          10             A                          2   \n",
       "2       F   0-17          10             A                          2   \n",
       "3       F   0-17          10             A                          2   \n",
       "4       M    55+          16             C                         4+   \n",
       "..    ...    ...         ...           ...                        ...   \n",
       "95      M   0-17          10             A                          3   \n",
       "96      M   0-17          10             A                          3   \n",
       "97      M  18-25          16             B                          0   \n",
       "98      M  18-25          15             A                         4+   \n",
       "99      M  18-25          15             A                         4+   \n",
       "\n",
       "    Marital_Status  Product_Category_1  Product_Category_2  \\\n",
       "0                0                   3                 0.0   \n",
       "1                0                   1                 6.0   \n",
       "2                0                  12                 0.0   \n",
       "3                0                  12                14.0   \n",
       "4                0                   8                 0.0   \n",
       "..             ...                 ...                 ...   \n",
       "95               0                   1                 2.0   \n",
       "96               0                  11                 0.0   \n",
       "97               0                   3                12.0   \n",
       "98               0                   1                 8.0   \n",
       "99               0                   5                 8.0   \n",
       "\n",
       "    Product_Category_3  Purchase  F  M  0-17  18-25  26-35  36-45  46-50  \\\n",
       "0                  0.0      8370  1  0     1      0      0      0      0   \n",
       "1                 14.0     15200  1  0     1      0      0      0      0   \n",
       "2                  0.0      1422  1  0     1      0      0      0      0   \n",
       "3                  0.0      1057  1  0     1      0      0      0      0   \n",
       "4                  0.0      7969  0  1     0      0      0      0      0   \n",
       "..                 ...       ... .. ..   ...    ...    ...    ...    ...   \n",
       "95                 4.0      4211  0  1     1      0      0      0      0   \n",
       "96                 0.0      1539  0  1     1      0      0      0      0   \n",
       "97                 0.0      3055  0  1     0      1      0      0      0   \n",
       "98                17.0     12099  0  1     0      1      0      0      0   \n",
       "99                 0.0      8797  0  1     0      1      0      0      0   \n",
       "\n",
       "    51-55  55+  A  B  C  0  1  2  3  4+  \n",
       "0       0    0  1  0  0  0  0  1  0   0  \n",
       "1       0    0  1  0  0  0  0  1  0   0  \n",
       "2       0    0  1  0  0  0  0  1  0   0  \n",
       "3       0    0  1  0  0  0  0  1  0   0  \n",
       "4       0    1  0  0  1  0  0  0  0   1  \n",
       "..    ...  ... .. .. .. .. .. .. ..  ..  \n",
       "95      0    0  1  0  0  0  0  0  1   0  \n",
       "96      0    0  1  0  0  0  0  0  1   0  \n",
       "97      0    0  0  1  0  1  0  0  0   0  \n",
       "98      0    0  1  0  0  0  0  0  0   1  \n",
       "99      0    0  1  0  0  0  0  0  0   1  \n",
       "\n",
       "[100 rows x 27 columns]"
      ]
     },
     "execution_count": 8,
     "metadata": {},
     "output_type": "execute_result"
    }
   ],
   "source": [
    "train_final = pd.concat([train,dummy_gender,dummy_age,dummy_city, dummy_current_city], axis = 1)\n",
    "train_final.head(100)"
   ]
  },
  {
   "cell_type": "code",
   "execution_count": 9,
   "metadata": {
    "ExecuteTime": {
     "end_time": "2019-11-15T00:02:33.953180Z",
     "start_time": "2019-11-15T00:02:33.947165Z"
    }
   },
   "outputs": [
    {
     "data": {
      "text/plain": [
       "Index(['Gender', 'Age', 'Occupation', 'City_Category',\n",
       "       'Stay_In_Current_City_Years', 'Marital_Status', 'Product_Category_1',\n",
       "       'Product_Category_2', 'Product_Category_3', 'Purchase', 'F', 'M',\n",
       "       '0-17', '18-25', '26-35', '36-45', '46-50', '51-55', '55+', 'A', 'B',\n",
       "       'C', '0', '1', '2', '3', '4+'],\n",
       "      dtype='object')"
      ]
     },
     "execution_count": 9,
     "metadata": {},
     "output_type": "execute_result"
    }
   ],
   "source": [
    "train_final.columns"
   ]
  },
  {
   "cell_type": "code",
   "execution_count": 10,
   "metadata": {
    "ExecuteTime": {
     "end_time": "2019-11-15T00:02:35.235444Z",
     "start_time": "2019-11-15T00:02:34.847479Z"
    }
   },
   "outputs": [
    {
     "name": "stdout",
     "output_type": "stream",
     "text": [
      "<class 'pandas.core.frame.DataFrame'>\n",
      "Int64Index: 545915 entries, 0 to 545914\n",
      "Data columns (total 27 columns):\n",
      "Gender                        545915 non-null object\n",
      "Age                           545915 non-null object\n",
      "Occupation                    545915 non-null int64\n",
      "City_Category                 545915 non-null object\n",
      "Stay_In_Current_City_Years    545915 non-null object\n",
      "Marital_Status                545915 non-null int64\n",
      "Product_Category_1            545915 non-null int64\n",
      "Product_Category_2            545915 non-null float64\n",
      "Product_Category_3            545915 non-null float64\n",
      "Purchase                      545915 non-null int64\n",
      "F                             545915 non-null uint8\n",
      "M                             545915 non-null uint8\n",
      "0-17                          545915 non-null uint8\n",
      "18-25                         545915 non-null uint8\n",
      "26-35                         545915 non-null uint8\n",
      "36-45                         545915 non-null uint8\n",
      "46-50                         545915 non-null uint8\n",
      "51-55                         545915 non-null uint8\n",
      "55+                           545915 non-null uint8\n",
      "A                             545915 non-null uint8\n",
      "B                             545915 non-null uint8\n",
      "C                             545915 non-null uint8\n",
      "0                             545915 non-null uint8\n",
      "1                             545915 non-null uint8\n",
      "2                             545915 non-null uint8\n",
      "3                             545915 non-null uint8\n",
      "4+                            545915 non-null uint8\n",
      "dtypes: float64(2), int64(4), object(4), uint8(17)\n",
      "memory usage: 54.7+ MB\n"
     ]
    }
   ],
   "source": [
    "train_final.info()"
   ]
  },
  {
   "cell_type": "code",
   "execution_count": 11,
   "metadata": {
    "ExecuteTime": {
     "end_time": "2019-11-15T00:02:36.120768Z",
     "start_time": "2019-11-15T00:02:36.058930Z"
    }
   },
   "outputs": [],
   "source": [
    "X = train_final[['Occupation','Marital_Status', 'Product_Category_1',\n",
    "       'Product_Category_2', 'Product_Category_3', 'F', 'M',\n",
    "       '0-17', '18-25', '26-35', '36-45', '46-50', '51-55', '55+', 'A', 'B',\n",
    "       'C', '0', '1', '2', '3', '4+']]\n",
    "y = train_final['Purchase']"
   ]
  },
  {
   "cell_type": "code",
   "execution_count": 12,
   "metadata": {
    "ExecuteTime": {
     "end_time": "2019-11-15T00:02:40.242150Z",
     "start_time": "2019-11-15T00:02:38.218803Z"
    }
   },
   "outputs": [],
   "source": [
    "from sklearn.model_selection import train_test_split\n",
    "\n",
    "X_train, X_test, y_train, y_test = train_test_split(X, y, test_size=0.2, random_state=42)"
   ]
  },
  {
   "cell_type": "code",
   "execution_count": 13,
   "metadata": {
    "ExecuteTime": {
     "end_time": "2019-11-15T00:02:43.870768Z",
     "start_time": "2019-11-15T00:02:42.599701Z"
    }
   },
   "outputs": [
    {
     "name": "stdout",
     "output_type": "stream",
     "text": [
      "LinearRegression(copy_X=True, fit_intercept=True, n_jobs=None, normalize=False)\n"
     ]
    }
   ],
   "source": [
    "from sklearn.linear_model import LinearRegression\n",
    "\n",
    "linear_model = LinearRegression()\n",
    "linear_model.fit(X_train, y_train)\n",
    "print(linear_model.fit(X_train, y_train))"
   ]
  },
  {
   "cell_type": "code",
   "execution_count": 14,
   "metadata": {
    "ExecuteTime": {
     "end_time": "2019-11-15T00:03:04.453078Z",
     "start_time": "2019-11-15T00:02:45.103964Z"
    }
   },
   "outputs": [
    {
     "data": {
      "image/png": "[encoded data removed]",
      "text/plain": [
       "<Figure size 432x288 with 1 Axes>"
      ]
     },
     "metadata": {
      "needs_background": "light"
     },
     "output_type": "display_data"
    }
   ],
   "source": [
    "# Make predictions using the X_test_scaled data\n",
    "# Plot y_test_scaled vs y_test_scaled\n",
    "# Scatter plot y_test_scaled vs predictions\n",
    "\n",
    "### BEGIN SOLUTION\n",
    "predictions = linear_model.predict(X_test)\n",
    "linear_model.fit(X_train, y_train)\n",
    "plt.scatter(linear_model.predict(X_train), linear_model.predict(X_train) - y_train, c=\"blue\", label=\"Training Data\")\n",
    "plt.scatter(linear_model.predict(X_test), linear_model.predict(X_test) - y_test, c=\"orange\", label=\"Testing Data\")\n",
    "plt.legend()\n",
    "plt.hlines(y=0, xmin=y_test.min(), xmax=y_test.max())\n",
    "plt.title(\"Residual Plot\")\n",
    "plt.show()\n",
    "### END SOLUTION"
   ]
  },
  {
   "cell_type": "code",
   "execution_count": 15,
   "metadata": {
    "ExecuteTime": {
     "end_time": "2019-11-15T00:03:05.700348Z",
     "start_time": "2019-11-15T00:03:05.691155Z"
    }
   },
   "outputs": [
    {
     "name": "stdout",
     "output_type": "stream",
     "text": [
      "Intercept parameter: -442121873898449.3\n",
      "                     Coefficient\n",
      "Occupation          5.963674e+00\n",
      "Marital_Status     -5.837523e+01\n",
      "Product_Category_1 -3.189819e+02\n",
      "Product_Category_2  8.488780e+00\n",
      "Product_Category_3  1.473675e+02\n",
      "F                   3.390288e+11\n",
      "M                   3.390288e+11\n",
      "0-17               -6.079113e+13\n",
      "18-25              -6.079113e+13\n",
      "26-35              -6.079113e+13\n",
      "36-45              -6.079113e+13\n",
      "46-50              -6.079113e+13\n",
      "51-55              -6.079113e+13\n",
      "55+                -6.079113e+13\n",
      "A                   1.050005e+14\n",
      "B                   1.050005e+14\n",
      "C                   1.050005e+14\n",
      "0                   3.975735e+14\n",
      "1                   3.975735e+14\n",
      "2                   3.975735e+14\n",
      "3                   3.975735e+14\n",
      "4+                  3.975735e+14\n"
     ]
    }
   ],
   "source": [
    "print('Intercept parameter:', linear_model.intercept_)\n",
    "coefficients = pd.DataFrame(linear_model.coef_, X.columns, columns=['Coefficient'])\n",
    "print(coefficients)"
   ]
  },
  {
   "cell_type": "code",
   "execution_count": 16,
   "metadata": {
    "ExecuteTime": {
     "end_time": "2019-11-15T00:03:06.956584Z",
     "start_time": "2019-11-15T00:03:06.918981Z"
    }
   },
   "outputs": [
    {
     "name": "stdout",
     "output_type": "stream",
     "text": [
      "Predicted purchases (in dollars) for new costumers: [8405.125  8187.     9815.3125 ... 8601.6875 8768.4375 7995.5   ]\n"
     ]
    }
   ],
   "source": [
    "linear_predictions = linear_model.predict(X_test)\n",
    "print(\"Predicted purchases (in dollars) for new costumers:\", linear_predictions)"
   ]
  },
  {
   "cell_type": "code",
   "execution_count": 17,
   "metadata": {
    "ExecuteTime": {
     "end_time": "2019-11-15T00:04:21.616958Z",
     "start_time": "2019-11-15T00:04:21.602820Z"
    }
   },
   "outputs": [
    {
     "name": "stdout",
     "output_type": "stream",
     "text": [
      "MAE: 3543.5956318749254\n",
      "MSE: 21436668.01914804\n",
      "RMSE 4629.9749480043665\n"
     ]
    }
   ],
   "source": [
    "from sklearn import metrics\n",
    "\n",
    "print('MAE:', metrics.mean_absolute_error(y_test, linear_predictions))\n",
    "print('MSE:', metrics.mean_squared_error(y_test, linear_predictions))\n",
    "print('RMSE', np.sqrt(metrics.mean_squared_error(y_test, linear_predictions)))"
   ]
  },
  {
   "cell_type": "code",
   "execution_count": 18,
   "metadata": {
    "ExecuteTime": {
     "end_time": "2019-11-15T00:04:39.032551Z",
     "start_time": "2019-11-15T00:04:39.017592Z"
    }
   },
   "outputs": [
    {
     "data": {
      "text/html": [
       "<div>\n",
       "<style scoped>\n",
       "    .dataframe tbody tr th:only-of-type {\n",
       "        vertical-align: middle;\n",
       "    }\n",
       "\n",
       "    .dataframe tbody tr th {\n",
       "        vertical-align: top;\n",
       "    }\n",
       "\n",
       "    .dataframe thead th {\n",
       "        text-align: right;\n",
       "    }\n",
       "</style>\n",
       "<table border=\"1\" class=\"dataframe\">\n",
       "  <thead>\n",
       "    <tr style=\"text-align: right;\">\n",
       "      <th></th>\n",
       "      <th>0</th>\n",
       "    </tr>\n",
       "  </thead>\n",
       "  <tbody>\n",
       "    <tr>\n",
       "      <td>0</td>\n",
       "      <td>8405.1250</td>\n",
       "    </tr>\n",
       "    <tr>\n",
       "      <td>1</td>\n",
       "      <td>8187.0000</td>\n",
       "    </tr>\n",
       "    <tr>\n",
       "      <td>2</td>\n",
       "      <td>9815.3125</td>\n",
       "    </tr>\n",
       "    <tr>\n",
       "      <td>3</td>\n",
       "      <td>12035.8750</td>\n",
       "    </tr>\n",
       "    <tr>\n",
       "      <td>4</td>\n",
       "      <td>8872.3750</td>\n",
       "    </tr>\n",
       "    <tr>\n",
       "      <td>...</td>\n",
       "      <td>...</td>\n",
       "    </tr>\n",
       "    <tr>\n",
       "      <td>109178</td>\n",
       "      <td>8150.2500</td>\n",
       "    </tr>\n",
       "    <tr>\n",
       "      <td>109179</td>\n",
       "      <td>10418.8125</td>\n",
       "    </tr>\n",
       "    <tr>\n",
       "      <td>109180</td>\n",
       "      <td>8601.6875</td>\n",
       "    </tr>\n",
       "    <tr>\n",
       "      <td>109181</td>\n",
       "      <td>8768.4375</td>\n",
       "    </tr>\n",
       "    <tr>\n",
       "      <td>109182</td>\n",
       "      <td>7995.5000</td>\n",
       "    </tr>\n",
       "  </tbody>\n",
       "</table>\n",
       "<p>109183 rows × 1 columns</p>\n",
       "</div>"
      ],
      "text/plain": [
       "                 0\n",
       "0        8405.1250\n",
       "1        8187.0000\n",
       "2        9815.3125\n",
       "3       12035.8750\n",
       "4        8872.3750\n",
       "...            ...\n",
       "109178   8150.2500\n",
       "109179  10418.8125\n",
       "109180   8601.6875\n",
       "109181   8768.4375\n",
       "109182   7995.5000\n",
       "\n",
       "[109183 rows x 1 columns]"
      ]
     },
     "execution_count": 18,
     "metadata": {},
     "output_type": "execute_result"
    }
   ],
   "source": [
    "linear_predictions_df = pd.DataFrame(linear_predictions)\n",
    "linear_predictions_df"
   ]
  },
  {
   "cell_type": "code",
   "execution_count": 19,
   "metadata": {
    "ExecuteTime": {
     "end_time": "2019-11-15T00:05:04.011340Z",
     "start_time": "2019-11-15T00:04:41.852625Z"
    }
   },
   "outputs": [
    {
     "name": "stdout",
     "output_type": "stream",
     "text": [
      "MAE: 3543.5899961167142\n",
      "MSE: 21436519.87173312\n",
      "RMSE 4629.95894924924\n"
     ]
    },
    {
     "name": "stderr",
     "output_type": "stream",
     "text": [
      "C:\\Users\\pablo\\Anaconda3\\envs\\PythonData\\lib\\site-packages\\sklearn\\linear_model\\coordinate_descent.py:475: ConvergenceWarning: Objective did not converge. You might want to increase the number of iterations. Duality gap: 39889613686.06738, tolerance: 1082986544.1517148\n",
      "  positive)\n"
     ]
    }
   ],
   "source": [
    "# LASSO model\n",
    "# Note: Use an alpha of .01 when creating the model for this activity\n",
    "from sklearn.linear_model import Lasso\n",
    "from sklearn.metrics import mean_squared_error, mean_absolute_error\n",
    "\n",
    "### BEGIN SOLUTION\n",
    "lasso = Lasso(alpha=.01).fit(X_train, y_train)\n",
    "\n",
    "lasso_predictions = lasso.predict(X_test)\n",
    "\n",
    "# MSE = mean_squared_error(y_test, lasso_predictions)\n",
    "# r2 = lasso.score(X_test, y_test)\n",
    "### END SOLUTION\n",
    "\n",
    "from sklearn import metrics\n",
    "\n",
    "print('MAE:', metrics.mean_absolute_error(y_test, lasso_predictions))\n",
    "print('MSE:', metrics.mean_squared_error(y_test, lasso_predictions))\n",
    "print('RMSE', np.sqrt(metrics.mean_squared_error(y_test, lasso_predictions)))"
   ]
  },
  {
   "cell_type": "code",
   "execution_count": 20,
   "metadata": {
    "ExecuteTime": {
     "end_time": "2019-11-15T00:05:30.112258Z",
     "start_time": "2019-11-15T00:05:26.403919Z"
    }
   },
   "outputs": [
    {
     "name": "stdout",
     "output_type": "stream",
     "text": [
      "MAE: 3543.1783623577803\n",
      "MSE: 21436455.899525866\n",
      "RMSE 4629.952040737125\n"
     ]
    }
   ],
   "source": [
    "# ElasticNet model\n",
    "# Note: Use an alpha of .01 when creating the model for this activity\n",
    "from sklearn.linear_model import ElasticNet\n",
    "\n",
    "### BEGIN SOLUTION\n",
    "elasticnet = ElasticNet(alpha=.01).fit(X_train, y_train)\n",
    "\n",
    "elastic_predictions = elasticnet.predict(X_test)\n",
    "\n",
    "# MSE = mean_squared_error(y_test, elastic_predictions)\n",
    "# r2 = elasticnet.score(X_test, y_test)\n",
    "### END SOLUTION\n",
    "\n",
    "print('MAE:', metrics.mean_absolute_error(y_test, elastic_predictions))\n",
    "print('MSE:', metrics.mean_squared_error(y_test, elastic_predictions))\n",
    "print('RMSE', np.sqrt(metrics.mean_squared_error(y_test, elastic_predictions)))\n"
   ]
  },
  {
   "cell_type": "code",
   "execution_count": 21,
   "metadata": {
    "ExecuteTime": {
     "end_time": "2019-11-15T00:05:31.882609Z",
     "start_time": "2019-11-15T00:05:31.501531Z"
    }
   },
   "outputs": [
    {
     "name": "stdout",
     "output_type": "stream",
     "text": [
      "MAE: 3543.592544568055\n",
      "MSE: 21436520.285921\n",
      "RMSE 4629.958993978348\n"
     ]
    }
   ],
   "source": [
    "# Ridge model\n",
    "# Note: Use an alpha of .01 when creating the model for this activity\n",
    "from sklearn.linear_model import Ridge\n",
    "\n",
    "### BEGIN SOLUTION\n",
    "ridge = Ridge(alpha=.01).fit(X_train, y_train)\n",
    "\n",
    "ridge_predictions = ridge.predict(X_test)\n",
    "\n",
    "# MSE = mean_squared_error(y_test, predictions)\n",
    "# r2 = ridge.score(X_test, y_test)\n",
    "### END SOLUTION\n",
    "\n",
    "print('MAE:', metrics.mean_absolute_error(y_test, ridge_predictions))\n",
    "print('MSE:', metrics.mean_squared_error(y_test, ridge_predictions))\n",
    "print('RMSE', np.sqrt(metrics.mean_squared_error(y_test, ridge_predictions)))"
   ]
  },
  {
   "cell_type": "code",
   "execution_count": 22,
   "metadata": {
    "ExecuteTime": {
     "end_time": "2019-11-15T00:05:36.557860Z",
     "start_time": "2019-11-15T00:05:33.721684Z"
    }
   },
   "outputs": [
    {
     "name": "stdout",
     "output_type": "stream",
     "text": [
      "Purchase Predictions: [ 7674.25436568  7674.25436568 10715.95918367 ...  6146.54627034\n",
      "  6146.54627034  7359.61284184]\n",
      "MAE: 2260.8566227375386\n",
      "MSE: 8955775.999668341\n",
      "RMSE 2992.620256509058\n",
      "Model Accuracy (score): 0.6425674001087862\n"
     ]
    }
   ],
   "source": [
    "from sklearn.tree import DecisionTreeRegressor  \n",
    "regressor_model = DecisionTreeRegressor(max_depth=8, min_samples_leaf=150)\n",
    "regressor_model = regressor_model.fit(X_train, y_train)\n",
    "regressor_predictions = regressor_model.predict(X_test)\n",
    "regressor_score = regressor_model.score(X_train,y_train)\n",
    "\n",
    "print('Purchase Predictions:', regressor_predictions)\n",
    "print('MAE:', metrics.mean_absolute_error(y_test, regressor_predictions))\n",
    "print('MSE:', metrics.mean_squared_error(y_test, regressor_predictions))\n",
    "print('RMSE', np.sqrt(metrics.mean_squared_error(y_test, regressor_predictions)))\n",
    "print('Model Accuracy (score):', regressor_score)"
   ]
  },
  {
   "cell_type": "code",
   "execution_count": 23,
   "metadata": {
    "ExecuteTime": {
     "end_time": "2019-11-15T00:06:18.703700Z",
     "start_time": "2019-11-15T00:05:53.754098Z"
    }
   },
   "outputs": [
    {
     "data": {
      "image/png": "[encoded data removed]",
      "text/plain": [
       "<Figure size 432x288 with 1 Axes>"
      ]
     },
     "metadata": {
      "needs_background": "light"
     },
     "output_type": "display_data"
    }
   ],
   "source": [
    "# Make predictions using the X_test_scaled data\n",
    "# Plot y_test_scaled vs y_test_scaled\n",
    "# Scatter plot y_test_scaled vs predictions\n",
    "\n",
    "### BEGIN SOLUTION\n",
    "regressor_predictions= regressor_model.predict(X_test)\n",
    "regressor_model.fit(X_train, y_train)\n",
    "plt.scatter(regressor_model.predict(X_train), regressor_model.predict(X_train) - y_train, c=\"blue\", label=\"Training Data\")\n",
    "plt.scatter(regressor_model.predict(X_test), regressor_model.predict(X_test) - y_test, c=\"orange\", label=\"Testing Data\")\n",
    "plt.legend()\n",
    "plt.hlines(y=0, xmin=y_test.min(), xmax=y_test.max())\n",
    "plt.title(\"Residual Plot\")\n",
    "plt.show()\n",
    "### END SOLUTION"
   ]
  },
  {
   "cell_type": "code",
   "execution_count": 26,
   "metadata": {
    "ExecuteTime": {
     "end_time": "2019-11-15T00:12:15.907063Z",
     "start_time": "2019-11-15T00:12:15.902076Z"
    }
   },
   "outputs": [],
   "source": [
    "## If we had a classification problem, we should use random forest\n",
    "\n",
    "# from sklearn.ensemble import RandomForestClassifier\n",
    "# randomforest_model = RandomForestClassifier(max_depth=8, min_samples_leaf=150)\n",
    "# randomforest_model = randomforest_model.fit(X_train, y_train)\n",
    "# randomforest_predictions = randomforest_model.predict(X_test)\n",
    "# randomforest_score = randomforest_model.score(X_train,y_train)\n",
    "\n",
    "# print('Purchase Predictions:', randomforest_predictions)\n",
    "# print('MAE:', metrics.mean_absolute_error(y_test, randomforest_predictions))\n",
    "# print('MSE:', metrics.mean_squared_error(y_test, randomforest_predictions))\n",
    "# print('RMSE', np.sqrt(metrics.mean_squared_error(y_test, randomforest_predictions)))\n",
    "# print('Model Accuracy (score):', randomforest_score)"
   ]
  },
  {
   "cell_type": "code",
   "execution_count": null,
   "metadata": {
    "ExecuteTime": {
     "end_time": "2019-11-14T20:36:42.769960Z",
     "start_time": "2019-11-14T20:36:42.767394Z"
    }
   },
   "outputs": [],
   "source": [
    "\n",
    "# # import export_graphviz \n",
    "# from sklearn.tree import export_graphviz  \n",
    "  \n",
    "# # export the decision tree to a tree.dot file \n",
    "# # for visualizing the plot easily anywhere \n",
    "# export_graphviz(regressor_model, out_file ='tree.dot', \n",
    "#                feature_names =['Purchase']) "
   ]
  },
  {
   "cell_type": "markdown",
   "metadata": {},
   "source": [
    "## Huy Model"
   ]
  },
  {
   "cell_type": "code",
   "execution_count": null,
   "metadata": {
    "ExecuteTime": {
     "end_time": "2019-11-14T19:26:37.724392Z",
     "start_time": "2019-11-14T19:26:36.939493Z"
    }
   },
   "outputs": [],
   "source": [
    "# Read both train and test data\n",
    "train2 = pd.read_csv(\"../../data/trainCLEAN.csv\")\n",
    "test2 = pd.read_csv(\"../../data/testCLEAN.csv\")"
   ]
  },
  {
   "cell_type": "code",
   "execution_count": null,
   "metadata": {
    "ExecuteTime": {
     "end_time": "2019-11-14T19:26:38.133361Z",
     "start_time": "2019-11-14T19:26:38.080503Z"
    }
   },
   "outputs": [],
   "source": [
    "# Lets drop User ID and Product ID\n",
    "drop_columns = ['User_ID', 'Product_ID']\n",
    "train2.drop(drop_columns, inplace = True, axis =1)"
   ]
  },
  {
   "cell_type": "code",
   "execution_count": null,
   "metadata": {
    "ExecuteTime": {
     "end_time": "2019-11-14T19:26:39.581486Z",
     "start_time": "2019-11-14T19:26:38.787611Z"
    }
   },
   "outputs": [],
   "source": [
    "import pickle\n",
    "from sklearn.pipeline import Pipeline\n",
    "from sklearn.preprocessing import StandardScaler, MinMaxScaler\n",
    "from sklearn.metrics import f1_score, accuracy_score\n",
    "from sklearn.ensemble import GradientBoostingClassifier, RandomForestClassifier\n",
    "from xgboost import XGBClassifier\n",
    "from lightgbm import LGBMClassifier\n",
    "from sklearn.model_selection import RandomizedSearchCV, KFold, train_test_split, cross_val_score\n",
    "from sklearn.linear_model import LogisticRegression, LinearRegression\n",
    "import tqdm\n",
    "import math\n",
    "from tpot import TPOTClassifier\n",
    "from sklearn.metrics import f1_score, accuracy_score\n",
    "\n",
    "def evaluate(pipeline, X_train, X_test, y_train, y_test):\n",
    "    '''\n",
    "    Evaluate a pipeline on training and test datasets\n",
    "    '''    \n",
    "    pipeline.fit(X_train, y_train)\n",
    "    y_train_hat = pipeline.predict(X_train)\n",
    "    y_test_hat = pipeline.predict(X_test)\n",
    "    train_f1 = f1_score(y_train_hat, y_train)\n",
    "    train_acc = accuracy_score(y_train_hat, y_train)\n",
    "    test_f1 = f1_score(y_test_hat, y_test)\n",
    "    test_acc = accuracy_score(y_test_hat, y_test)\n",
    "\n",
    "    print(f\"========== Predictor: {type(pipeline).__name__} ==========\")\n",
    "    print(f\"Training result: f1: {train_f1:.3f}, acc: {train_acc:.3f}\")\n",
    "    print(f\"Test result: f1: {test_f1:.3f}, acc: {test_acc:.3f}\")\n",
    "    print()\n"
   ]
  },
  {
   "cell_type": "code",
   "execution_count": null,
   "metadata": {
    "ExecuteTime": {
     "end_time": "2019-11-14T19:26:40.114085Z",
     "start_time": "2019-11-14T19:26:40.067211Z"
    }
   },
   "outputs": [],
   "source": [
    "# build X and y matrices\n",
    "X = train_final[['Occupation','Marital_Status', 'Product_Category_1',\n",
    "       'Product_Category_2', 'Product_Category_3', 'F', 'M',\n",
    "       '0-17', '18-25', '26-35', '36-45', '46-50', '51-55', '55+', 'A', 'B',\n",
    "       'C', '0', '1', '2', '3', '4+']]\n",
    "y = train_final[['Purchase']].values.reshape(-1)"
   ]
  },
  {
   "cell_type": "code",
   "execution_count": null,
   "metadata": {
    "ExecuteTime": {
     "end_time": "2019-11-14T19:26:41.109422Z",
     "start_time": "2019-11-14T19:26:40.979768Z"
    }
   },
   "outputs": [],
   "source": [
    "# split to training and testing sets\n",
    "X_train, X_test, y_train, y_test = train_test_split(X, y, test_size=0.2, random_state=42)"
   ]
  },
  {
   "cell_type": "code",
   "execution_count": null,
   "metadata": {
    "ExecuteTime": {
     "end_time": "2019-11-14T19:28:16.228975Z",
     "start_time": "2019-11-14T19:26:41.979208Z"
    }
   },
   "outputs": [],
   "source": [
    "# call TPOT and wait\n",
    "tpot_clf = TPOTClassifier(generations=5, population_size=1, verbosity=2, n_jobs=-1,\n",
    "    max_time_mins=1, scoring='f1')\n",
    "tpot_clf.fit(X_train, y_train)\n",
    "\n",
    "# evaluate result\n",
    "y_hat_test = tpot_clf.predict(X_test)\n",
    "print(f'F1: {f1_score(y_test, y_hat_test)}')\n",
    "print(f'Acc: {accuracy_score(y_test, y_hat_test)}')\n",
    "\n",
    "# # export model into python code\n",
    "# tpot_clf.export('tpot_model.py')"
   ]
  },
  {
   "cell_type": "code",
   "execution_count": null,
   "metadata": {},
   "outputs": [],
   "source": []
  }
 ],
 "metadata": {
  "kernelspec": {
   "display_name": "Python 3",
   "language": "python",
   "name": "python3"
  },
  "language_info": {
   "codemirror_mode": {
    "name": "ipython",
    "version": 3
   },
   "file_extension": ".py",
   "mimetype": "text/x-python",
   "name": "python",
   "nbconvert_exporter": "python",
   "pygments_lexer": "ipython3",
   "version": "3.6.8"
  },
  "toc": {
   "base_numbering": 1,
   "nav_menu": {},
   "number_sections": true,
   "sideBar": true,
   "skip_h1_title": false,
   "title_cell": "Table of Contents",
   "title_sidebar": "Contents",
   "toc_cell": false,
   "toc_position": {},
   "toc_section_display": true,
   "toc_window_display": false
  },
  "varInspector": {
   "cols": {
    "lenName": 16,
    "lenType": 16,
    "lenVar": 40
   },
   "kernels_config": {
    "python": {
     "delete_cmd_postfix": "",
     "delete_cmd_prefix": "del ",
     "library": "var_list.py",
     "varRefreshCmd": "print(var_dic_list())"
    },
    "r": {
     "delete_cmd_postfix": ") ",
     "delete_cmd_prefix": "rm(",
     "library": "var_list.r",
     "varRefreshCmd": "cat(var_dic_list()) "
    }
   },
   "types_to_exclude": [
    "module",
    "function",
    "builtin_function_or_method",
    "instance",
    "_Feature"
   ],
   "window_display": false
  }
 },
 "nbformat": 4,
 "nbformat_minor": 2
}
