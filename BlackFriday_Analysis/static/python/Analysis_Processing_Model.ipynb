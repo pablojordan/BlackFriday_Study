{
 "cells": [
  {
   "cell_type": "markdown",
   "metadata": {
    "slideshow": {
     "slide_type": "slide"
    },
    "toc": true
   },
   "source": [
    "<h1>Table of Contents<span class=\"tocSkip\"></span></h1>\n",
    "<div class=\"toc\"><ul class=\"toc-item\"><li><span><a href=\"#Choosing-the-Right-Estimator---Scikit-Learn\" data-toc-modified-id=\"Choosing-the-Right-Estimator---Scikit-Learn-1\"><span class=\"toc-item-num\">1&nbsp;&nbsp;</span>Choosing the Right Estimator - Scikit-Learn</a></span></li><li><span><a href=\"#Import-Dependencies\" data-toc-modified-id=\"Import-Dependencies-2\"><span class=\"toc-item-num\">2&nbsp;&nbsp;</span>Import Dependencies</a></span></li><li><span><a href=\"#Train-&amp;-Test-File-CleanUp\" data-toc-modified-id=\"Train-&amp;-Test-File-CleanUp-3\"><span class=\"toc-item-num\">3&nbsp;&nbsp;</span>Train &amp; Test File CleanUp</a></span><ul class=\"toc-item\"><li><span><a href=\"#Correlation-Matrix\" data-toc-modified-id=\"Correlation-Matrix-3.1\"><span class=\"toc-item-num\">3.1&nbsp;&nbsp;</span>Correlation Matrix</a></span></li><li><span><a href=\"#Products-Categories-analysis\" data-toc-modified-id=\"Products-Categories-analysis-3.2\"><span class=\"toc-item-num\">3.2&nbsp;&nbsp;</span>Products Categories analysis</a></span></li></ul></li><li><span><a href=\"#Data-Preparation-for-Model\" data-toc-modified-id=\"Data-Preparation-for-Model-4\"><span class=\"toc-item-num\">4&nbsp;&nbsp;</span>Data Preparation for Model</a></span><ul class=\"toc-item\"><li><span><a href=\"#Save-clean-files\" data-toc-modified-id=\"Save-clean-files-4.1\"><span class=\"toc-item-num\">4.1&nbsp;&nbsp;</span>Save clean files</a></span></li></ul></li><li><span><a href=\"#Linear-Regression-Model-Non-Scaled\" data-toc-modified-id=\"Linear-Regression-Model-Non-Scaled-5\"><span class=\"toc-item-num\">5&nbsp;&nbsp;</span>Linear Regression Model Non-Scaled</a></span><ul class=\"toc-item\"><li><span><a href=\"#Multivariate-Linear-Regression\" data-toc-modified-id=\"Multivariate-Linear-Regression-5.1\"><span class=\"toc-item-num\">5.1&nbsp;&nbsp;</span>Multivariate Linear Regression</a></span></li><li><span><a href=\"#Regression-Coeffiecients\" data-toc-modified-id=\"Regression-Coeffiecients-5.2\"><span class=\"toc-item-num\">5.2&nbsp;&nbsp;</span>Regression Coeffiecients</a></span></li><li><span><a href=\"#Correlation-heatmap\" data-toc-modified-id=\"Correlation-heatmap-5.3\"><span class=\"toc-item-num\">5.3&nbsp;&nbsp;</span>Correlation heatmap</a></span></li><li><span><a href=\"#LASSO-Model\" data-toc-modified-id=\"LASSO-Model-5.4\"><span class=\"toc-item-num\">5.4&nbsp;&nbsp;</span>LASSO Model</a></span></li><li><span><a href=\"#Ridge-Model\" data-toc-modified-id=\"Ridge-Model-5.5\"><span class=\"toc-item-num\">5.5&nbsp;&nbsp;</span>Ridge Model</a></span></li><li><span><a href=\"#ElasticNet-Model\" data-toc-modified-id=\"ElasticNet-Model-5.6\"><span class=\"toc-item-num\">5.6&nbsp;&nbsp;</span>ElasticNet Model</a></span></li></ul></li><li><span><a href=\"#Regression-Model---Scaled-&amp;-Get-Dummies\" data-toc-modified-id=\"Regression-Model---Scaled-&amp;-Get-Dummies-6\"><span class=\"toc-item-num\">6&nbsp;&nbsp;</span>Regression Model - Scaled &amp; Get Dummies</a></span><ul class=\"toc-item\"><li><span><a href=\"#StandardScaler\" data-toc-modified-id=\"StandardScaler-6.1\"><span class=\"toc-item-num\">6.1&nbsp;&nbsp;</span>StandardScaler</a></span></li><li><span><a href=\"#Multivariate-Linear-Regression\" data-toc-modified-id=\"Multivariate-Linear-Regression-6.2\"><span class=\"toc-item-num\">6.2&nbsp;&nbsp;</span>Multivariate Linear Regression</a></span></li><li><span><a href=\"#Coefficients-Correlation\" data-toc-modified-id=\"Coefficients-Correlation-6.3\"><span class=\"toc-item-num\">6.3&nbsp;&nbsp;</span>Coefficients Correlation</a></span></li><li><span><a href=\"#LASSO-Model\" data-toc-modified-id=\"LASSO-Model-6.4\"><span class=\"toc-item-num\">6.4&nbsp;&nbsp;</span>LASSO Model</a></span></li><li><span><a href=\"#Ridge-Model\" data-toc-modified-id=\"Ridge-Model-6.5\"><span class=\"toc-item-num\">6.5&nbsp;&nbsp;</span>Ridge Model</a></span></li><li><span><a href=\"#ElasticNet-Model\" data-toc-modified-id=\"ElasticNet-Model-6.6\"><span class=\"toc-item-num\">6.6&nbsp;&nbsp;</span>ElasticNet Model</a></span></li></ul></li><li><span><a href=\"#Decision-Tree-Regressor-Model\" data-toc-modified-id=\"Decision-Tree-Regressor-Model-7\"><span class=\"toc-item-num\">7&nbsp;&nbsp;</span>Decision Tree Regressor Model</a></span><ul class=\"toc-item\"><li><span><a href=\"#Model-Results\" data-toc-modified-id=\"Model-Results-7.1\"><span class=\"toc-item-num\">7.1&nbsp;&nbsp;</span>Model Results</a></span></li><li><span><a href=\"#Model-Coefficients\" data-toc-modified-id=\"Model-Coefficients-7.2\"><span class=\"toc-item-num\">7.2&nbsp;&nbsp;</span>Model Coefficients</a></span></li><li><span><a href=\"#Predictions-Comparison\" data-toc-modified-id=\"Predictions-Comparison-7.3\"><span class=\"toc-item-num\">7.3&nbsp;&nbsp;</span>Predictions Comparison</a></span></li></ul></li><li><span><a href=\"#Predict-Original-Test-File\" data-toc-modified-id=\"Predict-Original-Test-File-8\"><span class=\"toc-item-num\">8&nbsp;&nbsp;</span>Predict Original Test File</a></span></li></ul></div>"
   ]
  },
  {
   "cell_type": "markdown",
   "metadata": {
    "slideshow": {
     "slide_type": "slide"
    }
   },
   "source": [
    "## Choosing the Right Estimator - Scikit-Learn"
   ]
  },
  {
   "cell_type": "markdown",
   "metadata": {
    "ExecuteTime": {
     "end_time": "2019-11-16T06:07:55.841186Z",
     "start_time": "2019-11-16T06:07:55.835203Z"
    },
    "slideshow": {
     "slide_type": "subslide"
    }
   },
   "source": [
    "<img src=\"../images/scikitlearn_estimator.png\">"
   ]
  },
  {
   "cell_type": "markdown",
   "metadata": {
    "slideshow": {
     "slide_type": "slide"
    }
   },
   "source": [
    "## Import Dependencies"
   ]
  },
  {
   "cell_type": "code",
   "execution_count": 1,
   "metadata": {
    "ExecuteTime": {
     "end_time": "2019-11-16T18:15:12.933190Z",
     "start_time": "2019-11-16T18:15:11.822140Z"
    },
    "slideshow": {
     "slide_type": "subslide"
    }
   },
   "outputs": [],
   "source": [
    "import os\n",
    "import pandas as pd\n",
    "import numpy as np\n",
    "import seaborn as sns\n",
    "import matplotlib.pyplot as plt\n",
    "#To visualize the whole grid\n",
    "pd.options.display.max_columns = 999"
   ]
  },
  {
   "cell_type": "markdown",
   "metadata": {
    "slideshow": {
     "slide_type": "slide"
    }
   },
   "source": [
    "## Train & Test File CleanUp"
   ]
  },
  {
   "cell_type": "code",
   "execution_count": 2,
   "metadata": {
    "ExecuteTime": {
     "end_time": "2019-11-16T18:15:13.502666Z",
     "start_time": "2019-11-16T18:15:12.935184Z"
    },
    "slideshow": {
     "slide_type": "subslide"
    }
   },
   "outputs": [],
   "source": [
    "# Read both train and test data\n",
    "train = pd.read_csv(\"../../data/train.csv\")\n",
    "test = pd.read_csv(\"../../data/test.csv\")"
   ]
  },
  {
   "cell_type": "code",
   "execution_count": 3,
   "metadata": {
    "ExecuteTime": {
     "end_time": "2019-11-16T18:15:13.630324Z",
     "start_time": "2019-11-16T18:15:13.504660Z"
    },
    "slideshow": {
     "slide_type": "skip"
    }
   },
   "outputs": [
    {
     "data": {
      "text/plain": [
       "Product_Category_3            162562\n",
       "Product_Category_2             72344\n",
       "Product_Category_1                 0\n",
       "Marital_Status                     0\n",
       "Stay_In_Current_City_Years         0\n",
       "City_Category                      0\n",
       "Occupation                         0\n",
       "Age                                0\n",
       "Gender                             0\n",
       "Product_ID                         0\n",
       "User_ID                            0\n",
       "dtype: int64"
      ]
     },
     "execution_count": 3,
     "metadata": {},
     "output_type": "execute_result"
    }
   ],
   "source": [
    "# Check for missing values in the train and test file \n",
    "null_values_train = train.isnull().sum().sort_values(ascending = False)\n",
    "null_values_train\n",
    "\n",
    "null_values_test = test.isnull().sum().sort_values(ascending = False)\n",
    "null_values_test"
   ]
  },
  {
   "cell_type": "code",
   "execution_count": 4,
   "metadata": {
    "ExecuteTime": {
     "end_time": "2019-11-16T18:15:13.651268Z",
     "start_time": "2019-11-16T18:15:13.631322Z"
    },
    "scrolled": true,
    "slideshow": {
     "slide_type": "subslide"
    }
   },
   "outputs": [
    {
     "name": "stdout",
     "output_type": "stream",
     "text": [
      "Product_Category_3    69.672659\n",
      "Product_Category_2    31.566643\n",
      "dtype: float64 %\n",
      "Product_Category_3    29.553073\n",
      "Product_Category_2    13.151829\n",
      "dtype: float64 %\n"
     ]
    }
   ],
   "source": [
    "# Because Product 3 and 2 have missing values, calculate the % of missing values\n",
    "null_values_train = null_values_train[null_values_train >0]/train.shape[0]\n",
    "null_values_test = null_values_test[null_values_test >0]/train.shape[0]\n",
    "print(f'{null_values_train*100} %')\n",
    "print(f'{null_values_test*100} %')"
   ]
  },
  {
   "cell_type": "code",
   "execution_count": 5,
   "metadata": {
    "ExecuteTime": {
     "end_time": "2019-11-16T18:15:13.875703Z",
     "start_time": "2019-11-16T18:15:13.652265Z"
    },
    "slideshow": {
     "slide_type": "subslide"
    }
   },
   "outputs": [],
   "source": [
    "# Convert all null values to 0. It is assumed that the if it is null value, the customer did not buy such product\n",
    "train = train.fillna(0)\n",
    "test =  test.fillna(0)"
   ]
  },
  {
   "cell_type": "code",
   "execution_count": 6,
   "metadata": {
    "ExecuteTime": {
     "end_time": "2019-11-16T18:15:13.882685Z",
     "start_time": "2019-11-16T18:15:13.877662Z"
    },
    "slideshow": {
     "slide_type": "skip"
    }
   },
   "outputs": [
    {
     "data": {
      "text/plain": [
       "User_ID                         int64\n",
       "Product_ID                     object\n",
       "Gender                         object\n",
       "Age                            object\n",
       "Occupation                      int64\n",
       "City_Category                  object\n",
       "Stay_In_Current_City_Years     object\n",
       "Marital_Status                  int64\n",
       "Product_Category_1              int64\n",
       "Product_Category_2            float64\n",
       "Product_Category_3            float64\n",
       "Purchase                        int64\n",
       "dtype: object"
      ]
     },
     "execution_count": 6,
     "metadata": {},
     "output_type": "execute_result"
    }
   ],
   "source": [
    "train.dtypes"
   ]
  },
  {
   "cell_type": "code",
   "execution_count": 7,
   "metadata": {
    "ExecuteTime": {
     "end_time": "2019-11-16T18:15:13.952462Z",
     "start_time": "2019-11-16T18:15:13.883647Z"
    },
    "slideshow": {
     "slide_type": "subslide"
    }
   },
   "outputs": [
    {
     "data": {
      "text/html": [
       "<div>\n",
       "<style scoped>\n",
       "    .dataframe tbody tr th:only-of-type {\n",
       "        vertical-align: middle;\n",
       "    }\n",
       "\n",
       "    .dataframe tbody tr th {\n",
       "        vertical-align: top;\n",
       "    }\n",
       "\n",
       "    .dataframe thead th {\n",
       "        text-align: right;\n",
       "    }\n",
       "</style>\n",
       "<table border=\"1\" class=\"dataframe\">\n",
       "  <thead>\n",
       "    <tr style=\"text-align: right;\">\n",
       "      <th></th>\n",
       "      <th>Gender</th>\n",
       "      <th>Age</th>\n",
       "      <th>Occupation</th>\n",
       "      <th>City_Category</th>\n",
       "      <th>Stay_In_Current_City_Years</th>\n",
       "      <th>Marital_Status</th>\n",
       "      <th>Product_Category_1</th>\n",
       "      <th>Product_Category_2</th>\n",
       "      <th>Product_Category_3</th>\n",
       "    </tr>\n",
       "  </thead>\n",
       "  <tbody>\n",
       "    <tr>\n",
       "      <td>0</td>\n",
       "      <td>M</td>\n",
       "      <td>46-50</td>\n",
       "      <td>7</td>\n",
       "      <td>B</td>\n",
       "      <td>2</td>\n",
       "      <td>1</td>\n",
       "      <td>1</td>\n",
       "      <td>11.0</td>\n",
       "      <td>0.0</td>\n",
       "    </tr>\n",
       "    <tr>\n",
       "      <td>1</td>\n",
       "      <td>M</td>\n",
       "      <td>26-35</td>\n",
       "      <td>17</td>\n",
       "      <td>C</td>\n",
       "      <td>0</td>\n",
       "      <td>0</td>\n",
       "      <td>3</td>\n",
       "      <td>5.0</td>\n",
       "      <td>0.0</td>\n",
       "    </tr>\n",
       "    <tr>\n",
       "      <td>2</td>\n",
       "      <td>F</td>\n",
       "      <td>36-45</td>\n",
       "      <td>1</td>\n",
       "      <td>B</td>\n",
       "      <td>4+</td>\n",
       "      <td>1</td>\n",
       "      <td>5</td>\n",
       "      <td>14.0</td>\n",
       "      <td>0.0</td>\n",
       "    </tr>\n",
       "    <tr>\n",
       "      <td>3</td>\n",
       "      <td>F</td>\n",
       "      <td>36-45</td>\n",
       "      <td>1</td>\n",
       "      <td>B</td>\n",
       "      <td>4+</td>\n",
       "      <td>1</td>\n",
       "      <td>4</td>\n",
       "      <td>9.0</td>\n",
       "      <td>0.0</td>\n",
       "    </tr>\n",
       "    <tr>\n",
       "      <td>4</td>\n",
       "      <td>F</td>\n",
       "      <td>26-35</td>\n",
       "      <td>1</td>\n",
       "      <td>C</td>\n",
       "      <td>1</td>\n",
       "      <td>0</td>\n",
       "      <td>4</td>\n",
       "      <td>5.0</td>\n",
       "      <td>12.0</td>\n",
       "    </tr>\n",
       "    <tr>\n",
       "      <td>...</td>\n",
       "      <td>...</td>\n",
       "      <td>...</td>\n",
       "      <td>...</td>\n",
       "      <td>...</td>\n",
       "      <td>...</td>\n",
       "      <td>...</td>\n",
       "      <td>...</td>\n",
       "      <td>...</td>\n",
       "      <td>...</td>\n",
       "    </tr>\n",
       "    <tr>\n",
       "      <td>233594</td>\n",
       "      <td>F</td>\n",
       "      <td>26-35</td>\n",
       "      <td>15</td>\n",
       "      <td>B</td>\n",
       "      <td>4+</td>\n",
       "      <td>1</td>\n",
       "      <td>8</td>\n",
       "      <td>0.0</td>\n",
       "      <td>0.0</td>\n",
       "    </tr>\n",
       "    <tr>\n",
       "      <td>233595</td>\n",
       "      <td>F</td>\n",
       "      <td>26-35</td>\n",
       "      <td>15</td>\n",
       "      <td>B</td>\n",
       "      <td>4+</td>\n",
       "      <td>1</td>\n",
       "      <td>5</td>\n",
       "      <td>8.0</td>\n",
       "      <td>0.0</td>\n",
       "    </tr>\n",
       "    <tr>\n",
       "      <td>233596</td>\n",
       "      <td>F</td>\n",
       "      <td>26-35</td>\n",
       "      <td>15</td>\n",
       "      <td>B</td>\n",
       "      <td>4+</td>\n",
       "      <td>1</td>\n",
       "      <td>1</td>\n",
       "      <td>5.0</td>\n",
       "      <td>12.0</td>\n",
       "    </tr>\n",
       "    <tr>\n",
       "      <td>233597</td>\n",
       "      <td>F</td>\n",
       "      <td>46-50</td>\n",
       "      <td>1</td>\n",
       "      <td>C</td>\n",
       "      <td>4+</td>\n",
       "      <td>0</td>\n",
       "      <td>10</td>\n",
       "      <td>16.0</td>\n",
       "      <td>0.0</td>\n",
       "    </tr>\n",
       "    <tr>\n",
       "      <td>233598</td>\n",
       "      <td>F</td>\n",
       "      <td>46-50</td>\n",
       "      <td>0</td>\n",
       "      <td>B</td>\n",
       "      <td>4+</td>\n",
       "      <td>1</td>\n",
       "      <td>4</td>\n",
       "      <td>5.0</td>\n",
       "      <td>0.0</td>\n",
       "    </tr>\n",
       "  </tbody>\n",
       "</table>\n",
       "<p>233599 rows × 9 columns</p>\n",
       "</div>"
      ],
      "text/plain": [
       "       Gender    Age  Occupation City_Category Stay_In_Current_City_Years  \\\n",
       "0           M  46-50           7             B                          2   \n",
       "1           M  26-35          17             C                          0   \n",
       "2           F  36-45           1             B                         4+   \n",
       "3           F  36-45           1             B                         4+   \n",
       "4           F  26-35           1             C                          1   \n",
       "...       ...    ...         ...           ...                        ...   \n",
       "233594      F  26-35          15             B                         4+   \n",
       "233595      F  26-35          15             B                         4+   \n",
       "233596      F  26-35          15             B                         4+   \n",
       "233597      F  46-50           1             C                         4+   \n",
       "233598      F  46-50           0             B                         4+   \n",
       "\n",
       "        Marital_Status  Product_Category_1  Product_Category_2  \\\n",
       "0                    1                   1                11.0   \n",
       "1                    0                   3                 5.0   \n",
       "2                    1                   5                14.0   \n",
       "3                    1                   4                 9.0   \n",
       "4                    0                   4                 5.0   \n",
       "...                ...                 ...                 ...   \n",
       "233594               1                   8                 0.0   \n",
       "233595               1                   5                 8.0   \n",
       "233596               1                   1                 5.0   \n",
       "233597               0                  10                16.0   \n",
       "233598               1                   4                 5.0   \n",
       "\n",
       "        Product_Category_3  \n",
       "0                      0.0  \n",
       "1                      0.0  \n",
       "2                      0.0  \n",
       "3                      0.0  \n",
       "4                     12.0  \n",
       "...                    ...  \n",
       "233594                 0.0  \n",
       "233595                 0.0  \n",
       "233596                12.0  \n",
       "233597                 0.0  \n",
       "233598                 0.0  \n",
       "\n",
       "[233599 rows x 9 columns]"
      ]
     },
     "execution_count": 7,
     "metadata": {},
     "output_type": "execute_result"
    }
   ],
   "source": [
    "# Lets drop User ID and Product ID\n",
    "drop_columns = ['User_ID', 'Product_ID']\n",
    "train.drop(drop_columns, inplace = True, axis =1)\n",
    "test.drop(drop_columns, inplace = True, axis =1)\n",
    "test"
   ]
  },
  {
   "cell_type": "code",
   "execution_count": 8,
   "metadata": {
    "ExecuteTime": {
     "end_time": "2019-11-16T18:15:14.043220Z",
     "start_time": "2019-11-16T18:15:13.955456Z"
    },
    "slideshow": {
     "slide_type": "subslide"
    }
   },
   "outputs": [
    {
     "data": {
      "text/html": [
       "<div>\n",
       "<style scoped>\n",
       "    .dataframe tbody tr th:only-of-type {\n",
       "        vertical-align: middle;\n",
       "    }\n",
       "\n",
       "    .dataframe tbody tr th {\n",
       "        vertical-align: top;\n",
       "    }\n",
       "\n",
       "    .dataframe thead th {\n",
       "        text-align: right;\n",
       "    }\n",
       "</style>\n",
       "<table border=\"1\" class=\"dataframe\">\n",
       "  <thead>\n",
       "    <tr style=\"text-align: right;\">\n",
       "      <th></th>\n",
       "      <th>Gender</th>\n",
       "      <th>Age</th>\n",
       "      <th>Occupation</th>\n",
       "      <th>City_Category</th>\n",
       "      <th>Stay_In_Current_City_Years</th>\n",
       "      <th>Marital_Status</th>\n",
       "      <th>Product_Category_1</th>\n",
       "      <th>Product_Category_2</th>\n",
       "      <th>Product_Category_3</th>\n",
       "    </tr>\n",
       "  </thead>\n",
       "  <tbody>\n",
       "    <tr>\n",
       "      <td>0</td>\n",
       "      <td>M</td>\n",
       "      <td>46-50</td>\n",
       "      <td>7</td>\n",
       "      <td>B</td>\n",
       "      <td>2</td>\n",
       "      <td>1</td>\n",
       "      <td>1</td>\n",
       "      <td>11.0</td>\n",
       "      <td>0.0</td>\n",
       "    </tr>\n",
       "    <tr>\n",
       "      <td>1</td>\n",
       "      <td>M</td>\n",
       "      <td>26-35</td>\n",
       "      <td>17</td>\n",
       "      <td>C</td>\n",
       "      <td>0</td>\n",
       "      <td>0</td>\n",
       "      <td>3</td>\n",
       "      <td>5.0</td>\n",
       "      <td>0.0</td>\n",
       "    </tr>\n",
       "    <tr>\n",
       "      <td>2</td>\n",
       "      <td>F</td>\n",
       "      <td>36-45</td>\n",
       "      <td>1</td>\n",
       "      <td>B</td>\n",
       "      <td>4</td>\n",
       "      <td>1</td>\n",
       "      <td>5</td>\n",
       "      <td>14.0</td>\n",
       "      <td>0.0</td>\n",
       "    </tr>\n",
       "    <tr>\n",
       "      <td>3</td>\n",
       "      <td>F</td>\n",
       "      <td>36-45</td>\n",
       "      <td>1</td>\n",
       "      <td>B</td>\n",
       "      <td>4</td>\n",
       "      <td>1</td>\n",
       "      <td>4</td>\n",
       "      <td>9.0</td>\n",
       "      <td>0.0</td>\n",
       "    </tr>\n",
       "    <tr>\n",
       "      <td>4</td>\n",
       "      <td>F</td>\n",
       "      <td>26-35</td>\n",
       "      <td>1</td>\n",
       "      <td>C</td>\n",
       "      <td>1</td>\n",
       "      <td>0</td>\n",
       "      <td>4</td>\n",
       "      <td>5.0</td>\n",
       "      <td>12.0</td>\n",
       "    </tr>\n",
       "    <tr>\n",
       "      <td>...</td>\n",
       "      <td>...</td>\n",
       "      <td>...</td>\n",
       "      <td>...</td>\n",
       "      <td>...</td>\n",
       "      <td>...</td>\n",
       "      <td>...</td>\n",
       "      <td>...</td>\n",
       "      <td>...</td>\n",
       "      <td>...</td>\n",
       "    </tr>\n",
       "    <tr>\n",
       "      <td>233594</td>\n",
       "      <td>F</td>\n",
       "      <td>26-35</td>\n",
       "      <td>15</td>\n",
       "      <td>B</td>\n",
       "      <td>4</td>\n",
       "      <td>1</td>\n",
       "      <td>8</td>\n",
       "      <td>0.0</td>\n",
       "      <td>0.0</td>\n",
       "    </tr>\n",
       "    <tr>\n",
       "      <td>233595</td>\n",
       "      <td>F</td>\n",
       "      <td>26-35</td>\n",
       "      <td>15</td>\n",
       "      <td>B</td>\n",
       "      <td>4</td>\n",
       "      <td>1</td>\n",
       "      <td>5</td>\n",
       "      <td>8.0</td>\n",
       "      <td>0.0</td>\n",
       "    </tr>\n",
       "    <tr>\n",
       "      <td>233596</td>\n",
       "      <td>F</td>\n",
       "      <td>26-35</td>\n",
       "      <td>15</td>\n",
       "      <td>B</td>\n",
       "      <td>4</td>\n",
       "      <td>1</td>\n",
       "      <td>1</td>\n",
       "      <td>5.0</td>\n",
       "      <td>12.0</td>\n",
       "    </tr>\n",
       "    <tr>\n",
       "      <td>233597</td>\n",
       "      <td>F</td>\n",
       "      <td>46-50</td>\n",
       "      <td>1</td>\n",
       "      <td>C</td>\n",
       "      <td>4</td>\n",
       "      <td>0</td>\n",
       "      <td>10</td>\n",
       "      <td>16.0</td>\n",
       "      <td>0.0</td>\n",
       "    </tr>\n",
       "    <tr>\n",
       "      <td>233598</td>\n",
       "      <td>F</td>\n",
       "      <td>46-50</td>\n",
       "      <td>0</td>\n",
       "      <td>B</td>\n",
       "      <td>4</td>\n",
       "      <td>1</td>\n",
       "      <td>4</td>\n",
       "      <td>5.0</td>\n",
       "      <td>0.0</td>\n",
       "    </tr>\n",
       "  </tbody>\n",
       "</table>\n",
       "<p>233599 rows × 9 columns</p>\n",
       "</div>"
      ],
      "text/plain": [
       "       Gender    Age  Occupation City_Category  Stay_In_Current_City_Years  \\\n",
       "0           M  46-50           7             B                           2   \n",
       "1           M  26-35          17             C                           0   \n",
       "2           F  36-45           1             B                           4   \n",
       "3           F  36-45           1             B                           4   \n",
       "4           F  26-35           1             C                           1   \n",
       "...       ...    ...         ...           ...                         ...   \n",
       "233594      F  26-35          15             B                           4   \n",
       "233595      F  26-35          15             B                           4   \n",
       "233596      F  26-35          15             B                           4   \n",
       "233597      F  46-50           1             C                           4   \n",
       "233598      F  46-50           0             B                           4   \n",
       "\n",
       "        Marital_Status  Product_Category_1  Product_Category_2  \\\n",
       "0                    1                   1                11.0   \n",
       "1                    0                   3                 5.0   \n",
       "2                    1                   5                14.0   \n",
       "3                    1                   4                 9.0   \n",
       "4                    0                   4                 5.0   \n",
       "...                ...                 ...                 ...   \n",
       "233594               1                   8                 0.0   \n",
       "233595               1                   5                 8.0   \n",
       "233596               1                   1                 5.0   \n",
       "233597               0                  10                16.0   \n",
       "233598               1                   4                 5.0   \n",
       "\n",
       "        Product_Category_3  \n",
       "0                      0.0  \n",
       "1                      0.0  \n",
       "2                      0.0  \n",
       "3                      0.0  \n",
       "4                     12.0  \n",
       "...                    ...  \n",
       "233594                 0.0  \n",
       "233595                 0.0  \n",
       "233596                12.0  \n",
       "233597                 0.0  \n",
       "233598                 0.0  \n",
       "\n",
       "[233599 rows x 9 columns]"
      ]
     },
     "execution_count": 8,
     "metadata": {},
     "output_type": "execute_result"
    }
   ],
   "source": [
    "# Need to convert all objects to numeric. Let's start with Stay_In_Current_City_Years\n",
    "train['Stay_In_Current_City_Years'].unique()\n",
    "\n",
    "# # Convert 4+ to 4\n",
    "\n",
    "train['Stay_In_Current_City_Years'] = train['Stay_In_Current_City_Years'].map({'4+':4, '1':1, '2':2, '3':3,'0':0})\n",
    "test['Stay_In_Current_City_Years'] = test['Stay_In_Current_City_Years'].map({'4+':4, '1':1, '2':2, '3':3,'0':0})\n",
    "\n",
    "train['Stay_In_Current_City_Years'].unique()\n",
    "test"
   ]
  },
  {
   "cell_type": "code",
   "execution_count": 9,
   "metadata": {
    "ExecuteTime": {
     "end_time": "2019-11-16T18:15:14.113033Z",
     "start_time": "2019-11-16T18:15:14.044217Z"
    },
    "slideshow": {
     "slide_type": "subslide"
    }
   },
   "outputs": [
    {
     "data": {
      "text/plain": [
       "array([0, 2, 1], dtype=int64)"
      ]
     },
     "execution_count": 9,
     "metadata": {},
     "output_type": "execute_result"
    }
   ],
   "source": [
    "# Need to convert all objects to numeric.\n",
    "\n",
    "train['City_Category'].unique()\n",
    "train['City_Category'] = train['City_Category'].map({'A':0, 'B':1, 'C':2})\n",
    "test['City_Category'] = test['City_Category'].map({'A':0, 'B':1, 'C':2})\n",
    "train['City_Category'].unique()"
   ]
  },
  {
   "cell_type": "code",
   "execution_count": 10,
   "metadata": {
    "ExecuteTime": {
     "end_time": "2019-11-16T18:15:14.192819Z",
     "start_time": "2019-11-16T18:15:14.114030Z"
    },
    "slideshow": {
     "slide_type": "subslide"
    }
   },
   "outputs": [
    {
     "data": {
      "text/plain": [
       "array([0, 6, 2, 4, 5, 3, 1], dtype=int64)"
      ]
     },
     "execution_count": 10,
     "metadata": {},
     "output_type": "execute_result"
    }
   ],
   "source": [
    "# Need to convert all objects to numeric.\n",
    "\n",
    "train['Age'].unique()\n",
    "train['Age'] = train['Age'].map({'0-17':0, '18-25':1, '26-35':2, '36-45':3, '46-50':4, '51-55':5, '55+':6})\n",
    "test['Age'] = test['Age'].map({'0-17':0, '18-25':1, '26-35':2, '36-45':3, '46-50':4, '51-55':5, '55+':6})\n",
    "train['Age'].unique()"
   ]
  },
  {
   "cell_type": "code",
   "execution_count": 11,
   "metadata": {
    "ExecuteTime": {
     "end_time": "2019-11-16T18:15:14.252673Z",
     "start_time": "2019-11-16T18:15:14.193816Z"
    },
    "slideshow": {
     "slide_type": "subslide"
    }
   },
   "outputs": [
    {
     "data": {
      "text/plain": [
       "array([0, 1], dtype=int64)"
      ]
     },
     "execution_count": 11,
     "metadata": {},
     "output_type": "execute_result"
    }
   ],
   "source": [
    "# Need to convert all objects to numeric.\n",
    "\n",
    "train['Gender'].unique()\n",
    "train['Gender'] = train['Gender'].map({'F':0, 'M':1})\n",
    "test['Gender'] = test['Gender'].map({'F':0, 'M':1})\n",
    "train['Gender'].unique()"
   ]
  },
  {
   "cell_type": "markdown",
   "metadata": {
    "slideshow": {
     "slide_type": "subslide"
    }
   },
   "source": [
    "### Correlation Matrix"
   ]
  },
  {
   "cell_type": "code",
   "execution_count": 12,
   "metadata": {
    "ExecuteTime": {
     "end_time": "2019-11-16T18:15:15.405576Z",
     "start_time": "2019-11-16T18:15:14.253657Z"
    },
    "slideshow": {
     "slide_type": "subslide"
    }
   },
   "outputs": [
    {
     "data": {
      "image/png": "[encoded data removed]",
      "text/plain": [
       "<Figure size 864x648 with 2 Axes>"
      ]
     },
     "metadata": {
      "needs_background": "light"
     },
     "output_type": "display_data"
    }
   ],
   "source": [
    "# Create a correlation matrix to find out which independent variable is correlated with the dependent variable\n",
    "correlation_matrix = train.corr()\n",
    "fig,ax = plt.subplots(figsize = (12,9))\n",
    "sns.heatmap(correlation_matrix, vmax=0.8, cmap=\"coolwarm\", square=True, annot = True)\n",
    "plt.savefig(\"../images/corr_matrix.png\", bbox_inches = \"tight\")"
   ]
  },
  {
   "cell_type": "markdown",
   "metadata": {
    "slideshow": {
     "slide_type": "subslide"
    }
   },
   "source": [
    "### Products Categories analysis"
   ]
  },
  {
   "cell_type": "code",
   "execution_count": 13,
   "metadata": {
    "ExecuteTime": {
     "end_time": "2019-11-16T18:15:15.413556Z",
     "start_time": "2019-11-16T18:15:15.406574Z"
    },
    "slideshow": {
     "slide_type": "subslide"
    }
   },
   "outputs": [
    {
     "name": "stdout",
     "output_type": "stream",
     "text": [
      "PC1: 5.404270017525106 \n",
      " PC2: 6.735436346051761 \n",
      " PC3 : 3.841941359977312 \n",
      " Hence we can conclude the correlation of PC3 is due to average price. PC3 has on average the cheaper price\n"
     ]
    }
   ],
   "source": [
    "# Why product category 3 is correlated with dependent variable purchase and the others are not?\n",
    "cat_1_average = train['Product_Category_1'].mean()\n",
    "cat_2_average = train['Product_Category_2'].mean()\n",
    "cat_3_avarage= train['Product_Category_3'].mean()\n",
    "print(f\"PC1: {cat_1_average} \\n PC2: {cat_2_average} \\n PC3 : {cat_3_avarage} \\n Hence we can conclude the correlation of PC3 is due to average price. PC3 has on average the cheaper price\")"
   ]
  },
  {
   "cell_type": "markdown",
   "metadata": {
    "slideshow": {
     "slide_type": "slide"
    }
   },
   "source": [
    "## Data Preparation for Model"
   ]
  },
  {
   "cell_type": "code",
   "execution_count": 14,
   "metadata": {
    "ExecuteTime": {
     "end_time": "2019-11-16T18:15:15.520304Z",
     "start_time": "2019-11-16T18:15:15.414552Z"
    },
    "slideshow": {
     "slide_type": "subslide"
    }
   },
   "outputs": [],
   "source": [
    "# Remove category 19 and 20 fron Product Category 1 from Train & Test\n",
    "removal_train = train.index[(train.Product_Category_1.isin([19,20]))]\n",
    "train = train.drop(removal_train)\n",
    "# Remove category 19 and 20 fron Product Category 1 from Train & Test\n",
    "removal_test = test.index[(test.Product_Category_1.isin([19,20]))]\n",
    "test = test.drop(removal_test)"
   ]
  },
  {
   "cell_type": "code",
   "execution_count": 15,
   "metadata": {
    "ExecuteTime": {
     "end_time": "2019-11-16T18:15:15.534266Z",
     "start_time": "2019-11-16T18:15:15.521266Z"
    },
    "slideshow": {
     "slide_type": "skip"
    }
   },
   "outputs": [
    {
     "data": {
      "text/html": [
       "<div>\n",
       "<style scoped>\n",
       "    .dataframe tbody tr th:only-of-type {\n",
       "        vertical-align: middle;\n",
       "    }\n",
       "\n",
       "    .dataframe tbody tr th {\n",
       "        vertical-align: top;\n",
       "    }\n",
       "\n",
       "    .dataframe thead th {\n",
       "        text-align: right;\n",
       "    }\n",
       "</style>\n",
       "<table border=\"1\" class=\"dataframe\">\n",
       "  <thead>\n",
       "    <tr style=\"text-align: right;\">\n",
       "      <th></th>\n",
       "      <th>Gender</th>\n",
       "      <th>Age</th>\n",
       "      <th>Occupation</th>\n",
       "      <th>City_Category</th>\n",
       "      <th>Stay_In_Current_City_Years</th>\n",
       "      <th>Marital_Status</th>\n",
       "      <th>Product_Category_1</th>\n",
       "      <th>Product_Category_2</th>\n",
       "      <th>Product_Category_3</th>\n",
       "    </tr>\n",
       "  </thead>\n",
       "  <tbody>\n",
       "    <tr>\n",
       "      <td>0</td>\n",
       "      <td>1</td>\n",
       "      <td>4</td>\n",
       "      <td>7</td>\n",
       "      <td>1</td>\n",
       "      <td>2</td>\n",
       "      <td>1</td>\n",
       "      <td>1</td>\n",
       "      <td>11.0</td>\n",
       "      <td>0.0</td>\n",
       "    </tr>\n",
       "    <tr>\n",
       "      <td>1</td>\n",
       "      <td>1</td>\n",
       "      <td>2</td>\n",
       "      <td>17</td>\n",
       "      <td>2</td>\n",
       "      <td>0</td>\n",
       "      <td>0</td>\n",
       "      <td>3</td>\n",
       "      <td>5.0</td>\n",
       "      <td>0.0</td>\n",
       "    </tr>\n",
       "    <tr>\n",
       "      <td>2</td>\n",
       "      <td>0</td>\n",
       "      <td>3</td>\n",
       "      <td>1</td>\n",
       "      <td>1</td>\n",
       "      <td>4</td>\n",
       "      <td>1</td>\n",
       "      <td>5</td>\n",
       "      <td>14.0</td>\n",
       "      <td>0.0</td>\n",
       "    </tr>\n",
       "    <tr>\n",
       "      <td>3</td>\n",
       "      <td>0</td>\n",
       "      <td>3</td>\n",
       "      <td>1</td>\n",
       "      <td>1</td>\n",
       "      <td>4</td>\n",
       "      <td>1</td>\n",
       "      <td>4</td>\n",
       "      <td>9.0</td>\n",
       "      <td>0.0</td>\n",
       "    </tr>\n",
       "    <tr>\n",
       "      <td>4</td>\n",
       "      <td>0</td>\n",
       "      <td>2</td>\n",
       "      <td>1</td>\n",
       "      <td>2</td>\n",
       "      <td>1</td>\n",
       "      <td>0</td>\n",
       "      <td>4</td>\n",
       "      <td>5.0</td>\n",
       "      <td>12.0</td>\n",
       "    </tr>\n",
       "    <tr>\n",
       "      <td>...</td>\n",
       "      <td>...</td>\n",
       "      <td>...</td>\n",
       "      <td>...</td>\n",
       "      <td>...</td>\n",
       "      <td>...</td>\n",
       "      <td>...</td>\n",
       "      <td>...</td>\n",
       "      <td>...</td>\n",
       "      <td>...</td>\n",
       "    </tr>\n",
       "    <tr>\n",
       "      <td>233594</td>\n",
       "      <td>0</td>\n",
       "      <td>2</td>\n",
       "      <td>15</td>\n",
       "      <td>1</td>\n",
       "      <td>4</td>\n",
       "      <td>1</td>\n",
       "      <td>8</td>\n",
       "      <td>0.0</td>\n",
       "      <td>0.0</td>\n",
       "    </tr>\n",
       "    <tr>\n",
       "      <td>233595</td>\n",
       "      <td>0</td>\n",
       "      <td>2</td>\n",
       "      <td>15</td>\n",
       "      <td>1</td>\n",
       "      <td>4</td>\n",
       "      <td>1</td>\n",
       "      <td>5</td>\n",
       "      <td>8.0</td>\n",
       "      <td>0.0</td>\n",
       "    </tr>\n",
       "    <tr>\n",
       "      <td>233596</td>\n",
       "      <td>0</td>\n",
       "      <td>2</td>\n",
       "      <td>15</td>\n",
       "      <td>1</td>\n",
       "      <td>4</td>\n",
       "      <td>1</td>\n",
       "      <td>1</td>\n",
       "      <td>5.0</td>\n",
       "      <td>12.0</td>\n",
       "    </tr>\n",
       "    <tr>\n",
       "      <td>233597</td>\n",
       "      <td>0</td>\n",
       "      <td>4</td>\n",
       "      <td>1</td>\n",
       "      <td>2</td>\n",
       "      <td>4</td>\n",
       "      <td>0</td>\n",
       "      <td>10</td>\n",
       "      <td>16.0</td>\n",
       "      <td>0.0</td>\n",
       "    </tr>\n",
       "    <tr>\n",
       "      <td>233598</td>\n",
       "      <td>0</td>\n",
       "      <td>4</td>\n",
       "      <td>0</td>\n",
       "      <td>1</td>\n",
       "      <td>4</td>\n",
       "      <td>1</td>\n",
       "      <td>4</td>\n",
       "      <td>5.0</td>\n",
       "      <td>0.0</td>\n",
       "    </tr>\n",
       "  </tbody>\n",
       "</table>\n",
       "<p>233599 rows × 9 columns</p>\n",
       "</div>"
      ],
      "text/plain": [
       "        Gender  Age  Occupation  City_Category  Stay_In_Current_City_Years  \\\n",
       "0            1    4           7              1                           2   \n",
       "1            1    2          17              2                           0   \n",
       "2            0    3           1              1                           4   \n",
       "3            0    3           1              1                           4   \n",
       "4            0    2           1              2                           1   \n",
       "...        ...  ...         ...            ...                         ...   \n",
       "233594       0    2          15              1                           4   \n",
       "233595       0    2          15              1                           4   \n",
       "233596       0    2          15              1                           4   \n",
       "233597       0    4           1              2                           4   \n",
       "233598       0    4           0              1                           4   \n",
       "\n",
       "        Marital_Status  Product_Category_1  Product_Category_2  \\\n",
       "0                    1                   1                11.0   \n",
       "1                    0                   3                 5.0   \n",
       "2                    1                   5                14.0   \n",
       "3                    1                   4                 9.0   \n",
       "4                    0                   4                 5.0   \n",
       "...                ...                 ...                 ...   \n",
       "233594               1                   8                 0.0   \n",
       "233595               1                   5                 8.0   \n",
       "233596               1                   1                 5.0   \n",
       "233597               0                  10                16.0   \n",
       "233598               1                   4                 5.0   \n",
       "\n",
       "        Product_Category_3  \n",
       "0                      0.0  \n",
       "1                      0.0  \n",
       "2                      0.0  \n",
       "3                      0.0  \n",
       "4                     12.0  \n",
       "...                    ...  \n",
       "233594                 0.0  \n",
       "233595                 0.0  \n",
       "233596                12.0  \n",
       "233597                 0.0  \n",
       "233598                 0.0  \n",
       "\n",
       "[233599 rows x 9 columns]"
      ]
     },
     "execution_count": 15,
     "metadata": {},
     "output_type": "execute_result"
    }
   ],
   "source": [
    "test"
   ]
  },
  {
   "cell_type": "code",
   "execution_count": 16,
   "metadata": {
    "ExecuteTime": {
     "end_time": "2019-11-16T18:15:15.538248Z",
     "start_time": "2019-11-16T18:15:15.535228Z"
    },
    "slideshow": {
     "slide_type": "skip"
    }
   },
   "outputs": [],
   "source": [
    "# Convert Stay_in_current_city_years to binary by using dummy variables\n",
    "# train = pd.get_dummies(train, columns=['Stay_In_Current_City_Years'])\n",
    "# test = pd.get_dummies(test, columns=['Stay_In_Current_City_Years'])\n"
   ]
  },
  {
   "cell_type": "code",
   "execution_count": 17,
   "metadata": {
    "ExecuteTime": {
     "end_time": "2019-11-16T18:15:15.545210Z",
     "start_time": "2019-11-16T18:15:15.540216Z"
    },
    "slideshow": {
     "slide_type": "subslide"
    }
   },
   "outputs": [
    {
     "data": {
      "text/plain": [
       "Gender                          int64\n",
       "Age                             int64\n",
       "Occupation                      int64\n",
       "City_Category                   int64\n",
       "Stay_In_Current_City_Years      int64\n",
       "Marital_Status                  int64\n",
       "Product_Category_1              int64\n",
       "Product_Category_2            float64\n",
       "Product_Category_3            float64\n",
       "Purchase                        int64\n",
       "dtype: object"
      ]
     },
     "execution_count": 17,
     "metadata": {},
     "output_type": "execute_result"
    }
   ],
   "source": [
    "# Check data types\n",
    "train.dtypes\n"
   ]
  },
  {
   "cell_type": "markdown",
   "metadata": {
    "slideshow": {
     "slide_type": "subslide"
    }
   },
   "source": [
    "### Save clean files"
   ]
  },
  {
   "cell_type": "code",
   "execution_count": 18,
   "metadata": {
    "ExecuteTime": {
     "end_time": "2019-11-16T18:15:21.817481Z",
     "start_time": "2019-11-16T18:15:15.546199Z"
    },
    "slideshow": {
     "slide_type": "subslide"
    }
   },
   "outputs": [],
   "source": [
    "# Save clean file\n",
    "train.to_csv(\"../../data/trainCLEAN.csv\", index=False, encoding='utf8')\n",
    "test.to_csv(\"../../data/testCLEAN.csv\", index=False, encoding='utf8')"
   ]
  },
  {
   "cell_type": "markdown",
   "metadata": {
    "slideshow": {
     "slide_type": "slide"
    }
   },
   "source": [
    "## Linear Regression Model Non-Scaled "
   ]
  },
  {
   "cell_type": "code",
   "execution_count": 19,
   "metadata": {
    "ExecuteTime": {
     "end_time": "2019-11-16T18:15:21.824440Z",
     "start_time": "2019-11-16T18:15:21.819418Z"
    }
   },
   "outputs": [
    {
     "data": {
      "text/plain": [
       "Index(['Gender', 'Age', 'Occupation', 'City_Category',\n",
       "       'Stay_In_Current_City_Years', 'Marital_Status', 'Product_Category_1',\n",
       "       'Product_Category_2', 'Product_Category_3', 'Purchase'],\n",
       "      dtype='object')"
      ]
     },
     "execution_count": 19,
     "metadata": {},
     "output_type": "execute_result"
    }
   ],
   "source": [
    "train.columns"
   ]
  },
  {
   "cell_type": "code",
   "execution_count": 20,
   "metadata": {
    "ExecuteTime": {
     "end_time": "2019-11-16T18:15:21.854326Z",
     "start_time": "2019-11-16T18:15:21.826400Z"
    },
    "slideshow": {
     "slide_type": "subslide"
    }
   },
   "outputs": [
    {
     "name": "stdout",
     "output_type": "stream",
     "text": [
      "(545915, 9) (545915, 1)\n"
     ]
    }
   ],
   "source": [
    "X = train[['Gender', 'Age', 'Occupation', 'City_Category',\n",
    "       'Stay_In_Current_City_Years', 'Marital_Status', 'Product_Category_1',\n",
    "       'Product_Category_2', 'Product_Category_3']]\n",
    "y = train['Purchase'].values.reshape(-1, 1)\n",
    "print(X.shape, y.shape)"
   ]
  },
  {
   "cell_type": "code",
   "execution_count": 21,
   "metadata": {
    "ExecuteTime": {
     "end_time": "2019-11-16T18:15:22.526573Z",
     "start_time": "2019-11-16T18:15:21.856322Z"
    },
    "slideshow": {
     "slide_type": "subslide"
    }
   },
   "outputs": [],
   "source": [
    "# Split the data into training and testing\n",
    "\n",
    "### BEGIN SOLUTION\n",
    "from sklearn.model_selection import train_test_split\n",
    "\n",
    "X_train, X_test, y_train, y_test = train_test_split(X, y, test_size = 0.2, random_state=42) # need to add stratify = y but I get an error\n",
    "### END SOLUTION"
   ]
  },
  {
   "cell_type": "markdown",
   "metadata": {
    "slideshow": {
     "slide_type": "slide"
    }
   },
   "source": [
    "### Multivariate Linear Regression"
   ]
  },
  {
   "cell_type": "code",
   "execution_count": 22,
   "metadata": {
    "ExecuteTime": {
     "end_time": "2019-11-16T18:15:22.711035Z",
     "start_time": "2019-11-16T18:15:22.528522Z"
    },
    "slideshow": {
     "slide_type": "subslide"
    }
   },
   "outputs": [
    {
     "data": {
      "text/plain": [
       "LinearRegression(copy_X=True, fit_intercept=True, n_jobs=1, normalize=False)"
      ]
     },
     "execution_count": 22,
     "metadata": {},
     "output_type": "execute_result"
    }
   ],
   "source": [
    "### BEGIN SOLUTION\n",
    "from sklearn.linear_model import LinearRegression\n",
    "model = LinearRegression(n_jobs = 1)\n",
    "model.fit(X_train, y_train)\n",
    "### END SOLUTION"
   ]
  },
  {
   "cell_type": "code",
   "execution_count": 23,
   "metadata": {
    "ExecuteTime": {
     "end_time": "2019-11-16T18:15:30.231940Z",
     "start_time": "2019-11-16T18:15:22.713030Z"
    },
    "slideshow": {
     "slide_type": "subslide"
    }
   },
   "outputs": [
    {
     "data": {
      "image/png": "[encoded data removed]",
      "text/plain": [
       "<Figure size 432x288 with 1 Axes>"
      ]
     },
     "metadata": {
      "needs_background": "light"
     },
     "output_type": "display_data"
    }
   ],
   "source": [
    "# Make predictions using the X_test data\n",
    "# Plot y_test vs y_test\n",
    "# Scatter plot y_tes_scaled vs predictions\n",
    "\n",
    "### BEGIN SOLUTION\n",
    "predictions = model.predict(X_test)\n",
    "\n",
    "plt.scatter(model.predict(X_train), model.predict(X_train) - y_train, c=\"blue\", label=\"Training Data\")\n",
    "plt.scatter(model.predict(X_test), model.predict(X_test) - y_test, c=\"orange\", label=\"Testing Data\")\n",
    "plt.legend()\n",
    "plt.hlines(y=0, xmin=y_test.min(), xmax=y_test.max())\n",
    "plt.title(\"Residual Plot\")\n",
    "plt.show()\n",
    "### END SOLUTION"
   ]
  },
  {
   "cell_type": "code",
   "execution_count": 24,
   "metadata": {
    "ExecuteTime": {
     "end_time": "2019-11-16T18:15:30.244920Z",
     "start_time": "2019-11-16T18:15:30.233910Z"
    },
    "slideshow": {
     "slide_type": "subslide"
    }
   },
   "outputs": [
    {
     "name": "stdout",
     "output_type": "stream",
     "text": [
      "Predicted purchases (in dollars) for new costumers: [[8315.10636055]\n",
      " [8115.38982673]\n",
      " [9794.48974187]\n",
      " ...\n",
      " [8518.44545858]\n",
      " [8836.88427431]\n",
      " [8058.01384862]]\n"
     ]
    }
   ],
   "source": [
    "linear_predictions = model.predict(X_test)\n",
    "print(\"Predicted purchases (in dollars) for new costumers:\", linear_predictions)"
   ]
  },
  {
   "cell_type": "code",
   "execution_count": 25,
   "metadata": {
    "ExecuteTime": {
     "end_time": "2019-11-16T18:15:30.262868Z",
     "start_time": "2019-11-16T18:15:30.246875Z"
    },
    "slideshow": {
     "slide_type": "subslide"
    }
   },
   "outputs": [
    {
     "name": "stdout",
     "output_type": "stream",
     "text": [
      "MSE: 21447788.690087605, RMSE: 4631.175735176501, R2: 0.13530769254395825\n"
     ]
    }
   ],
   "source": [
    "# Used X_test, y_test, and model.predict(X_test) to calculate MSE and R2\n",
    "\n",
    "### BEGIN SOLUTION\n",
    "\n",
    "from sklearn.metrics import mean_squared_error\n",
    "\n",
    "MSE = mean_squared_error(y_test, predictions)\n",
    "r2 = model.score(X_test, y_test)\n",
    "RMSE = np.sqrt(MSE)\n",
    "### END SOLUTION\n",
    "\n",
    "print(f\"MSE: {MSE}, RMSE: {RMSE}, R2: {r2}\")"
   ]
  },
  {
   "cell_type": "markdown",
   "metadata": {
    "slideshow": {
     "slide_type": "subslide"
    }
   },
   "source": [
    "### Regression Coeffiecients"
   ]
  },
  {
   "cell_type": "code",
   "execution_count": 26,
   "metadata": {
    "ExecuteTime": {
     "end_time": "2019-11-16T18:15:30.273804Z",
     "start_time": "2019-11-16T18:15:30.264828Z"
    },
    "slideshow": {
     "slide_type": "subslide"
    }
   },
   "outputs": [
    {
     "data": {
      "text/html": [
       "<div>\n",
       "<style scoped>\n",
       "    .dataframe tbody tr th:only-of-type {\n",
       "        vertical-align: middle;\n",
       "    }\n",
       "\n",
       "    .dataframe tbody tr th {\n",
       "        vertical-align: top;\n",
       "    }\n",
       "\n",
       "    .dataframe thead th {\n",
       "        text-align: right;\n",
       "    }\n",
       "</style>\n",
       "<table border=\"1\" class=\"dataframe\">\n",
       "  <thead>\n",
       "    <tr style=\"text-align: right;\">\n",
       "      <th></th>\n",
       "      <th>Coefficient</th>\n",
       "    </tr>\n",
       "  </thead>\n",
       "  <tbody>\n",
       "    <tr>\n",
       "      <td>Gender</td>\n",
       "      <td>483.447671</td>\n",
       "    </tr>\n",
       "    <tr>\n",
       "      <td>Age</td>\n",
       "      <td>102.735701</td>\n",
       "    </tr>\n",
       "    <tr>\n",
       "      <td>Occupation</td>\n",
       "      <td>5.853371</td>\n",
       "    </tr>\n",
       "    <tr>\n",
       "      <td>City_Category</td>\n",
       "      <td>333.854684</td>\n",
       "    </tr>\n",
       "    <tr>\n",
       "      <td>Stay_In_Current_City_Years</td>\n",
       "      <td>9.343869</td>\n",
       "    </tr>\n",
       "    <tr>\n",
       "      <td>Marital_Status</td>\n",
       "      <td>-50.043793</td>\n",
       "    </tr>\n",
       "    <tr>\n",
       "      <td>Product_Category_1</td>\n",
       "      <td>-319.058835</td>\n",
       "    </tr>\n",
       "    <tr>\n",
       "      <td>Product_Category_2</td>\n",
       "      <td>8.675524</td>\n",
       "    </tr>\n",
       "    <tr>\n",
       "      <td>Product_Category_3</td>\n",
       "      <td>147.523879</td>\n",
       "    </tr>\n",
       "  </tbody>\n",
       "</table>\n",
       "</div>"
      ],
      "text/plain": [
       "                            Coefficient\n",
       "Gender                       483.447671\n",
       "Age                          102.735701\n",
       "Occupation                     5.853371\n",
       "City_Category                333.854684\n",
       "Stay_In_Current_City_Years     9.343869\n",
       "Marital_Status               -50.043793\n",
       "Product_Category_1          -319.058835\n",
       "Product_Category_2             8.675524\n",
       "Product_Category_3           147.523879"
      ]
     },
     "execution_count": 26,
     "metadata": {},
     "output_type": "execute_result"
    }
   ],
   "source": [
    "coeff_df = pd.DataFrame(model.coef_[0], X_train.columns, columns=['Coefficient'])  \n",
    "coeff_df"
   ]
  },
  {
   "cell_type": "code",
   "execution_count": 27,
   "metadata": {
    "ExecuteTime": {
     "end_time": "2019-11-16T18:15:30.560064Z",
     "start_time": "2019-11-16T18:15:30.275798Z"
    },
    "slideshow": {
     "slide_type": "subslide"
    }
   },
   "outputs": [
    {
     "data": {
      "image/png": "[encoded data removed]",
      "text/plain": [
       "<Figure size 432x288 with 1 Axes>"
      ]
     },
     "metadata": {
      "needs_background": "light"
     },
     "output_type": "display_data"
    }
   ],
   "source": [
    "ax = coeff_df.plot(kind='bar', title='Variable Coefficients')\n",
    "ax.grid(zorder=0)"
   ]
  },
  {
   "cell_type": "markdown",
   "metadata": {
    "slideshow": {
     "slide_type": "subslide"
    }
   },
   "source": [
    "### Correlation heatmap"
   ]
  },
  {
   "cell_type": "code",
   "execution_count": 28,
   "metadata": {
    "ExecuteTime": {
     "end_time": "2019-11-16T18:15:30.945010Z",
     "start_time": "2019-11-16T18:15:30.561035Z"
    },
    "slideshow": {
     "slide_type": "subslide"
    }
   },
   "outputs": [
    {
     "data": {
      "image/png": "[encoded data removed]",
      "text/plain": [
       "<Figure size 432x288 with 2 Axes>"
      ]
     },
     "metadata": {
      "needs_background": "light"
     },
     "output_type": "display_data"
    }
   ],
   "source": [
    "import seaborn as sns\n",
    "corr = X.corr()\n",
    "ax = sns.heatmap(\n",
    "    corr, \n",
    "    vmin=-1, vmax=1, center=0,\n",
    "    cmap=sns.diverging_palette(20, 220, n=200),\n",
    "    square=True\n",
    ")\n",
    "ax.set_xticklabels(\n",
    "    ax.get_xticklabels(),\n",
    "    rotation=45,\n",
    "    horizontalalignment='right'\n",
    ");"
   ]
  },
  {
   "cell_type": "markdown",
   "metadata": {
    "slideshow": {
     "slide_type": "subslide"
    }
   },
   "source": [
    "### LASSO Model"
   ]
  },
  {
   "cell_type": "code",
   "execution_count": 29,
   "metadata": {
    "ExecuteTime": {
     "end_time": "2019-11-16T18:15:31.120539Z",
     "start_time": "2019-11-16T18:15:30.947005Z"
    },
    "slideshow": {
     "slide_type": "subslide"
    }
   },
   "outputs": [
    {
     "name": "stdout",
     "output_type": "stream",
     "text": [
      "MSE: 21447789.082953833, RMSE: 4631.175777591889, R2: 0.13530767670510369\n"
     ]
    }
   ],
   "source": [
    "# LASSO model\n",
    "# Note: Use an alpha of .01 when creating the model for this activity\n",
    "from sklearn.linear_model import Lasso\n",
    "\n",
    "lasso = Lasso(alpha=.01).fit(X_train, y_train)\n",
    "\n",
    "lasso_predictions = lasso.predict(X_test)\n",
    "\n",
    "MSE = mean_squared_error(y_test, lasso_predictions)\n",
    "r2 = lasso.score(X_test, y_test)\n",
    "RMSE = np.sqrt(MSE)\n",
    "### END SOLUTION\n",
    "\n",
    "print(f\"MSE: {MSE}, RMSE: {RMSE}, R2: {r2}\")"
   ]
  },
  {
   "cell_type": "code",
   "execution_count": 30,
   "metadata": {
    "ExecuteTime": {
     "end_time": "2019-11-16T18:15:31.131509Z",
     "start_time": "2019-11-16T18:15:31.122535Z"
    },
    "slideshow": {
     "slide_type": "subslide"
    }
   },
   "outputs": [
    {
     "data": {
      "text/html": [
       "<div>\n",
       "<style scoped>\n",
       "    .dataframe tbody tr th:only-of-type {\n",
       "        vertical-align: middle;\n",
       "    }\n",
       "\n",
       "    .dataframe tbody tr th {\n",
       "        vertical-align: top;\n",
       "    }\n",
       "\n",
       "    .dataframe thead th {\n",
       "        text-align: right;\n",
       "    }\n",
       "</style>\n",
       "<table border=\"1\" class=\"dataframe\">\n",
       "  <thead>\n",
       "    <tr style=\"text-align: right;\">\n",
       "      <th></th>\n",
       "      <th>Coefficient</th>\n",
       "    </tr>\n",
       "  </thead>\n",
       "  <tbody>\n",
       "    <tr>\n",
       "      <td>Gender</td>\n",
       "      <td>483.393670</td>\n",
       "    </tr>\n",
       "    <tr>\n",
       "      <td>Age</td>\n",
       "      <td>102.725619</td>\n",
       "    </tr>\n",
       "    <tr>\n",
       "      <td>Occupation</td>\n",
       "      <td>5.853760</td>\n",
       "    </tr>\n",
       "    <tr>\n",
       "      <td>City_Category</td>\n",
       "      <td>333.838240</td>\n",
       "    </tr>\n",
       "    <tr>\n",
       "      <td>Stay_In_Current_City_Years</td>\n",
       "      <td>9.338470</td>\n",
       "    </tr>\n",
       "    <tr>\n",
       "      <td>Marital_Status</td>\n",
       "      <td>-49.993610</td>\n",
       "    </tr>\n",
       "    <tr>\n",
       "      <td>Product_Category_1</td>\n",
       "      <td>-319.058545</td>\n",
       "    </tr>\n",
       "    <tr>\n",
       "      <td>Product_Category_2</td>\n",
       "      <td>8.675363</td>\n",
       "    </tr>\n",
       "    <tr>\n",
       "      <td>Product_Category_3</td>\n",
       "      <td>147.523922</td>\n",
       "    </tr>\n",
       "  </tbody>\n",
       "</table>\n",
       "</div>"
      ],
      "text/plain": [
       "                            Coefficient\n",
       "Gender                       483.393670\n",
       "Age                          102.725619\n",
       "Occupation                     5.853760\n",
       "City_Category                333.838240\n",
       "Stay_In_Current_City_Years     9.338470\n",
       "Marital_Status               -49.993610\n",
       "Product_Category_1          -319.058545\n",
       "Product_Category_2             8.675363\n",
       "Product_Category_3           147.523922"
      ]
     },
     "execution_count": 30,
     "metadata": {},
     "output_type": "execute_result"
    }
   ],
   "source": [
    "lasso_df = pd.DataFrame(lasso.coef_, X_train.columns, columns=['Coefficient'])  \n",
    "lasso_df"
   ]
  },
  {
   "cell_type": "code",
   "execution_count": 31,
   "metadata": {
    "ExecuteTime": {
     "end_time": "2019-11-16T18:15:31.390817Z",
     "start_time": "2019-11-16T18:15:31.133505Z"
    },
    "slideshow": {
     "slide_type": "subslide"
    }
   },
   "outputs": [
    {
     "data": {
      "image/png": "[encoded data removed]",
      "text/plain": [
       "<Figure size 432x288 with 1 Axes>"
      ]
     },
     "metadata": {
      "needs_background": "light"
     },
     "output_type": "display_data"
    }
   ],
   "source": [
    "ax = lasso_df.plot(kind='bar', title='Variable Coefficients')\n",
    "ax.grid(zorder=0)"
   ]
  },
  {
   "cell_type": "markdown",
   "metadata": {
    "slideshow": {
     "slide_type": "subslide"
    }
   },
   "source": [
    "### Ridge Model"
   ]
  },
  {
   "cell_type": "code",
   "execution_count": 32,
   "metadata": {
    "ExecuteTime": {
     "end_time": "2019-11-16T18:15:31.487594Z",
     "start_time": "2019-11-16T18:15:31.392812Z"
    },
    "slideshow": {
     "slide_type": "subslide"
    }
   },
   "outputs": [
    {
     "name": "stdout",
     "output_type": "stream",
     "text": [
      "MSE: 21447788.690393727, RMSE: 4631.175735209551, R2: 0.13530769253161656\n"
     ]
    }
   ],
   "source": [
    "# Ridge model\n",
    "# Note: Use an alpha of .01 when creating the model for this activity\n",
    "from sklearn.linear_model import Ridge\n",
    "\n",
    "### BEGIN SOLUTION\n",
    "ridge = Ridge(alpha=.01).fit(X_train, y_train)\n",
    "\n",
    "ridge_predictions = ridge.predict(X_test)\n",
    "\n",
    "MSE = mean_squared_error(y_test, ridge_predictions)\n",
    "r2 = ridge.score(X_test, y_test)\n",
    "RMSE = np.sqrt(MSE)\n",
    "### END SOLUTION\n",
    "\n",
    "print(f\"MSE: {MSE}, RMSE: {RMSE}, R2: {r2}\")"
   ]
  },
  {
   "cell_type": "code",
   "execution_count": 33,
   "metadata": {
    "ExecuteTime": {
     "end_time": "2019-11-16T18:15:31.503515Z",
     "start_time": "2019-11-16T18:15:31.489553Z"
    },
    "slideshow": {
     "slide_type": "subslide"
    }
   },
   "outputs": [
    {
     "data": {
      "text/html": [
       "<div>\n",
       "<style scoped>\n",
       "    .dataframe tbody tr th:only-of-type {\n",
       "        vertical-align: middle;\n",
       "    }\n",
       "\n",
       "    .dataframe tbody tr th {\n",
       "        vertical-align: top;\n",
       "    }\n",
       "\n",
       "    .dataframe thead th {\n",
       "        text-align: right;\n",
       "    }\n",
       "</style>\n",
       "<table border=\"1\" class=\"dataframe\">\n",
       "  <thead>\n",
       "    <tr style=\"text-align: right;\">\n",
       "      <th></th>\n",
       "      <th>Coefficient</th>\n",
       "    </tr>\n",
       "  </thead>\n",
       "  <tbody>\n",
       "    <tr>\n",
       "      <td>Gender</td>\n",
       "      <td>483.447610</td>\n",
       "    </tr>\n",
       "    <tr>\n",
       "      <td>Age</td>\n",
       "      <td>102.735699</td>\n",
       "    </tr>\n",
       "    <tr>\n",
       "      <td>Occupation</td>\n",
       "      <td>5.853372</td>\n",
       "    </tr>\n",
       "    <tr>\n",
       "      <td>City_Category</td>\n",
       "      <td>333.854670</td>\n",
       "    </tr>\n",
       "    <tr>\n",
       "      <td>Stay_In_Current_City_Years</td>\n",
       "      <td>9.343869</td>\n",
       "    </tr>\n",
       "    <tr>\n",
       "      <td>Marital_Status</td>\n",
       "      <td>-50.043787</td>\n",
       "    </tr>\n",
       "    <tr>\n",
       "      <td>Product_Category_1</td>\n",
       "      <td>-319.058835</td>\n",
       "    </tr>\n",
       "    <tr>\n",
       "      <td>Product_Category_2</td>\n",
       "      <td>8.675524</td>\n",
       "    </tr>\n",
       "    <tr>\n",
       "      <td>Product_Category_3</td>\n",
       "      <td>147.523879</td>\n",
       "    </tr>\n",
       "  </tbody>\n",
       "</table>\n",
       "</div>"
      ],
      "text/plain": [
       "                            Coefficient\n",
       "Gender                       483.447610\n",
       "Age                          102.735699\n",
       "Occupation                     5.853372\n",
       "City_Category                333.854670\n",
       "Stay_In_Current_City_Years     9.343869\n",
       "Marital_Status               -50.043787\n",
       "Product_Category_1          -319.058835\n",
       "Product_Category_2             8.675524\n",
       "Product_Category_3           147.523879"
      ]
     },
     "execution_count": 33,
     "metadata": {},
     "output_type": "execute_result"
    }
   ],
   "source": [
    "ridge_df = pd.DataFrame(ridge.coef_[0], X_train.columns, columns=['Coefficient'])  \n",
    "ridge_df"
   ]
  },
  {
   "cell_type": "code",
   "execution_count": 34,
   "metadata": {
    "ExecuteTime": {
     "end_time": "2019-11-16T18:15:31.716979Z",
     "start_time": "2019-11-16T18:15:31.505509Z"
    },
    "slideshow": {
     "slide_type": "subslide"
    }
   },
   "outputs": [
    {
     "data": {
      "image/png": "[encoded data removed]",
      "text/plain": [
       "<Figure size 432x288 with 1 Axes>"
      ]
     },
     "metadata": {
      "needs_background": "light"
     },
     "output_type": "display_data"
    }
   ],
   "source": [
    "ax = ridge_df.plot(kind='bar', title='Variable Coefficients')\n",
    "ax.grid(zorder=0)"
   ]
  },
  {
   "cell_type": "markdown",
   "metadata": {
    "slideshow": {
     "slide_type": "subslide"
    }
   },
   "source": [
    "### ElasticNet Model"
   ]
  },
  {
   "cell_type": "code",
   "execution_count": 35,
   "metadata": {
    "ExecuteTime": {
     "end_time": "2019-11-16T18:15:31.887487Z",
     "start_time": "2019-11-16T18:15:31.718938Z"
    },
    "slideshow": {
     "slide_type": "subslide"
    }
   },
   "outputs": [
    {
     "name": "stdout",
     "output_type": "stream",
     "text": [
      "MSE: 21447890.682992008, RMSE: 4631.186746719679, R2: 0.13530769253161656\n"
     ]
    }
   ],
   "source": [
    "# ElasticNet model\n",
    "# Note: Use an alpha of .01 when creating the model for this activity\n",
    "from sklearn.linear_model import ElasticNet\n",
    "\n",
    "### BEGIN SOLUTION\n",
    "elasticnet = ElasticNet(alpha=.01).fit(X_train, y_train)\n",
    "\n",
    "elasticnet_predictions = elasticnet.predict(X_test)\n",
    "\n",
    "MSE = mean_squared_error(y_test, elasticnet_predictions)\n",
    "RMSE = np.sqrt(MSE)\n",
    "### END SOLUTION\n",
    "\n",
    "print(f\"MSE: {MSE}, RMSE: {RMSE}, R2: {r2}\")"
   ]
  },
  {
   "cell_type": "code",
   "execution_count": 36,
   "metadata": {
    "ExecuteTime": {
     "end_time": "2019-11-16T18:15:31.897460Z",
     "start_time": "2019-11-16T18:15:31.889482Z"
    },
    "slideshow": {
     "slide_type": "subslide"
    }
   },
   "outputs": [
    {
     "data": {
      "text/html": [
       "<div>\n",
       "<style scoped>\n",
       "    .dataframe tbody tr th:only-of-type {\n",
       "        vertical-align: middle;\n",
       "    }\n",
       "\n",
       "    .dataframe tbody tr th {\n",
       "        vertical-align: top;\n",
       "    }\n",
       "\n",
       "    .dataframe thead th {\n",
       "        text-align: right;\n",
       "    }\n",
       "</style>\n",
       "<table border=\"1\" class=\"dataframe\">\n",
       "  <thead>\n",
       "    <tr style=\"text-align: right;\">\n",
       "      <th></th>\n",
       "      <th>Coefficient</th>\n",
       "    </tr>\n",
       "  </thead>\n",
       "  <tbody>\n",
       "    <tr>\n",
       "      <td>Gender</td>\n",
       "      <td>470.540282</td>\n",
       "    </tr>\n",
       "    <tr>\n",
       "      <td>Age</td>\n",
       "      <td>102.423529</td>\n",
       "    </tr>\n",
       "    <tr>\n",
       "      <td>Occupation</td>\n",
       "      <td>5.967020</td>\n",
       "    </tr>\n",
       "    <tr>\n",
       "      <td>City_Category</td>\n",
       "      <td>330.953306</td>\n",
       "    </tr>\n",
       "    <tr>\n",
       "      <td>Stay_In_Current_City_Years</td>\n",
       "      <td>9.400863</td>\n",
       "    </tr>\n",
       "    <tr>\n",
       "      <td>Marital_Status</td>\n",
       "      <td>-48.755231</td>\n",
       "    </tr>\n",
       "    <tr>\n",
       "      <td>Product_Category_1</td>\n",
       "      <td>-318.998347</td>\n",
       "    </tr>\n",
       "    <tr>\n",
       "      <td>Product_Category_2</td>\n",
       "      <td>8.678921</td>\n",
       "    </tr>\n",
       "    <tr>\n",
       "      <td>Product_Category_3</td>\n",
       "      <td>147.563751</td>\n",
       "    </tr>\n",
       "  </tbody>\n",
       "</table>\n",
       "</div>"
      ],
      "text/plain": [
       "                            Coefficient\n",
       "Gender                       470.540282\n",
       "Age                          102.423529\n",
       "Occupation                     5.967020\n",
       "City_Category                330.953306\n",
       "Stay_In_Current_City_Years     9.400863\n",
       "Marital_Status               -48.755231\n",
       "Product_Category_1          -318.998347\n",
       "Product_Category_2             8.678921\n",
       "Product_Category_3           147.563751"
      ]
     },
     "execution_count": 36,
     "metadata": {},
     "output_type": "execute_result"
    }
   ],
   "source": [
    "elasticnet_df = pd.DataFrame(elasticnet.coef_, X_train.columns, columns=['Coefficient'])  \n",
    "elasticnet_df"
   ]
  },
  {
   "cell_type": "code",
   "execution_count": 37,
   "metadata": {
    "ExecuteTime": {
     "end_time": "2019-11-16T18:15:32.130888Z",
     "start_time": "2019-11-16T18:15:31.899454Z"
    },
    "slideshow": {
     "slide_type": "subslide"
    }
   },
   "outputs": [
    {
     "data": {
      "image/png": "[encoded data removed]",
      "text/plain": [
       "<Figure size 432x288 with 1 Axes>"
      ]
     },
     "metadata": {
      "needs_background": "light"
     },
     "output_type": "display_data"
    }
   ],
   "source": [
    "ax = elasticnet_df.plot(kind='bar', title='Variable Coefficients')\n",
    "ax.grid(zorder=0)"
   ]
  },
  {
   "cell_type": "markdown",
   "metadata": {
    "slideshow": {
     "slide_type": "slide"
    }
   },
   "source": [
    "## Regression Model - Scaled & Get Dummies"
   ]
  },
  {
   "cell_type": "code",
   "execution_count": 38,
   "metadata": {
    "ExecuteTime": {
     "end_time": "2019-11-16T18:15:33.073349Z",
     "start_time": "2019-11-16T18:15:32.132830Z"
    },
    "slideshow": {
     "slide_type": "subslide"
    }
   },
   "outputs": [],
   "source": [
    "# Read both train and test data\n",
    "train = pd.read_csv(\"../../data/train.csv\")\n",
    "test = pd.read_csv(\"../../data/test.csv\")\n",
    "\n",
    "# Check for missing values in the train and test file \n",
    "null_values_train = train.isnull().sum().sort_values(ascending = False)\n",
    "null_values_train\n",
    "\n",
    "null_values_test = test.isnull().sum().sort_values(ascending = False)\n",
    "null_values_test\n",
    "\n",
    "# Convert all null values to 0. It is assumed that the if it is null value, the customer did not buy such product\n",
    "train = train.fillna(0)\n",
    "test =  test.fillna(0)"
   ]
  },
  {
   "cell_type": "code",
   "execution_count": 39,
   "metadata": {
    "ExecuteTime": {
     "end_time": "2019-11-16T18:15:33.120189Z",
     "start_time": "2019-11-16T18:15:33.077305Z"
    },
    "slideshow": {
     "slide_type": "subslide"
    }
   },
   "outputs": [],
   "source": [
    "# Lets drop User ID and Product ID\n",
    "drop_columns = ['User_ID', 'Product_ID']\n",
    "train.drop(drop_columns, inplace = True, axis =1)\n",
    "# test.drop(drop_columns, inplace = True, axis =1)"
   ]
  },
  {
   "cell_type": "code",
   "execution_count": 40,
   "metadata": {
    "ExecuteTime": {
     "end_time": "2019-11-16T18:15:33.221919Z",
     "start_time": "2019-11-16T18:15:33.124185Z"
    },
    "slideshow": {
     "slide_type": "subslide"
    }
   },
   "outputs": [
    {
     "data": {
      "text/html": [
       "<div>\n",
       "<style scoped>\n",
       "    .dataframe tbody tr th:only-of-type {\n",
       "        vertical-align: middle;\n",
       "    }\n",
       "\n",
       "    .dataframe tbody tr th {\n",
       "        vertical-align: top;\n",
       "    }\n",
       "\n",
       "    .dataframe thead th {\n",
       "        text-align: right;\n",
       "    }\n",
       "</style>\n",
       "<table border=\"1\" class=\"dataframe\">\n",
       "  <thead>\n",
       "    <tr style=\"text-align: right;\">\n",
       "      <th></th>\n",
       "      <th>Gender</th>\n",
       "      <th>Age</th>\n",
       "      <th>Occupation</th>\n",
       "      <th>City_Category</th>\n",
       "      <th>Stay_In_Current_City_Years</th>\n",
       "      <th>Marital_Status</th>\n",
       "      <th>Product_Category_1</th>\n",
       "      <th>Product_Category_2</th>\n",
       "      <th>Product_Category_3</th>\n",
       "      <th>Purchase</th>\n",
       "    </tr>\n",
       "  </thead>\n",
       "  <tbody>\n",
       "    <tr>\n",
       "      <td>0</td>\n",
       "      <td>F</td>\n",
       "      <td>0-17</td>\n",
       "      <td>10</td>\n",
       "      <td>A</td>\n",
       "      <td>2</td>\n",
       "      <td>0</td>\n",
       "      <td>3</td>\n",
       "      <td>0.0</td>\n",
       "      <td>0.0</td>\n",
       "      <td>8370</td>\n",
       "    </tr>\n",
       "    <tr>\n",
       "      <td>1</td>\n",
       "      <td>F</td>\n",
       "      <td>0-17</td>\n",
       "      <td>10</td>\n",
       "      <td>A</td>\n",
       "      <td>2</td>\n",
       "      <td>0</td>\n",
       "      <td>1</td>\n",
       "      <td>6.0</td>\n",
       "      <td>14.0</td>\n",
       "      <td>15200</td>\n",
       "    </tr>\n",
       "    <tr>\n",
       "      <td>2</td>\n",
       "      <td>F</td>\n",
       "      <td>0-17</td>\n",
       "      <td>10</td>\n",
       "      <td>A</td>\n",
       "      <td>2</td>\n",
       "      <td>0</td>\n",
       "      <td>12</td>\n",
       "      <td>0.0</td>\n",
       "      <td>0.0</td>\n",
       "      <td>1422</td>\n",
       "    </tr>\n",
       "    <tr>\n",
       "      <td>3</td>\n",
       "      <td>F</td>\n",
       "      <td>0-17</td>\n",
       "      <td>10</td>\n",
       "      <td>A</td>\n",
       "      <td>2</td>\n",
       "      <td>0</td>\n",
       "      <td>12</td>\n",
       "      <td>14.0</td>\n",
       "      <td>0.0</td>\n",
       "      <td>1057</td>\n",
       "    </tr>\n",
       "    <tr>\n",
       "      <td>4</td>\n",
       "      <td>M</td>\n",
       "      <td>55+</td>\n",
       "      <td>16</td>\n",
       "      <td>C</td>\n",
       "      <td>4+</td>\n",
       "      <td>0</td>\n",
       "      <td>8</td>\n",
       "      <td>0.0</td>\n",
       "      <td>0.0</td>\n",
       "      <td>7969</td>\n",
       "    </tr>\n",
       "    <tr>\n",
       "      <td>...</td>\n",
       "      <td>...</td>\n",
       "      <td>...</td>\n",
       "      <td>...</td>\n",
       "      <td>...</td>\n",
       "      <td>...</td>\n",
       "      <td>...</td>\n",
       "      <td>...</td>\n",
       "      <td>...</td>\n",
       "      <td>...</td>\n",
       "      <td>...</td>\n",
       "    </tr>\n",
       "    <tr>\n",
       "      <td>545910</td>\n",
       "      <td>M</td>\n",
       "      <td>26-35</td>\n",
       "      <td>6</td>\n",
       "      <td>B</td>\n",
       "      <td>2</td>\n",
       "      <td>0</td>\n",
       "      <td>8</td>\n",
       "      <td>0.0</td>\n",
       "      <td>0.0</td>\n",
       "      <td>9855</td>\n",
       "    </tr>\n",
       "    <tr>\n",
       "      <td>545911</td>\n",
       "      <td>M</td>\n",
       "      <td>26-35</td>\n",
       "      <td>6</td>\n",
       "      <td>B</td>\n",
       "      <td>2</td>\n",
       "      <td>0</td>\n",
       "      <td>5</td>\n",
       "      <td>0.0</td>\n",
       "      <td>0.0</td>\n",
       "      <td>1962</td>\n",
       "    </tr>\n",
       "    <tr>\n",
       "      <td>545912</td>\n",
       "      <td>M</td>\n",
       "      <td>26-35</td>\n",
       "      <td>6</td>\n",
       "      <td>B</td>\n",
       "      <td>2</td>\n",
       "      <td>0</td>\n",
       "      <td>8</td>\n",
       "      <td>0.0</td>\n",
       "      <td>0.0</td>\n",
       "      <td>7852</td>\n",
       "    </tr>\n",
       "    <tr>\n",
       "      <td>545913</td>\n",
       "      <td>M</td>\n",
       "      <td>26-35</td>\n",
       "      <td>6</td>\n",
       "      <td>B</td>\n",
       "      <td>2</td>\n",
       "      <td>0</td>\n",
       "      <td>5</td>\n",
       "      <td>0.0</td>\n",
       "      <td>0.0</td>\n",
       "      <td>7159</td>\n",
       "    </tr>\n",
       "    <tr>\n",
       "      <td>545914</td>\n",
       "      <td>M</td>\n",
       "      <td>26-35</td>\n",
       "      <td>6</td>\n",
       "      <td>B</td>\n",
       "      <td>2</td>\n",
       "      <td>0</td>\n",
       "      <td>1</td>\n",
       "      <td>2.0</td>\n",
       "      <td>11.0</td>\n",
       "      <td>11640</td>\n",
       "    </tr>\n",
       "  </tbody>\n",
       "</table>\n",
       "<p>545915 rows × 10 columns</p>\n",
       "</div>"
      ],
      "text/plain": [
       "       Gender    Age  Occupation City_Category Stay_In_Current_City_Years  \\\n",
       "0           F   0-17          10             A                          2   \n",
       "1           F   0-17          10             A                          2   \n",
       "2           F   0-17          10             A                          2   \n",
       "3           F   0-17          10             A                          2   \n",
       "4           M    55+          16             C                         4+   \n",
       "...       ...    ...         ...           ...                        ...   \n",
       "545910      M  26-35           6             B                          2   \n",
       "545911      M  26-35           6             B                          2   \n",
       "545912      M  26-35           6             B                          2   \n",
       "545913      M  26-35           6             B                          2   \n",
       "545914      M  26-35           6             B                          2   \n",
       "\n",
       "        Marital_Status  Product_Category_1  Product_Category_2  \\\n",
       "0                    0                   3                 0.0   \n",
       "1                    0                   1                 6.0   \n",
       "2                    0                  12                 0.0   \n",
       "3                    0                  12                14.0   \n",
       "4                    0                   8                 0.0   \n",
       "...                ...                 ...                 ...   \n",
       "545910               0                   8                 0.0   \n",
       "545911               0                   5                 0.0   \n",
       "545912               0                   8                 0.0   \n",
       "545913               0                   5                 0.0   \n",
       "545914               0                   1                 2.0   \n",
       "\n",
       "        Product_Category_3  Purchase  \n",
       "0                      0.0      8370  \n",
       "1                     14.0     15200  \n",
       "2                      0.0      1422  \n",
       "3                      0.0      1057  \n",
       "4                      0.0      7969  \n",
       "...                    ...       ...  \n",
       "545910                 0.0      9855  \n",
       "545911                 0.0      1962  \n",
       "545912                 0.0      7852  \n",
       "545913                 0.0      7159  \n",
       "545914                11.0     11640  \n",
       "\n",
       "[545915 rows x 10 columns]"
      ]
     },
     "execution_count": 40,
     "metadata": {},
     "output_type": "execute_result"
    }
   ],
   "source": [
    "# Remove category 19 and 20 fron Product Category 1 from Train\n",
    "removal = train.index[(train.Product_Category_1.isin([19,20]))]\n",
    "train = train.drop(removal)\n",
    "train"
   ]
  },
  {
   "cell_type": "code",
   "execution_count": 41,
   "metadata": {
    "ExecuteTime": {
     "end_time": "2019-11-16T18:15:33.421384Z",
     "start_time": "2019-11-16T18:15:33.223912Z"
    },
    "slideshow": {
     "slide_type": "subslide"
    }
   },
   "outputs": [
    {
     "data": {
      "text/html": [
       "<div>\n",
       "<style scoped>\n",
       "    .dataframe tbody tr th:only-of-type {\n",
       "        vertical-align: middle;\n",
       "    }\n",
       "\n",
       "    .dataframe tbody tr th {\n",
       "        vertical-align: top;\n",
       "    }\n",
       "\n",
       "    .dataframe thead th {\n",
       "        text-align: right;\n",
       "    }\n",
       "</style>\n",
       "<table border=\"1\" class=\"dataframe\">\n",
       "  <thead>\n",
       "    <tr style=\"text-align: right;\">\n",
       "      <th></th>\n",
       "      <th>Occupation</th>\n",
       "      <th>Marital_Status</th>\n",
       "      <th>Product_Category_1</th>\n",
       "      <th>Product_Category_2</th>\n",
       "      <th>Product_Category_3</th>\n",
       "      <th>Purchase</th>\n",
       "      <th>Gender_F</th>\n",
       "      <th>Gender_M</th>\n",
       "      <th>Age_0-17</th>\n",
       "      <th>Age_18-25</th>\n",
       "      <th>Age_26-35</th>\n",
       "      <th>Age_36-45</th>\n",
       "      <th>Age_46-50</th>\n",
       "      <th>Age_51-55</th>\n",
       "      <th>Age_55+</th>\n",
       "      <th>City_Category_A</th>\n",
       "      <th>City_Category_B</th>\n",
       "      <th>City_Category_C</th>\n",
       "      <th>Stay_In_Current_City_Years_0</th>\n",
       "      <th>Stay_In_Current_City_Years_1</th>\n",
       "      <th>Stay_In_Current_City_Years_2</th>\n",
       "      <th>Stay_In_Current_City_Years_3</th>\n",
       "      <th>Stay_In_Current_City_Years_4+</th>\n",
       "    </tr>\n",
       "  </thead>\n",
       "  <tbody>\n",
       "    <tr>\n",
       "      <td>0</td>\n",
       "      <td>10</td>\n",
       "      <td>0</td>\n",
       "      <td>3</td>\n",
       "      <td>0.0</td>\n",
       "      <td>0.0</td>\n",
       "      <td>8370</td>\n",
       "      <td>1</td>\n",
       "      <td>0</td>\n",
       "      <td>1</td>\n",
       "      <td>0</td>\n",
       "      <td>0</td>\n",
       "      <td>0</td>\n",
       "      <td>0</td>\n",
       "      <td>0</td>\n",
       "      <td>0</td>\n",
       "      <td>1</td>\n",
       "      <td>0</td>\n",
       "      <td>0</td>\n",
       "      <td>0</td>\n",
       "      <td>0</td>\n",
       "      <td>1</td>\n",
       "      <td>0</td>\n",
       "      <td>0</td>\n",
       "    </tr>\n",
       "    <tr>\n",
       "      <td>1</td>\n",
       "      <td>10</td>\n",
       "      <td>0</td>\n",
       "      <td>1</td>\n",
       "      <td>6.0</td>\n",
       "      <td>14.0</td>\n",
       "      <td>15200</td>\n",
       "      <td>1</td>\n",
       "      <td>0</td>\n",
       "      <td>1</td>\n",
       "      <td>0</td>\n",
       "      <td>0</td>\n",
       "      <td>0</td>\n",
       "      <td>0</td>\n",
       "      <td>0</td>\n",
       "      <td>0</td>\n",
       "      <td>1</td>\n",
       "      <td>0</td>\n",
       "      <td>0</td>\n",
       "      <td>0</td>\n",
       "      <td>0</td>\n",
       "      <td>1</td>\n",
       "      <td>0</td>\n",
       "      <td>0</td>\n",
       "    </tr>\n",
       "    <tr>\n",
       "      <td>2</td>\n",
       "      <td>10</td>\n",
       "      <td>0</td>\n",
       "      <td>12</td>\n",
       "      <td>0.0</td>\n",
       "      <td>0.0</td>\n",
       "      <td>1422</td>\n",
       "      <td>1</td>\n",
       "      <td>0</td>\n",
       "      <td>1</td>\n",
       "      <td>0</td>\n",
       "      <td>0</td>\n",
       "      <td>0</td>\n",
       "      <td>0</td>\n",
       "      <td>0</td>\n",
       "      <td>0</td>\n",
       "      <td>1</td>\n",
       "      <td>0</td>\n",
       "      <td>0</td>\n",
       "      <td>0</td>\n",
       "      <td>0</td>\n",
       "      <td>1</td>\n",
       "      <td>0</td>\n",
       "      <td>0</td>\n",
       "    </tr>\n",
       "    <tr>\n",
       "      <td>3</td>\n",
       "      <td>10</td>\n",
       "      <td>0</td>\n",
       "      <td>12</td>\n",
       "      <td>14.0</td>\n",
       "      <td>0.0</td>\n",
       "      <td>1057</td>\n",
       "      <td>1</td>\n",
       "      <td>0</td>\n",
       "      <td>1</td>\n",
       "      <td>0</td>\n",
       "      <td>0</td>\n",
       "      <td>0</td>\n",
       "      <td>0</td>\n",
       "      <td>0</td>\n",
       "      <td>0</td>\n",
       "      <td>1</td>\n",
       "      <td>0</td>\n",
       "      <td>0</td>\n",
       "      <td>0</td>\n",
       "      <td>0</td>\n",
       "      <td>1</td>\n",
       "      <td>0</td>\n",
       "      <td>0</td>\n",
       "    </tr>\n",
       "    <tr>\n",
       "      <td>4</td>\n",
       "      <td>16</td>\n",
       "      <td>0</td>\n",
       "      <td>8</td>\n",
       "      <td>0.0</td>\n",
       "      <td>0.0</td>\n",
       "      <td>7969</td>\n",
       "      <td>0</td>\n",
       "      <td>1</td>\n",
       "      <td>0</td>\n",
       "      <td>0</td>\n",
       "      <td>0</td>\n",
       "      <td>0</td>\n",
       "      <td>0</td>\n",
       "      <td>0</td>\n",
       "      <td>1</td>\n",
       "      <td>0</td>\n",
       "      <td>0</td>\n",
       "      <td>1</td>\n",
       "      <td>0</td>\n",
       "      <td>0</td>\n",
       "      <td>0</td>\n",
       "      <td>0</td>\n",
       "      <td>1</td>\n",
       "    </tr>\n",
       "  </tbody>\n",
       "</table>\n",
       "</div>"
      ],
      "text/plain": [
       "   Occupation  Marital_Status  Product_Category_1  Product_Category_2  \\\n",
       "0          10               0                   3                 0.0   \n",
       "1          10               0                   1                 6.0   \n",
       "2          10               0                  12                 0.0   \n",
       "3          10               0                  12                14.0   \n",
       "4          16               0                   8                 0.0   \n",
       "\n",
       "   Product_Category_3  Purchase  Gender_F  Gender_M  Age_0-17  Age_18-25  \\\n",
       "0                 0.0      8370         1         0         1          0   \n",
       "1                14.0     15200         1         0         1          0   \n",
       "2                 0.0      1422         1         0         1          0   \n",
       "3                 0.0      1057         1         0         1          0   \n",
       "4                 0.0      7969         0         1         0          0   \n",
       "\n",
       "   Age_26-35  Age_36-45  Age_46-50  Age_51-55  Age_55+  City_Category_A  \\\n",
       "0          0          0          0          0        0                1   \n",
       "1          0          0          0          0        0                1   \n",
       "2          0          0          0          0        0                1   \n",
       "3          0          0          0          0        0                1   \n",
       "4          0          0          0          0        1                0   \n",
       "\n",
       "   City_Category_B  City_Category_C  Stay_In_Current_City_Years_0  \\\n",
       "0                0                0                             0   \n",
       "1                0                0                             0   \n",
       "2                0                0                             0   \n",
       "3                0                0                             0   \n",
       "4                0                1                             0   \n",
       "\n",
       "   Stay_In_Current_City_Years_1  Stay_In_Current_City_Years_2  \\\n",
       "0                             0                             1   \n",
       "1                             0                             1   \n",
       "2                             0                             1   \n",
       "3                             0                             1   \n",
       "4                             0                             0   \n",
       "\n",
       "   Stay_In_Current_City_Years_3  Stay_In_Current_City_Years_4+  \n",
       "0                             0                              0  \n",
       "1                             0                              0  \n",
       "2                             0                              0  \n",
       "3                             0                              0  \n",
       "4                             0                              1  "
      ]
     },
     "execution_count": 41,
     "metadata": {},
     "output_type": "execute_result"
    }
   ],
   "source": [
    "train = pd.get_dummies(train)\n",
    "train.head()"
   ]
  },
  {
   "cell_type": "code",
   "execution_count": 42,
   "metadata": {
    "ExecuteTime": {
     "end_time": "2019-11-16T18:15:33.428366Z",
     "start_time": "2019-11-16T18:15:33.423379Z"
    },
    "slideshow": {
     "slide_type": "skip"
    }
   },
   "outputs": [
    {
     "data": {
      "text/plain": [
       "Index(['Occupation', 'Marital_Status', 'Product_Category_1',\n",
       "       'Product_Category_2', 'Product_Category_3', 'Purchase', 'Gender_F',\n",
       "       'Gender_M', 'Age_0-17', 'Age_18-25', 'Age_26-35', 'Age_36-45',\n",
       "       'Age_46-50', 'Age_51-55', 'Age_55+', 'City_Category_A',\n",
       "       'City_Category_B', 'City_Category_C', 'Stay_In_Current_City_Years_0',\n",
       "       'Stay_In_Current_City_Years_1', 'Stay_In_Current_City_Years_2',\n",
       "       'Stay_In_Current_City_Years_3', 'Stay_In_Current_City_Years_4+'],\n",
       "      dtype='object')"
      ]
     },
     "execution_count": 42,
     "metadata": {},
     "output_type": "execute_result"
    }
   ],
   "source": [
    "train.columns"
   ]
  },
  {
   "cell_type": "code",
   "execution_count": 43,
   "metadata": {
    "ExecuteTime": {
     "end_time": "2019-11-16T18:15:33.508151Z",
     "start_time": "2019-11-16T18:15:33.430361Z"
    },
    "slideshow": {
     "slide_type": "subslide"
    }
   },
   "outputs": [
    {
     "name": "stdout",
     "output_type": "stream",
     "text": [
      "(545915, 22) (545915, 1)\n"
     ]
    }
   ],
   "source": [
    "X = train[['Occupation', 'Marital_Status', 'Product_Category_1',\n",
    "       'Product_Category_2', 'Product_Category_3', 'Gender_F',\n",
    "       'Gender_M', 'Age_0-17', 'Age_18-25', 'Age_26-35', 'Age_36-45',\n",
    "       'Age_46-50', 'Age_51-55', 'Age_55+', 'City_Category_A',\n",
    "       'City_Category_B', 'City_Category_C', 'Stay_In_Current_City_Years_0',\n",
    "       'Stay_In_Current_City_Years_1', 'Stay_In_Current_City_Years_2',\n",
    "       'Stay_In_Current_City_Years_3', 'Stay_In_Current_City_Years_4+']]\n",
    "y = train['Purchase'].values.reshape(-1, 1)\n",
    "print(X.shape, y.shape)"
   ]
  },
  {
   "cell_type": "code",
   "execution_count": 44,
   "metadata": {
    "ExecuteTime": {
     "end_time": "2019-11-16T18:15:33.678694Z",
     "start_time": "2019-11-16T18:15:33.510147Z"
    },
    "slideshow": {
     "slide_type": "subslide"
    }
   },
   "outputs": [],
   "source": [
    "# Split the data into training and testing\n",
    "\n",
    "### BEGIN SOLUTION\n",
    "from sklearn.model_selection import train_test_split\n",
    "from sklearn import metrics\n",
    "\n",
    "X_train, X_test, y_train, y_test = train_test_split(X, y, test_size = 0.2, random_state=42) # need to add stratify = y but I get an error\n",
    "### END SOLUTION"
   ]
  },
  {
   "cell_type": "markdown",
   "metadata": {
    "slideshow": {
     "slide_type": "subslide"
    }
   },
   "source": [
    "### StandardScaler"
   ]
  },
  {
   "cell_type": "code",
   "execution_count": 45,
   "metadata": {
    "ExecuteTime": {
     "end_time": "2019-11-16T18:15:34.054689Z",
     "start_time": "2019-11-16T18:15:33.680691Z"
    },
    "slideshow": {
     "slide_type": "subslide"
    }
   },
   "outputs": [],
   "source": [
    "from sklearn.preprocessing import StandardScaler\n",
    "\n",
    "# Create a StandardScaler model and fit it to the training data\n",
    "\n",
    "### BEGIN SOLUTION\n",
    "X_scaler = StandardScaler().fit(X_train)\n",
    "y_scaler = StandardScaler().fit(y_train)\n",
    "## END SOLUTION"
   ]
  },
  {
   "cell_type": "code",
   "execution_count": 46,
   "metadata": {
    "ExecuteTime": {
     "end_time": "2019-11-16T18:15:34.220247Z",
     "start_time": "2019-11-16T18:15:34.056684Z"
    },
    "slideshow": {
     "slide_type": "subslide"
    }
   },
   "outputs": [],
   "source": [
    "# Transform the training and testing data using the X_scaler and y_scaler models\n",
    "\n",
    "### BEGIN SOLUTION\n",
    "X_train_scaled = X_scaler.transform(X_train)\n",
    "X_test_scaled = X_scaler.transform(X_test)\n",
    "y_train_scaled = y_scaler.transform(y_train)\n",
    "y_test_scaled = y_scaler.transform(y_test)\n",
    "### END SOLUTION\n"
   ]
  },
  {
   "cell_type": "markdown",
   "metadata": {
    "slideshow": {
     "slide_type": "subslide"
    }
   },
   "source": [
    "### Multivariate Linear Regression"
   ]
  },
  {
   "cell_type": "code",
   "execution_count": 47,
   "metadata": {
    "ExecuteTime": {
     "end_time": "2019-11-16T18:15:34.574301Z",
     "start_time": "2019-11-16T18:15:34.221244Z"
    },
    "slideshow": {
     "slide_type": "subslide"
    }
   },
   "outputs": [
    {
     "data": {
      "text/plain": [
       "LinearRegression(copy_X=True, fit_intercept=True, n_jobs=1, normalize=False)"
      ]
     },
     "execution_count": 47,
     "metadata": {},
     "output_type": "execute_result"
    }
   ],
   "source": [
    "### BEGIN SOLUTION\n",
    "from sklearn.linear_model import LinearRegression\n",
    "model = LinearRegression(n_jobs = 1)\n",
    "model.fit(X_train_scaled, y_train_scaled)\n",
    "### END SOLUTION"
   ]
  },
  {
   "cell_type": "code",
   "execution_count": 48,
   "metadata": {
    "ExecuteTime": {
     "end_time": "2019-11-16T18:15:41.956595Z",
     "start_time": "2019-11-16T18:15:34.576295Z"
    },
    "slideshow": {
     "slide_type": "subslide"
    }
   },
   "outputs": [
    {
     "data": {
      "image/png": "[encoded data removed]",
      "text/plain": [
       "<Figure size 432x288 with 1 Axes>"
      ]
     },
     "metadata": {
      "needs_background": "light"
     },
     "output_type": "display_data"
    }
   ],
   "source": [
    "# Make predictions using the X_test_scaled data\n",
    "# Plot y_test_scaled vs y_test_scaled\n",
    "# Scatter plot y_test_scaled vs predictions\n",
    "\n",
    "### BEGIN SOLUTION\n",
    "predictions = model.predict(X_test_scaled)\n",
    "\n",
    "plt.scatter(model.predict(X_train_scaled), model.predict(X_train_scaled) - y_train_scaled, c=\"blue\", label=\"Training Data\")\n",
    "plt.scatter(model.predict(X_test_scaled), model.predict(X_test_scaled) - y_test_scaled, c=\"orange\", label=\"Testing Data\")\n",
    "plt.legend()\n",
    "plt.hlines(y=0, xmin=y_test_scaled.min(), xmax=y_test_scaled.max())\n",
    "plt.title(\"Residual Plot\")\n",
    "plt.show()\n",
    "### END SOLUTION\n"
   ]
  },
  {
   "cell_type": "code",
   "execution_count": 49,
   "metadata": {
    "ExecuteTime": {
     "end_time": "2019-11-16T18:15:41.973507Z",
     "start_time": "2019-11-16T18:15:41.958547Z"
    },
    "slideshow": {
     "slide_type": "subslide"
    }
   },
   "outputs": [
    {
     "name": "stdout",
     "output_type": "stream",
     "text": [
      "MSE: 0.8644605079137399, RMSE: 0.9297636839077658, R2: 0.1357641511192248\n"
     ]
    }
   ],
   "source": [
    "# Used X_test_scaled, y_test_scaled, and model.predict(X_test_scaled) to calculate MSE and R2\n",
    "\n",
    "### BEGIN SOLUTION\n",
    "\n",
    "from sklearn.metrics import mean_squared_error\n",
    "\n",
    "MSE = mean_squared_error(y_test_scaled, predictions)\n",
    "r2 = model.score(X_test_scaled, y_test_scaled)\n",
    "RMSE = np.sqrt(MSE)\n",
    "### END SOLUTION\n",
    "\n",
    "print(f\"MSE: {MSE}, RMSE: {RMSE}, R2: {r2}\")"
   ]
  },
  {
   "cell_type": "code",
   "execution_count": 50,
   "metadata": {
    "ExecuteTime": {
     "end_time": "2019-11-16T18:15:41.979525Z",
     "start_time": "2019-11-16T18:15:41.974504Z"
    },
    "slideshow": {
     "slide_type": "subslide"
    }
   },
   "outputs": [
    {
     "data": {
      "text/plain": [
       "array([ 7.76118780e-03, -5.79231674e-03, -2.40291660e-01,  1.05797786e-02,\n",
       "        1.85257164e-01, -5.08422852e+09, -5.08422852e+09, -4.20746419e+09,\n",
       "       -9.90963300e+09, -1.25958923e+10, -1.02813893e+10, -7.10063544e+09,\n",
       "       -6.55987570e+09, -4.96538071e+09,  2.86823501e+10,  3.19318929e+10,\n",
       "        2.99192453e+10,  2.00970207e+10,  2.80608865e+10,  2.28243303e+10,\n",
       "        2.22442105e+10,  2.12225081e+10])"
      ]
     },
     "execution_count": 50,
     "metadata": {},
     "output_type": "execute_result"
    }
   ],
   "source": [
    "model.coef_[0]"
   ]
  },
  {
   "cell_type": "code",
   "execution_count": 51,
   "metadata": {
    "ExecuteTime": {
     "end_time": "2019-11-16T18:15:41.990513Z",
     "start_time": "2019-11-16T18:15:41.980487Z"
    },
    "slideshow": {
     "slide_type": "subslide"
    }
   },
   "outputs": [
    {
     "data": {
      "text/html": [
       "<div>\n",
       "<style scoped>\n",
       "    .dataframe tbody tr th:only-of-type {\n",
       "        vertical-align: middle;\n",
       "    }\n",
       "\n",
       "    .dataframe tbody tr th {\n",
       "        vertical-align: top;\n",
       "    }\n",
       "\n",
       "    .dataframe thead th {\n",
       "        text-align: right;\n",
       "    }\n",
       "</style>\n",
       "<table border=\"1\" class=\"dataframe\">\n",
       "  <thead>\n",
       "    <tr style=\"text-align: right;\">\n",
       "      <th></th>\n",
       "      <th>Coefficient</th>\n",
       "    </tr>\n",
       "  </thead>\n",
       "  <tbody>\n",
       "    <tr>\n",
       "      <td>Occupation</td>\n",
       "      <td>7.761188e-03</td>\n",
       "    </tr>\n",
       "    <tr>\n",
       "      <td>Marital_Status</td>\n",
       "      <td>-5.792317e-03</td>\n",
       "    </tr>\n",
       "    <tr>\n",
       "      <td>Product_Category_1</td>\n",
       "      <td>-2.402917e-01</td>\n",
       "    </tr>\n",
       "    <tr>\n",
       "      <td>Product_Category_2</td>\n",
       "      <td>1.057978e-02</td>\n",
       "    </tr>\n",
       "    <tr>\n",
       "      <td>Product_Category_3</td>\n",
       "      <td>1.852572e-01</td>\n",
       "    </tr>\n",
       "    <tr>\n",
       "      <td>Gender_F</td>\n",
       "      <td>-5.084229e+09</td>\n",
       "    </tr>\n",
       "    <tr>\n",
       "      <td>Gender_M</td>\n",
       "      <td>-5.084229e+09</td>\n",
       "    </tr>\n",
       "    <tr>\n",
       "      <td>Age_0-17</td>\n",
       "      <td>-4.207464e+09</td>\n",
       "    </tr>\n",
       "    <tr>\n",
       "      <td>Age_18-25</td>\n",
       "      <td>-9.909633e+09</td>\n",
       "    </tr>\n",
       "    <tr>\n",
       "      <td>Age_26-35</td>\n",
       "      <td>-1.259589e+10</td>\n",
       "    </tr>\n",
       "    <tr>\n",
       "      <td>Age_36-45</td>\n",
       "      <td>-1.028139e+10</td>\n",
       "    </tr>\n",
       "    <tr>\n",
       "      <td>Age_46-50</td>\n",
       "      <td>-7.100635e+09</td>\n",
       "    </tr>\n",
       "    <tr>\n",
       "      <td>Age_51-55</td>\n",
       "      <td>-6.559876e+09</td>\n",
       "    </tr>\n",
       "    <tr>\n",
       "      <td>Age_55+</td>\n",
       "      <td>-4.965381e+09</td>\n",
       "    </tr>\n",
       "    <tr>\n",
       "      <td>City_Category_A</td>\n",
       "      <td>2.868235e+10</td>\n",
       "    </tr>\n",
       "    <tr>\n",
       "      <td>City_Category_B</td>\n",
       "      <td>3.193189e+10</td>\n",
       "    </tr>\n",
       "    <tr>\n",
       "      <td>City_Category_C</td>\n",
       "      <td>2.991925e+10</td>\n",
       "    </tr>\n",
       "    <tr>\n",
       "      <td>Stay_In_Current_City_Years_0</td>\n",
       "      <td>2.009702e+10</td>\n",
       "    </tr>\n",
       "    <tr>\n",
       "      <td>Stay_In_Current_City_Years_1</td>\n",
       "      <td>2.806089e+10</td>\n",
       "    </tr>\n",
       "    <tr>\n",
       "      <td>Stay_In_Current_City_Years_2</td>\n",
       "      <td>2.282433e+10</td>\n",
       "    </tr>\n",
       "    <tr>\n",
       "      <td>Stay_In_Current_City_Years_3</td>\n",
       "      <td>2.224421e+10</td>\n",
       "    </tr>\n",
       "    <tr>\n",
       "      <td>Stay_In_Current_City_Years_4+</td>\n",
       "      <td>2.122251e+10</td>\n",
       "    </tr>\n",
       "  </tbody>\n",
       "</table>\n",
       "</div>"
      ],
      "text/plain": [
       "                                Coefficient\n",
       "Occupation                     7.761188e-03\n",
       "Marital_Status                -5.792317e-03\n",
       "Product_Category_1            -2.402917e-01\n",
       "Product_Category_2             1.057978e-02\n",
       "Product_Category_3             1.852572e-01\n",
       "Gender_F                      -5.084229e+09\n",
       "Gender_M                      -5.084229e+09\n",
       "Age_0-17                      -4.207464e+09\n",
       "Age_18-25                     -9.909633e+09\n",
       "Age_26-35                     -1.259589e+10\n",
       "Age_36-45                     -1.028139e+10\n",
       "Age_46-50                     -7.100635e+09\n",
       "Age_51-55                     -6.559876e+09\n",
       "Age_55+                       -4.965381e+09\n",
       "City_Category_A                2.868235e+10\n",
       "City_Category_B                3.193189e+10\n",
       "City_Category_C                2.991925e+10\n",
       "Stay_In_Current_City_Years_0   2.009702e+10\n",
       "Stay_In_Current_City_Years_1   2.806089e+10\n",
       "Stay_In_Current_City_Years_2   2.282433e+10\n",
       "Stay_In_Current_City_Years_3   2.224421e+10\n",
       "Stay_In_Current_City_Years_4+  2.122251e+10"
      ]
     },
     "execution_count": 51,
     "metadata": {},
     "output_type": "execute_result"
    }
   ],
   "source": [
    "coeff_df = pd.DataFrame(model.coef_[0], X_train.columns, columns=['Coefficient'])  \n",
    "coeff_df"
   ]
  },
  {
   "cell_type": "code",
   "execution_count": 52,
   "metadata": {
    "ExecuteTime": {
     "end_time": "2019-11-16T18:15:42.296644Z",
     "start_time": "2019-11-16T18:15:41.991458Z"
    },
    "slideshow": {
     "slide_type": "subslide"
    }
   },
   "outputs": [
    {
     "data": {
      "image/png": "[encoded data removed]",
      "text/plain": [
       "<Figure size 432x288 with 1 Axes>"
      ]
     },
     "metadata": {
      "needs_background": "light"
     },
     "output_type": "display_data"
    }
   ],
   "source": [
    "ax = coeff_df.plot(kind='bar', title='Variable Coefficients')\n",
    "ax.grid(zorder=0)"
   ]
  },
  {
   "cell_type": "markdown",
   "metadata": {
    "slideshow": {
     "slide_type": "subslide"
    }
   },
   "source": [
    "### Coefficients Correlation"
   ]
  },
  {
   "cell_type": "code",
   "execution_count": 53,
   "metadata": {
    "ExecuteTime": {
     "end_time": "2019-11-16T18:15:43.442578Z",
     "start_time": "2019-11-16T18:15:42.298637Z"
    },
    "slideshow": {
     "slide_type": "subslide"
    }
   },
   "outputs": [
    {
     "data": {
      "image/png": "[encoded data removed]",
      "text/plain": [
       "<Figure size 432x288 with 2 Axes>"
      ]
     },
     "metadata": {
      "needs_background": "light"
     },
     "output_type": "display_data"
    }
   ],
   "source": [
    "import seaborn as sns\n",
    "corr = X.corr()\n",
    "ax = sns.heatmap(\n",
    "    corr, \n",
    "    vmin=-1, vmax=1, center=0,\n",
    "    cmap=sns.diverging_palette(20, 220, n=200),\n",
    "    square=True\n",
    ")\n",
    "ax.set_xticklabels(\n",
    "    ax.get_xticklabels(),\n",
    "    rotation=45,\n",
    "    horizontalalignment='right'\n",
    ");"
   ]
  },
  {
   "cell_type": "markdown",
   "metadata": {
    "slideshow": {
     "slide_type": "subslide"
    }
   },
   "source": [
    "### LASSO Model"
   ]
  },
  {
   "cell_type": "code",
   "execution_count": 54,
   "metadata": {
    "ExecuteTime": {
     "end_time": "2019-11-16T18:15:43.741778Z",
     "start_time": "2019-11-16T18:15:43.444572Z"
    },
    "slideshow": {
     "slide_type": "subslide"
    }
   },
   "outputs": [
    {
     "name": "stdout",
     "output_type": "stream",
     "text": [
      "MSE: 0.8653677199826276, RMSE: 0.9302514283690339, R2: 0.13485717481979587\n"
     ]
    }
   ],
   "source": [
    "# LASSO model\n",
    "# Note: Use an alpha of .01 when creating the model for this activity\n",
    "from sklearn.linear_model import Lasso\n",
    "\n",
    "lasso = Lasso(alpha=.01).fit(X_train_scaled, y_train_scaled)\n",
    "\n",
    "lasso_predictions = lasso.predict(X_test_scaled)\n",
    "\n",
    "MSE = mean_squared_error(y_test_scaled, lasso_predictions)\n",
    "r2 = lasso.score(X_test_scaled, y_test_scaled)\n",
    "RMSE = np.sqrt(MSE)\n",
    "### END SOLUTION\n",
    "\n",
    "print(f\"MSE: {MSE}, RMSE: {RMSE}, R2: {r2}\")\n"
   ]
  },
  {
   "cell_type": "code",
   "execution_count": 55,
   "metadata": {
    "ExecuteTime": {
     "end_time": "2019-11-16T18:15:43.749755Z",
     "start_time": "2019-11-16T18:15:43.743771Z"
    },
    "slideshow": {
     "slide_type": "subslide"
    }
   },
   "outputs": [
    {
     "data": {
      "text/plain": [
       "array([ 7.62125669e-04,  0.00000000e+00, -2.32546402e-01,  2.01768959e-03,\n",
       "        1.79751440e-01, -3.28277423e-02,  2.08250071e-18, -6.54676112e-03,\n",
       "       -6.03584446e-03, -0.00000000e+00,  0.00000000e+00,  0.00000000e+00,\n",
       "        9.27913935e-03,  0.00000000e+00, -7.08723474e-03, -0.00000000e+00,\n",
       "        4.35880563e-02, -0.00000000e+00,  0.00000000e+00,  0.00000000e+00,\n",
       "       -0.00000000e+00,  0.00000000e+00])"
      ]
     },
     "execution_count": 55,
     "metadata": {},
     "output_type": "execute_result"
    }
   ],
   "source": [
    "lasso.coef_"
   ]
  },
  {
   "cell_type": "code",
   "execution_count": 56,
   "metadata": {
    "ExecuteTime": {
     "end_time": "2019-11-16T18:15:43.760725Z",
     "start_time": "2019-11-16T18:15:43.751750Z"
    },
    "slideshow": {
     "slide_type": "subslide"
    }
   },
   "outputs": [
    {
     "data": {
      "text/html": [
       "<div>\n",
       "<style scoped>\n",
       "    .dataframe tbody tr th:only-of-type {\n",
       "        vertical-align: middle;\n",
       "    }\n",
       "\n",
       "    .dataframe tbody tr th {\n",
       "        vertical-align: top;\n",
       "    }\n",
       "\n",
       "    .dataframe thead th {\n",
       "        text-align: right;\n",
       "    }\n",
       "</style>\n",
       "<table border=\"1\" class=\"dataframe\">\n",
       "  <thead>\n",
       "    <tr style=\"text-align: right;\">\n",
       "      <th></th>\n",
       "      <th>Coefficient</th>\n",
       "    </tr>\n",
       "  </thead>\n",
       "  <tbody>\n",
       "    <tr>\n",
       "      <td>Occupation</td>\n",
       "      <td>7.621257e-04</td>\n",
       "    </tr>\n",
       "    <tr>\n",
       "      <td>Marital_Status</td>\n",
       "      <td>0.000000e+00</td>\n",
       "    </tr>\n",
       "    <tr>\n",
       "      <td>Product_Category_1</td>\n",
       "      <td>-2.325464e-01</td>\n",
       "    </tr>\n",
       "    <tr>\n",
       "      <td>Product_Category_2</td>\n",
       "      <td>2.017690e-03</td>\n",
       "    </tr>\n",
       "    <tr>\n",
       "      <td>Product_Category_3</td>\n",
       "      <td>1.797514e-01</td>\n",
       "    </tr>\n",
       "    <tr>\n",
       "      <td>Gender_F</td>\n",
       "      <td>-3.282774e-02</td>\n",
       "    </tr>\n",
       "    <tr>\n",
       "      <td>Gender_M</td>\n",
       "      <td>2.082501e-18</td>\n",
       "    </tr>\n",
       "    <tr>\n",
       "      <td>Age_0-17</td>\n",
       "      <td>-6.546761e-03</td>\n",
       "    </tr>\n",
       "    <tr>\n",
       "      <td>Age_18-25</td>\n",
       "      <td>-6.035844e-03</td>\n",
       "    </tr>\n",
       "    <tr>\n",
       "      <td>Age_26-35</td>\n",
       "      <td>-0.000000e+00</td>\n",
       "    </tr>\n",
       "    <tr>\n",
       "      <td>Age_36-45</td>\n",
       "      <td>0.000000e+00</td>\n",
       "    </tr>\n",
       "    <tr>\n",
       "      <td>Age_46-50</td>\n",
       "      <td>0.000000e+00</td>\n",
       "    </tr>\n",
       "    <tr>\n",
       "      <td>Age_51-55</td>\n",
       "      <td>9.279139e-03</td>\n",
       "    </tr>\n",
       "    <tr>\n",
       "      <td>Age_55+</td>\n",
       "      <td>0.000000e+00</td>\n",
       "    </tr>\n",
       "    <tr>\n",
       "      <td>City_Category_A</td>\n",
       "      <td>-7.087235e-03</td>\n",
       "    </tr>\n",
       "    <tr>\n",
       "      <td>City_Category_B</td>\n",
       "      <td>-0.000000e+00</td>\n",
       "    </tr>\n",
       "    <tr>\n",
       "      <td>City_Category_C</td>\n",
       "      <td>4.358806e-02</td>\n",
       "    </tr>\n",
       "    <tr>\n",
       "      <td>Stay_In_Current_City_Years_0</td>\n",
       "      <td>-0.000000e+00</td>\n",
       "    </tr>\n",
       "    <tr>\n",
       "      <td>Stay_In_Current_City_Years_1</td>\n",
       "      <td>0.000000e+00</td>\n",
       "    </tr>\n",
       "    <tr>\n",
       "      <td>Stay_In_Current_City_Years_2</td>\n",
       "      <td>0.000000e+00</td>\n",
       "    </tr>\n",
       "    <tr>\n",
       "      <td>Stay_In_Current_City_Years_3</td>\n",
       "      <td>-0.000000e+00</td>\n",
       "    </tr>\n",
       "    <tr>\n",
       "      <td>Stay_In_Current_City_Years_4+</td>\n",
       "      <td>0.000000e+00</td>\n",
       "    </tr>\n",
       "  </tbody>\n",
       "</table>\n",
       "</div>"
      ],
      "text/plain": [
       "                                Coefficient\n",
       "Occupation                     7.621257e-04\n",
       "Marital_Status                 0.000000e+00\n",
       "Product_Category_1            -2.325464e-01\n",
       "Product_Category_2             2.017690e-03\n",
       "Product_Category_3             1.797514e-01\n",
       "Gender_F                      -3.282774e-02\n",
       "Gender_M                       2.082501e-18\n",
       "Age_0-17                      -6.546761e-03\n",
       "Age_18-25                     -6.035844e-03\n",
       "Age_26-35                     -0.000000e+00\n",
       "Age_36-45                      0.000000e+00\n",
       "Age_46-50                      0.000000e+00\n",
       "Age_51-55                      9.279139e-03\n",
       "Age_55+                        0.000000e+00\n",
       "City_Category_A               -7.087235e-03\n",
       "City_Category_B               -0.000000e+00\n",
       "City_Category_C                4.358806e-02\n",
       "Stay_In_Current_City_Years_0  -0.000000e+00\n",
       "Stay_In_Current_City_Years_1   0.000000e+00\n",
       "Stay_In_Current_City_Years_2   0.000000e+00\n",
       "Stay_In_Current_City_Years_3  -0.000000e+00\n",
       "Stay_In_Current_City_Years_4+  0.000000e+00"
      ]
     },
     "execution_count": 56,
     "metadata": {},
     "output_type": "execute_result"
    }
   ],
   "source": [
    "lasso_df = pd.DataFrame(lasso.coef_, X_train.columns, columns=['Coefficient'])  \n",
    "lasso_df"
   ]
  },
  {
   "cell_type": "code",
   "execution_count": 57,
   "metadata": {
    "ExecuteTime": {
     "end_time": "2019-11-16T18:15:44.076882Z",
     "start_time": "2019-11-16T18:15:43.762720Z"
    },
    "slideshow": {
     "slide_type": "subslide"
    }
   },
   "outputs": [
    {
     "data": {
      "image/png": "[encoded data removed]",
      "text/plain": [
       "<Figure size 432x288 with 1 Axes>"
      ]
     },
     "metadata": {
      "needs_background": "light"
     },
     "output_type": "display_data"
    }
   ],
   "source": [
    "ax = lasso_df.plot(kind='bar', title='Variable Coefficients')\n",
    "ax.grid(zorder=0)"
   ]
  },
  {
   "cell_type": "markdown",
   "metadata": {
    "slideshow": {
     "slide_type": "subslide"
    }
   },
   "source": [
    "### Ridge Model"
   ]
  },
  {
   "cell_type": "code",
   "execution_count": 58,
   "metadata": {
    "ExecuteTime": {
     "end_time": "2019-11-16T18:15:44.215559Z",
     "start_time": "2019-11-16T18:15:44.078875Z"
    },
    "slideshow": {
     "slide_type": "subslide"
    }
   },
   "outputs": [
    {
     "name": "stdout",
     "output_type": "stream",
     "text": [
      "MSE: 0.8644626684278021, RMSE: 0.929764845768973, R2: 0.13576199116664456\n"
     ]
    }
   ],
   "source": [
    "# Ridge model\n",
    "# Note: Use an alpha of .01 when creating the model for this activity\n",
    "from sklearn.linear_model import Ridge\n",
    "\n",
    "### BEGIN SOLUTION\n",
    "ridge = Ridge(alpha=.01).fit(X_train_scaled, y_train_scaled)\n",
    "\n",
    "ridge_predictions = ridge.predict(X_test_scaled)\n",
    "\n",
    "MSE = mean_squared_error(y_test_scaled, ridge_predictions)\n",
    "r2 = ridge.score(X_test_scaled, y_test_scaled)\n",
    "RMSE = np.sqrt(MSE)\n",
    "### END SOLUTION\n",
    "\n",
    "print(f\"MSE: {MSE}, RMSE: {RMSE}, R2: {r2}\")\n"
   ]
  },
  {
   "cell_type": "code",
   "execution_count": 59,
   "metadata": {
    "ExecuteTime": {
     "end_time": "2019-11-16T18:15:44.230520Z",
     "start_time": "2019-11-16T18:15:44.217504Z"
    },
    "slideshow": {
     "slide_type": "subslide"
    }
   },
   "outputs": [
    {
     "data": {
      "text/html": [
       "<div>\n",
       "<style scoped>\n",
       "    .dataframe tbody tr th:only-of-type {\n",
       "        vertical-align: middle;\n",
       "    }\n",
       "\n",
       "    .dataframe tbody tr th {\n",
       "        vertical-align: top;\n",
       "    }\n",
       "\n",
       "    .dataframe thead th {\n",
       "        text-align: right;\n",
       "    }\n",
       "</style>\n",
       "<table border=\"1\" class=\"dataframe\">\n",
       "  <thead>\n",
       "    <tr style=\"text-align: right;\">\n",
       "      <th></th>\n",
       "      <th>Coefficient</th>\n",
       "    </tr>\n",
       "  </thead>\n",
       "  <tbody>\n",
       "    <tr>\n",
       "      <td>Occupation</td>\n",
       "      <td>0.007802</td>\n",
       "    </tr>\n",
       "    <tr>\n",
       "      <td>Marital_Status</td>\n",
       "      <td>-0.005756</td>\n",
       "    </tr>\n",
       "    <tr>\n",
       "      <td>Product_Category_1</td>\n",
       "      <td>-0.240265</td>\n",
       "    </tr>\n",
       "    <tr>\n",
       "      <td>Product_Category_2</td>\n",
       "      <td>0.010592</td>\n",
       "    </tr>\n",
       "    <tr>\n",
       "      <td>Product_Category_3</td>\n",
       "      <td>0.185267</td>\n",
       "    </tr>\n",
       "    <tr>\n",
       "      <td>Gender_F</td>\n",
       "      <td>-0.020570</td>\n",
       "    </tr>\n",
       "    <tr>\n",
       "      <td>Gender_M</td>\n",
       "      <td>0.020570</td>\n",
       "    </tr>\n",
       "    <tr>\n",
       "      <td>Age_0-17</td>\n",
       "      <td>-0.017407</td>\n",
       "    </tr>\n",
       "    <tr>\n",
       "      <td>Age_18-25</td>\n",
       "      <td>-0.014206</td>\n",
       "    </tr>\n",
       "    <tr>\n",
       "      <td>Age_26-35</td>\n",
       "      <td>-0.000695</td>\n",
       "    </tr>\n",
       "    <tr>\n",
       "      <td>Age_36-45</td>\n",
       "      <td>0.004848</td>\n",
       "    </tr>\n",
       "    <tr>\n",
       "      <td>Age_46-50</td>\n",
       "      <td>0.002383</td>\n",
       "    </tr>\n",
       "    <tr>\n",
       "      <td>Age_51-55</td>\n",
       "      <td>0.019038</td>\n",
       "    </tr>\n",
       "    <tr>\n",
       "      <td>Age_55+</td>\n",
       "      <td>0.006267</td>\n",
       "    </tr>\n",
       "    <tr>\n",
       "      <td>City_Category_A</td>\n",
       "      <td>-0.024754</td>\n",
       "    </tr>\n",
       "    <tr>\n",
       "      <td>City_Category_B</td>\n",
       "      <td>-0.012805</td>\n",
       "    </tr>\n",
       "    <tr>\n",
       "      <td>City_Category_C</td>\n",
       "      <td>0.037397</td>\n",
       "    </tr>\n",
       "    <tr>\n",
       "      <td>Stay_In_Current_City_Years_0</td>\n",
       "      <td>-0.002776</td>\n",
       "    </tr>\n",
       "    <tr>\n",
       "      <td>Stay_In_Current_City_Years_1</td>\n",
       "      <td>-0.000278</td>\n",
       "    </tr>\n",
       "    <tr>\n",
       "      <td>Stay_In_Current_City_Years_2</td>\n",
       "      <td>0.002282</td>\n",
       "    </tr>\n",
       "    <tr>\n",
       "      <td>Stay_In_Current_City_Years_3</td>\n",
       "      <td>-0.000605</td>\n",
       "    </tr>\n",
       "    <tr>\n",
       "      <td>Stay_In_Current_City_Years_4+</td>\n",
       "      <td>0.001177</td>\n",
       "    </tr>\n",
       "  </tbody>\n",
       "</table>\n",
       "</div>"
      ],
      "text/plain": [
       "                               Coefficient\n",
       "Occupation                        0.007802\n",
       "Marital_Status                   -0.005756\n",
       "Product_Category_1               -0.240265\n",
       "Product_Category_2                0.010592\n",
       "Product_Category_3                0.185267\n",
       "Gender_F                         -0.020570\n",
       "Gender_M                          0.020570\n",
       "Age_0-17                         -0.017407\n",
       "Age_18-25                        -0.014206\n",
       "Age_26-35                        -0.000695\n",
       "Age_36-45                         0.004848\n",
       "Age_46-50                         0.002383\n",
       "Age_51-55                         0.019038\n",
       "Age_55+                           0.006267\n",
       "City_Category_A                  -0.024754\n",
       "City_Category_B                  -0.012805\n",
       "City_Category_C                   0.037397\n",
       "Stay_In_Current_City_Years_0     -0.002776\n",
       "Stay_In_Current_City_Years_1     -0.000278\n",
       "Stay_In_Current_City_Years_2      0.002282\n",
       "Stay_In_Current_City_Years_3     -0.000605\n",
       "Stay_In_Current_City_Years_4+     0.001177"
      ]
     },
     "execution_count": 59,
     "metadata": {},
     "output_type": "execute_result"
    }
   ],
   "source": [
    "ridge_df = pd.DataFrame(ridge.coef_[0], X_train.columns, columns=['Coefficient'])  \n",
    "ridge_df"
   ]
  },
  {
   "cell_type": "code",
   "execution_count": 60,
   "metadata": {
    "ExecuteTime": {
     "end_time": "2019-11-16T18:15:44.537648Z",
     "start_time": "2019-11-16T18:15:44.232465Z"
    },
    "slideshow": {
     "slide_type": "subslide"
    }
   },
   "outputs": [
    {
     "data": {
      "image/png": "[encoded data removed]",
      "text/plain": [
       "<Figure size 432x288 with 1 Axes>"
      ]
     },
     "metadata": {
      "needs_background": "light"
     },
     "output_type": "display_data"
    }
   ],
   "source": [
    "ax = ridge_df.plot(kind='bar', title='Variable Coefficients')\n",
    "ax.grid(zorder=0)"
   ]
  },
  {
   "cell_type": "markdown",
   "metadata": {
    "slideshow": {
     "slide_type": "subslide"
    }
   },
   "source": [
    "### ElasticNet Model"
   ]
  },
  {
   "cell_type": "code",
   "execution_count": 61,
   "metadata": {
    "ExecuteTime": {
     "end_time": "2019-11-16T18:15:46.604120Z",
     "start_time": "2019-11-16T18:15:44.539643Z"
    },
    "slideshow": {
     "slide_type": "subslide"
    }
   },
   "outputs": [
    {
     "name": "stdout",
     "output_type": "stream",
     "text": [
      "MSE: 0.8648014696962177, RMSE: 0.9299470252096179, R2: 0.1354232779470924\n"
     ]
    }
   ],
   "source": [
    "# ElasticNet model\n",
    "# Note: Use an alpha of .01 when creating the model for this activity\n",
    "from sklearn.linear_model import ElasticNet\n",
    "\n",
    "### BEGIN SOLUTION\n",
    "elasticnet = ElasticNet(alpha=.01).fit(X_train_scaled, y_train_scaled)\n",
    "\n",
    "elasticnet_predictions = elasticnet.predict(X_test_scaled)\n",
    "\n",
    "MSE = mean_squared_error(y_test_scaled, elasticnet_predictions)\n",
    "r2 = elasticnet.score(X_test_scaled, y_test_scaled)\n",
    "RMSE = np.sqrt(MSE)\n",
    "### END SOLUTION\n",
    "\n",
    "print(f\"MSE: {MSE}, RMSE: {RMSE}, R2: {r2}\")\n"
   ]
  },
  {
   "cell_type": "code",
   "execution_count": 62,
   "metadata": {
    "ExecuteTime": {
     "end_time": "2019-11-16T18:15:46.614093Z",
     "start_time": "2019-11-16T18:15:46.606116Z"
    },
    "slideshow": {
     "slide_type": "subslide"
    }
   },
   "outputs": [
    {
     "data": {
      "text/html": [
       "<div>\n",
       "<style scoped>\n",
       "    .dataframe tbody tr th:only-of-type {\n",
       "        vertical-align: middle;\n",
       "    }\n",
       "\n",
       "    .dataframe tbody tr th {\n",
       "        vertical-align: top;\n",
       "    }\n",
       "\n",
       "    .dataframe thead th {\n",
       "        text-align: right;\n",
       "    }\n",
       "</style>\n",
       "<table border=\"1\" class=\"dataframe\">\n",
       "  <thead>\n",
       "    <tr style=\"text-align: right;\">\n",
       "      <th></th>\n",
       "      <th>Coefficient</th>\n",
       "    </tr>\n",
       "  </thead>\n",
       "  <tbody>\n",
       "    <tr>\n",
       "      <td>Occupation</td>\n",
       "      <td>0.004494</td>\n",
       "    </tr>\n",
       "    <tr>\n",
       "      <td>Marital_Status</td>\n",
       "      <td>-0.000000</td>\n",
       "    </tr>\n",
       "    <tr>\n",
       "      <td>Product_Category_1</td>\n",
       "      <td>-0.235325</td>\n",
       "    </tr>\n",
       "    <tr>\n",
       "      <td>Product_Category_2</td>\n",
       "      <td>0.006403</td>\n",
       "    </tr>\n",
       "    <tr>\n",
       "      <td>Product_Category_3</td>\n",
       "      <td>0.182001</td>\n",
       "    </tr>\n",
       "    <tr>\n",
       "      <td>Gender_F</td>\n",
       "      <td>-0.020805</td>\n",
       "    </tr>\n",
       "    <tr>\n",
       "      <td>Gender_M</td>\n",
       "      <td>0.016150</td>\n",
       "    </tr>\n",
       "    <tr>\n",
       "      <td>Age_0-17</td>\n",
       "      <td>-0.011861</td>\n",
       "    </tr>\n",
       "    <tr>\n",
       "      <td>Age_18-25</td>\n",
       "      <td>-0.010402</td>\n",
       "    </tr>\n",
       "    <tr>\n",
       "      <td>Age_26-35</td>\n",
       "      <td>-0.000000</td>\n",
       "    </tr>\n",
       "    <tr>\n",
       "      <td>Age_36-45</td>\n",
       "      <td>0.000137</td>\n",
       "    </tr>\n",
       "    <tr>\n",
       "      <td>Age_46-50</td>\n",
       "      <td>0.000000</td>\n",
       "    </tr>\n",
       "    <tr>\n",
       "      <td>Age_51-55</td>\n",
       "      <td>0.013057</td>\n",
       "    </tr>\n",
       "    <tr>\n",
       "      <td>Age_55+</td>\n",
       "      <td>0.000942</td>\n",
       "    </tr>\n",
       "    <tr>\n",
       "      <td>City_Category_A</td>\n",
       "      <td>-0.010457</td>\n",
       "    </tr>\n",
       "    <tr>\n",
       "      <td>City_Category_B</td>\n",
       "      <td>-0.000000</td>\n",
       "    </tr>\n",
       "    <tr>\n",
       "      <td>City_Category_C</td>\n",
       "      <td>0.046565</td>\n",
       "    </tr>\n",
       "    <tr>\n",
       "      <td>Stay_In_Current_City_Years_0</td>\n",
       "      <td>-0.000000</td>\n",
       "    </tr>\n",
       "    <tr>\n",
       "      <td>Stay_In_Current_City_Years_1</td>\n",
       "      <td>-0.000000</td>\n",
       "    </tr>\n",
       "    <tr>\n",
       "      <td>Stay_In_Current_City_Years_2</td>\n",
       "      <td>0.000000</td>\n",
       "    </tr>\n",
       "    <tr>\n",
       "      <td>Stay_In_Current_City_Years_3</td>\n",
       "      <td>-0.000000</td>\n",
       "    </tr>\n",
       "    <tr>\n",
       "      <td>Stay_In_Current_City_Years_4+</td>\n",
       "      <td>0.000000</td>\n",
       "    </tr>\n",
       "  </tbody>\n",
       "</table>\n",
       "</div>"
      ],
      "text/plain": [
       "                               Coefficient\n",
       "Occupation                        0.004494\n",
       "Marital_Status                   -0.000000\n",
       "Product_Category_1               -0.235325\n",
       "Product_Category_2                0.006403\n",
       "Product_Category_3                0.182001\n",
       "Gender_F                         -0.020805\n",
       "Gender_M                          0.016150\n",
       "Age_0-17                         -0.011861\n",
       "Age_18-25                        -0.010402\n",
       "Age_26-35                        -0.000000\n",
       "Age_36-45                         0.000137\n",
       "Age_46-50                         0.000000\n",
       "Age_51-55                         0.013057\n",
       "Age_55+                           0.000942\n",
       "City_Category_A                  -0.010457\n",
       "City_Category_B                  -0.000000\n",
       "City_Category_C                   0.046565\n",
       "Stay_In_Current_City_Years_0     -0.000000\n",
       "Stay_In_Current_City_Years_1     -0.000000\n",
       "Stay_In_Current_City_Years_2      0.000000\n",
       "Stay_In_Current_City_Years_3     -0.000000\n",
       "Stay_In_Current_City_Years_4+     0.000000"
      ]
     },
     "execution_count": 62,
     "metadata": {},
     "output_type": "execute_result"
    }
   ],
   "source": [
    "elasticnet_df = pd.DataFrame(elasticnet.coef_, X_train.columns, columns=['Coefficient'])  \n",
    "elasticnet_df"
   ]
  },
  {
   "cell_type": "code",
   "execution_count": 63,
   "metadata": {
    "ExecuteTime": {
     "end_time": "2019-11-16T18:15:46.965155Z",
     "start_time": "2019-11-16T18:15:46.616087Z"
    },
    "slideshow": {
     "slide_type": "subslide"
    }
   },
   "outputs": [
    {
     "data": {
      "image/png": "[encoded data removed]",
      "text/plain": [
       "<Figure size 432x288 with 1 Axes>"
      ]
     },
     "metadata": {
      "needs_background": "light"
     },
     "output_type": "display_data"
    }
   ],
   "source": [
    "ax = elasticnet_df.plot(kind='bar', title='Variable Coefficients')\n",
    "ax.grid(zorder=0)"
   ]
  },
  {
   "cell_type": "markdown",
   "metadata": {
    "slideshow": {
     "slide_type": "slide"
    }
   },
   "source": [
    "## Decision Tree Regressor Model"
   ]
  },
  {
   "cell_type": "code",
   "execution_count": 64,
   "metadata": {
    "ExecuteTime": {
     "end_time": "2019-11-16T18:15:47.376054Z",
     "start_time": "2019-11-16T18:15:46.967149Z"
    },
    "slideshow": {
     "slide_type": "subslide"
    }
   },
   "outputs": [],
   "source": [
    "# Read both train and test data\n",
    "train = pd.read_csv(\"../../data/trainCLEAN.csv\")\n",
    "testFinal = pd.read_csv(\"../../data/testCLEAN.csv\")"
   ]
  },
  {
   "cell_type": "code",
   "execution_count": 65,
   "metadata": {
    "ExecuteTime": {
     "end_time": "2019-11-16T18:15:47.384033Z",
     "start_time": "2019-11-16T18:15:47.378049Z"
    },
    "slideshow": {
     "slide_type": "skip"
    }
   },
   "outputs": [
    {
     "data": {
      "text/plain": [
       "Index(['Gender', 'Age', 'Occupation', 'City_Category',\n",
       "       'Stay_In_Current_City_Years', 'Marital_Status', 'Product_Category_1',\n",
       "       'Product_Category_2', 'Product_Category_3', 'Purchase'],\n",
       "      dtype='object')"
      ]
     },
     "execution_count": 65,
     "metadata": {},
     "output_type": "execute_result"
    }
   ],
   "source": [
    "train.columns"
   ]
  },
  {
   "cell_type": "code",
   "execution_count": 66,
   "metadata": {
    "ExecuteTime": {
     "end_time": "2019-11-16T18:15:47.418943Z",
     "start_time": "2019-11-16T18:15:47.386029Z"
    },
    "slideshow": {
     "slide_type": "subslide"
    }
   },
   "outputs": [],
   "source": [
    "X = train[['Gender', 'Age', 'Occupation', 'City_Category',\n",
    "       'Stay_In_Current_City_Years', 'Marital_Status', 'Product_Category_1',\n",
    "       'Product_Category_2', 'Product_Category_3']]\n",
    "y = train['Purchase'].values.reshape(-1, 1)"
   ]
  },
  {
   "cell_type": "code",
   "execution_count": 67,
   "metadata": {
    "ExecuteTime": {
     "end_time": "2019-11-16T18:15:47.523696Z",
     "start_time": "2019-11-16T18:15:47.421934Z"
    },
    "slideshow": {
     "slide_type": "subslide"
    }
   },
   "outputs": [],
   "source": [
    "from sklearn.model_selection import train_test_split\n",
    "\n",
    "X_train, X_test, y_train, y_test = train_test_split(X, y, test_size = 0.2, random_state=42)"
   ]
  },
  {
   "cell_type": "markdown",
   "metadata": {
    "ExecuteTime": {
     "end_time": "2019-11-16T05:58:48.919949Z",
     "start_time": "2019-11-16T05:58:48.916946Z"
    },
    "slideshow": {
     "slide_type": "subslide"
    }
   },
   "source": [
    "### Model Results"
   ]
  },
  {
   "cell_type": "code",
   "execution_count": 68,
   "metadata": {
    "ExecuteTime": {
     "end_time": "2019-11-16T18:15:48.389369Z",
     "start_time": "2019-11-16T18:15:47.525655Z"
    },
    "slideshow": {
     "slide_type": "subslide"
    }
   },
   "outputs": [
    {
     "name": "stdout",
     "output_type": "stream",
     "text": [
      "Purchase Predictions: [ 7674.25436568  7674.25436568 11570.13770492 ...  6146.54627034\n",
      "  6146.54627034  7359.61284184]\n",
      "MAE: 2260.588130797274\n",
      "MSE: 8957329.239800084\n",
      "RMSE 2992.879756989927\n",
      "Model Accuracy (score): 0.6425439064054648\n"
     ]
    }
   ],
   "source": [
    "# https://stackoverflow.com/questions/46139186/interpreting-the-decisiontreeregressor-score\n",
    "from sklearn.tree import DecisionTreeRegressor  \n",
    "from sklearn.metrics import mean_squared_error, r2_score\n",
    "from sklearn import metrics\n",
    "\n",
    "regressor_model = DecisionTreeRegressor(max_depth=8, min_samples_leaf=150)\n",
    "regressor_model = regressor_model.fit(X_train, y_train)\n",
    "regressor_predictions = regressor_model.predict(X_test)\n",
    "regressor_score = regressor_model.score(X_train,y_train)\n",
    "\n",
    "print('Purchase Predictions:', regressor_predictions)\n",
    "print('MAE:', metrics.mean_absolute_error(y_test, regressor_predictions))\n",
    "print('MSE:', metrics.mean_squared_error(y_test, regressor_predictions))\n",
    "print('RMSE', np.sqrt(metrics.mean_squared_error(y_test, regressor_predictions)))\n",
    "print('Model Accuracy (score):', regressor_score)\n",
    "# print('Test Variance score: %.2f' % r2_score(y_test, regressor_predictions))\n"
   ]
  },
  {
   "cell_type": "code",
   "execution_count": 69,
   "metadata": {
    "ExecuteTime": {
     "end_time": "2019-11-16T18:15:54.643654Z",
     "start_time": "2019-11-16T18:15:48.391340Z"
    },
    "slideshow": {
     "slide_type": "subslide"
    }
   },
   "outputs": [
    {
     "name": "stdout",
     "output_type": "stream",
     "text": [
      "Coefficient of Determination (a.k.a R2 in LR): [0.63650802 0.64540879 0.63940972 0.63913948 0.64333521 0.64147487\n",
      " 0.63732935 0.64210934 0.64829829 0.64265044]\n"
     ]
    }
   ],
   "source": [
    "from sklearn.model_selection import cross_val_score\n",
    "R2_coefficient_determination = cross_val_score(regressor_model, X_train, y_train, cv=10)\n",
    "R2_coefficient_determination\n",
    "\n",
    "print('Coefficient of Determination (a.k.a R2 in LR):', R2_coefficient_determination)"
   ]
  },
  {
   "cell_type": "code",
   "execution_count": 70,
   "metadata": {
    "ExecuteTime": {
     "end_time": "2019-11-16T18:15:54.650595Z",
     "start_time": "2019-11-16T18:15:54.645609Z"
    },
    "slideshow": {
     "slide_type": "subslide"
    }
   },
   "outputs": [
    {
     "data": {
      "text/plain": [
       "array([5.75593739e-05, 6.49270147e-04, 4.14766236e-04, 4.26173594e-03,\n",
       "       3.55314135e-04, 7.06281692e-05, 9.77697366e-01, 8.53728874e-03,\n",
       "       7.95607108e-03])"
      ]
     },
     "execution_count": 70,
     "metadata": {},
     "output_type": "execute_result"
    }
   ],
   "source": [
    "# DecisionTree in sklearn will automatically calculate feature importance\n",
    "importances = regressor_model.feature_importances_\n",
    "importances"
   ]
  },
  {
   "cell_type": "markdown",
   "metadata": {
    "slideshow": {
     "slide_type": "subslide"
    }
   },
   "source": [
    "### Model Coefficients"
   ]
  },
  {
   "cell_type": "code",
   "execution_count": 71,
   "metadata": {
    "ExecuteTime": {
     "end_time": "2019-11-16T18:15:54.659571Z",
     "start_time": "2019-11-16T18:15:54.652590Z"
    },
    "slideshow": {
     "slide_type": "subslide"
    }
   },
   "outputs": [
    {
     "data": {
      "text/plain": [
       "[(5.755937385771524e-05, 'Gender'),\n",
       " (7.062816923358621e-05, 'Marital_Status'),\n",
       " (0.00035531413482935565, 'Stay_In_Current_City_Years'),\n",
       " (0.0004147662356697658, 'Occupation'),\n",
       " (0.0006492701470478257, 'Age'),\n",
       " (0.004261735942777888, 'City_Category'),\n",
       " (0.007956071077153197, 'Product_Category_3'),\n",
       " (0.008537288738178684, 'Product_Category_2'),\n",
       " (0.9776973661812519, 'Product_Category_1')]"
      ]
     },
     "execution_count": 71,
     "metadata": {},
     "output_type": "execute_result"
    }
   ],
   "source": [
    "# We can sort the features by their importance\n",
    "sorted(zip(regressor_model.feature_importances_, train.columns), reverse=False)"
   ]
  },
  {
   "cell_type": "code",
   "execution_count": 72,
   "metadata": {
    "ExecuteTime": {
     "end_time": "2019-11-16T18:15:55.815496Z",
     "start_time": "2019-11-16T18:15:54.661566Z"
    },
    "slideshow": {
     "slide_type": "subslide"
    }
   },
   "outputs": [
    {
     "data": {
      "image/png": "[encoded data removed]",
      "text/plain": [
       "<Figure size 432x288 with 1 Axes>"
      ]
     },
     "metadata": {
      "needs_background": "light"
     },
     "output_type": "display_data"
    }
   ],
   "source": [
    "# https://acadgild.com/blog/using-decision-trees-for-regression-problems\n",
    "fig, ax = plt.subplots()\n",
    "ax.scatter(y_test, regressor_predictions, edgecolors=(0, 0, 0))\n",
    "ax.plot([y_test.min(), y_test.max()], [y_test.min(), y_test.max()], 'k--', lw=4)\n",
    "ax.set_xlabel('Actual')\n",
    "ax.set_ylabel('Predicted')\n",
    "# ax.set_title(\"Ground Truth vs Predicted\")\n",
    "plt.show()"
   ]
  },
  {
   "cell_type": "markdown",
   "metadata": {},
   "source": [
    "### Predictions Comparison"
   ]
  },
  {
   "cell_type": "code",
   "execution_count": 73,
   "metadata": {
    "ExecuteTime": {
     "end_time": "2019-11-16T18:15:55.837420Z",
     "start_time": "2019-11-16T18:15:55.817474Z"
    }
   },
   "outputs": [
    {
     "data": {
      "text/html": [
       "<div>\n",
       "<style scoped>\n",
       "    .dataframe tbody tr th:only-of-type {\n",
       "        vertical-align: middle;\n",
       "    }\n",
       "\n",
       "    .dataframe tbody tr th {\n",
       "        vertical-align: top;\n",
       "    }\n",
       "\n",
       "    .dataframe thead th {\n",
       "        text-align: right;\n",
       "    }\n",
       "</style>\n",
       "<table border=\"1\" class=\"dataframe\">\n",
       "  <thead>\n",
       "    <tr style=\"text-align: right;\">\n",
       "      <th></th>\n",
       "      <th>Actual_Purchase</th>\n",
       "      <th>Predicted_Purchase</th>\n",
       "    </tr>\n",
       "  </thead>\n",
       "  <tbody>\n",
       "    <tr>\n",
       "      <td>0</td>\n",
       "      <td>8091</td>\n",
       "      <td>7674.254366</td>\n",
       "    </tr>\n",
       "    <tr>\n",
       "      <td>1</td>\n",
       "      <td>6114</td>\n",
       "      <td>7674.254366</td>\n",
       "    </tr>\n",
       "    <tr>\n",
       "      <td>2</td>\n",
       "      <td>12714</td>\n",
       "      <td>11570.137705</td>\n",
       "    </tr>\n",
       "    <tr>\n",
       "      <td>3</td>\n",
       "      <td>11799</td>\n",
       "      <td>12922.596573</td>\n",
       "    </tr>\n",
       "    <tr>\n",
       "      <td>4</td>\n",
       "      <td>3482</td>\n",
       "      <td>6146.546270</td>\n",
       "    </tr>\n",
       "    <tr>\n",
       "      <td>...</td>\n",
       "      <td>...</td>\n",
       "      <td>...</td>\n",
       "    </tr>\n",
       "    <tr>\n",
       "      <td>109178</td>\n",
       "      <td>3562</td>\n",
       "      <td>6146.546270</td>\n",
       "    </tr>\n",
       "    <tr>\n",
       "      <td>109179</td>\n",
       "      <td>3538</td>\n",
       "      <td>2519.900466</td>\n",
       "    </tr>\n",
       "    <tr>\n",
       "      <td>109180</td>\n",
       "      <td>6897</td>\n",
       "      <td>6146.546270</td>\n",
       "    </tr>\n",
       "    <tr>\n",
       "      <td>109181</td>\n",
       "      <td>5452</td>\n",
       "      <td>6146.546270</td>\n",
       "    </tr>\n",
       "    <tr>\n",
       "      <td>109182</td>\n",
       "      <td>7779</td>\n",
       "      <td>7359.612842</td>\n",
       "    </tr>\n",
       "  </tbody>\n",
       "</table>\n",
       "<p>109183 rows × 2 columns</p>\n",
       "</div>"
      ],
      "text/plain": [
       "        Actual_Purchase  Predicted_Purchase\n",
       "0                  8091         7674.254366\n",
       "1                  6114         7674.254366\n",
       "2                 12714        11570.137705\n",
       "3                 11799        12922.596573\n",
       "4                  3482         6146.546270\n",
       "...                 ...                 ...\n",
       "109178             3562         6146.546270\n",
       "109179             3538         2519.900466\n",
       "109180             6897         6146.546270\n",
       "109181             5452         6146.546270\n",
       "109182             7779         7359.612842\n",
       "\n",
       "[109183 rows x 2 columns]"
      ]
     },
     "execution_count": 73,
     "metadata": {},
     "output_type": "execute_result"
    }
   ],
   "source": [
    "# source: https://stackoverflow.com/questions/42049147/convert-list-to-pandas-dataframe-column\n",
    "predicted = pd.DataFrame(np.array([regressor_predictions]).T)\n",
    "actual = pd.DataFrame(y_test)\n",
    "results = pd.merge(actual, predicted, left_index=True, right_index=True)\n",
    "results.rename(columns = {'0_x':'Actual_Purchase', '0_y': 'Predicted_Purchase'}, inplace = True) \n",
    "results"
   ]
  },
  {
   "cell_type": "code",
   "execution_count": 74,
   "metadata": {
    "ExecuteTime": {
     "end_time": "2019-11-16T18:15:55.855375Z",
     "start_time": "2019-11-16T18:15:55.839418Z"
    }
   },
   "outputs": [
    {
     "data": {
      "text/html": [
       "<div>\n",
       "<style scoped>\n",
       "    .dataframe tbody tr th:only-of-type {\n",
       "        vertical-align: middle;\n",
       "    }\n",
       "\n",
       "    .dataframe tbody tr th {\n",
       "        vertical-align: top;\n",
       "    }\n",
       "\n",
       "    .dataframe thead th {\n",
       "        text-align: right;\n",
       "    }\n",
       "</style>\n",
       "<table border=\"1\" class=\"dataframe\">\n",
       "  <thead>\n",
       "    <tr style=\"text-align: right;\">\n",
       "      <th></th>\n",
       "      <th>Actual_Purchase</th>\n",
       "      <th>Predicted_Purchase</th>\n",
       "    </tr>\n",
       "  </thead>\n",
       "  <tbody>\n",
       "    <tr>\n",
       "      <td>0</td>\n",
       "      <td>8091</td>\n",
       "      <td>7674.254366</td>\n",
       "    </tr>\n",
       "    <tr>\n",
       "      <td>1</td>\n",
       "      <td>6114</td>\n",
       "      <td>7674.254366</td>\n",
       "    </tr>\n",
       "    <tr>\n",
       "      <td>2</td>\n",
       "      <td>12714</td>\n",
       "      <td>11570.137705</td>\n",
       "    </tr>\n",
       "    <tr>\n",
       "      <td>3</td>\n",
       "      <td>11799</td>\n",
       "      <td>12922.596573</td>\n",
       "    </tr>\n",
       "    <tr>\n",
       "      <td>4</td>\n",
       "      <td>3482</td>\n",
       "      <td>6146.546270</td>\n",
       "    </tr>\n",
       "    <tr>\n",
       "      <td>...</td>\n",
       "      <td>...</td>\n",
       "      <td>...</td>\n",
       "    </tr>\n",
       "    <tr>\n",
       "      <td>109178</td>\n",
       "      <td>3562</td>\n",
       "      <td>6146.546270</td>\n",
       "    </tr>\n",
       "    <tr>\n",
       "      <td>109179</td>\n",
       "      <td>3538</td>\n",
       "      <td>2519.900466</td>\n",
       "    </tr>\n",
       "    <tr>\n",
       "      <td>109180</td>\n",
       "      <td>6897</td>\n",
       "      <td>6146.546270</td>\n",
       "    </tr>\n",
       "    <tr>\n",
       "      <td>109181</td>\n",
       "      <td>5452</td>\n",
       "      <td>6146.546270</td>\n",
       "    </tr>\n",
       "    <tr>\n",
       "      <td>109182</td>\n",
       "      <td>7779</td>\n",
       "      <td>7359.612842</td>\n",
       "    </tr>\n",
       "  </tbody>\n",
       "</table>\n",
       "<p>109183 rows × 2 columns</p>\n",
       "</div>"
      ],
      "text/plain": [
       "        Actual_Purchase  Predicted_Purchase\n",
       "0                  8091         7674.254366\n",
       "1                  6114         7674.254366\n",
       "2                 12714        11570.137705\n",
       "3                 11799        12922.596573\n",
       "4                  3482         6146.546270\n",
       "...                 ...                 ...\n",
       "109178             3562         6146.546270\n",
       "109179             3538         2519.900466\n",
       "109180             6897         6146.546270\n",
       "109181             5452         6146.546270\n",
       "109182             7779         7359.612842\n",
       "\n",
       "[109183 rows x 2 columns]"
      ]
     },
     "execution_count": 74,
     "metadata": {},
     "output_type": "execute_result"
    }
   ],
   "source": [
    "results = pd.merge(actual, predicted, left_index=True, right_index=True)\n",
    "results.rename(columns = {'0_x':'Actual_Purchase', '0_y': 'Predicted_Purchase'}, inplace = True) \n",
    "results\n",
    "# percentage['Percentage_Difference'] =  ((results['0_y'] - results['0_x'])/(results['0_x']))*100\n",
    "# final_results = pd.merge(results, percentage, left_index = True, right_index = True)\n",
    "# # final_results.rename(columns = {'0':'Percentage_Differece'}, inplace = True)\n",
    "# final_results"
   ]
  },
  {
   "cell_type": "markdown",
   "metadata": {},
   "source": [
    "## Predict Original Test File"
   ]
  },
  {
   "cell_type": "code",
   "execution_count": 75,
   "metadata": {
    "ExecuteTime": {
     "end_time": "2019-11-16T18:15:55.902250Z",
     "start_time": "2019-11-16T18:15:55.857367Z"
    }
   },
   "outputs": [
    {
     "data": {
      "text/plain": [
       "array([13041.11003348, 10180.08048037,  6146.54627034, ...,\n",
       "       12922.59657327, 20165.58522727,  2179.18763368])"
      ]
     },
     "execution_count": 75,
     "metadata": {},
     "output_type": "execute_result"
    }
   ],
   "source": [
    "test_predict = regressor_model.predict(testFinal)\n",
    "test_predict"
   ]
  },
  {
   "cell_type": "code",
   "execution_count": 76,
   "metadata": {
    "ExecuteTime": {
     "end_time": "2019-11-16T18:15:55.926183Z",
     "start_time": "2019-11-16T18:15:55.905240Z"
    },
    "scrolled": true
   },
   "outputs": [
    {
     "data": {
      "text/html": [
       "<div>\n",
       "<style scoped>\n",
       "    .dataframe tbody tr th:only-of-type {\n",
       "        vertical-align: middle;\n",
       "    }\n",
       "\n",
       "    .dataframe tbody tr th {\n",
       "        vertical-align: top;\n",
       "    }\n",
       "\n",
       "    .dataframe thead th {\n",
       "        text-align: right;\n",
       "    }\n",
       "</style>\n",
       "<table border=\"1\" class=\"dataframe\">\n",
       "  <thead>\n",
       "    <tr style=\"text-align: right;\">\n",
       "      <th></th>\n",
       "      <th>Test_Purchase</th>\n",
       "    </tr>\n",
       "  </thead>\n",
       "  <tbody>\n",
       "    <tr>\n",
       "      <td>0</td>\n",
       "      <td>13041.110033</td>\n",
       "    </tr>\n",
       "    <tr>\n",
       "      <td>1</td>\n",
       "      <td>10180.080480</td>\n",
       "    </tr>\n",
       "    <tr>\n",
       "      <td>2</td>\n",
       "      <td>6146.546270</td>\n",
       "    </tr>\n",
       "    <tr>\n",
       "      <td>3</td>\n",
       "      <td>2179.187634</td>\n",
       "    </tr>\n",
       "    <tr>\n",
       "      <td>4</td>\n",
       "      <td>2519.900466</td>\n",
       "    </tr>\n",
       "    <tr>\n",
       "      <td>...</td>\n",
       "      <td>...</td>\n",
       "    </tr>\n",
       "    <tr>\n",
       "      <td>233594</td>\n",
       "      <td>7359.612842</td>\n",
       "    </tr>\n",
       "    <tr>\n",
       "      <td>233595</td>\n",
       "      <td>6146.546270</td>\n",
       "    </tr>\n",
       "    <tr>\n",
       "      <td>233596</td>\n",
       "      <td>12922.596573</td>\n",
       "    </tr>\n",
       "    <tr>\n",
       "      <td>233597</td>\n",
       "      <td>20165.585227</td>\n",
       "    </tr>\n",
       "    <tr>\n",
       "      <td>233598</td>\n",
       "      <td>2179.187634</td>\n",
       "    </tr>\n",
       "  </tbody>\n",
       "</table>\n",
       "<p>233599 rows × 1 columns</p>\n",
       "</div>"
      ],
      "text/plain": [
       "        Test_Purchase\n",
       "0        13041.110033\n",
       "1        10180.080480\n",
       "2         6146.546270\n",
       "3         2179.187634\n",
       "4         2519.900466\n",
       "...               ...\n",
       "233594    7359.612842\n",
       "233595    6146.546270\n",
       "233596   12922.596573\n",
       "233597   20165.585227\n",
       "233598    2179.187634\n",
       "\n",
       "[233599 rows x 1 columns]"
      ]
     },
     "execution_count": 76,
     "metadata": {},
     "output_type": "execute_result"
    }
   ],
   "source": [
    "test_predict_output = pd.DataFrame(np.array([test_predict]).T)\n",
    "test_predict_output['Test_Purchase'] = test_predict_output \n",
    "# Lets drop User ID and Product ID\n",
    "# drop_test = test_predict_output[0]\n",
    "# test_predict_output.drop(test_predict_output.columns[9], inplace = True, axis =1)\n",
    "test_predict_output.drop(test_predict_output.columns[0], inplace = True, axis =1)\n",
    "test_predict_output"
   ]
  },
  {
   "cell_type": "code",
   "execution_count": 77,
   "metadata": {
    "ExecuteTime": {
     "end_time": "2019-11-16T18:16:36.534233Z",
     "start_time": "2019-11-16T18:15:55.927180Z"
    }
   },
   "outputs": [],
   "source": [
    "table = pd.merge(test[['User_ID', 'Product_ID']], testFinal, left_index = True, right_index = True)\n",
    "testTableFinal = pd.merge(table, test_predict_output, left_index = True, right_index = True)\n",
    "testTableFinal\n",
    "\n",
    "#Save to CSV\n",
    "testTableFinal.to_csv(\"../../data/testTableFinalCLEAN.csv\", index=False, encoding='utf8')\n",
    "\n",
    "# Save to HTML\n",
    "testTableFinal.to_html('../../data/testTableFinal.html')"
   ]
  },
  {
   "cell_type": "code",
   "execution_count": 78,
   "metadata": {
    "ExecuteTime": {
     "end_time": "2019-11-16T18:16:36.565124Z",
     "start_time": "2019-11-16T18:16:36.536218Z"
    }
   },
   "outputs": [
    {
     "data": {
      "text/html": [
       "<div>\n",
       "<style scoped>\n",
       "    .dataframe tbody tr th:only-of-type {\n",
       "        vertical-align: middle;\n",
       "    }\n",
       "\n",
       "    .dataframe tbody tr th {\n",
       "        vertical-align: top;\n",
       "    }\n",
       "\n",
       "    .dataframe thead th {\n",
       "        text-align: right;\n",
       "    }\n",
       "</style>\n",
       "<table border=\"1\" class=\"dataframe\">\n",
       "  <thead>\n",
       "    <tr style=\"text-align: right;\">\n",
       "      <th></th>\n",
       "      <th>User_ID</th>\n",
       "      <th>Product_ID</th>\n",
       "      <th>Test_Purchase</th>\n",
       "    </tr>\n",
       "  </thead>\n",
       "  <tbody>\n",
       "    <tr>\n",
       "      <td>0</td>\n",
       "      <td>1000004</td>\n",
       "      <td>P00128942</td>\n",
       "      <td>13041.110033</td>\n",
       "    </tr>\n",
       "    <tr>\n",
       "      <td>1</td>\n",
       "      <td>1000009</td>\n",
       "      <td>P00113442</td>\n",
       "      <td>10180.080480</td>\n",
       "    </tr>\n",
       "    <tr>\n",
       "      <td>2</td>\n",
       "      <td>1000010</td>\n",
       "      <td>P00288442</td>\n",
       "      <td>6146.546270</td>\n",
       "    </tr>\n",
       "    <tr>\n",
       "      <td>3</td>\n",
       "      <td>1000010</td>\n",
       "      <td>P00145342</td>\n",
       "      <td>2179.187634</td>\n",
       "    </tr>\n",
       "    <tr>\n",
       "      <td>4</td>\n",
       "      <td>1000011</td>\n",
       "      <td>P00053842</td>\n",
       "      <td>2519.900466</td>\n",
       "    </tr>\n",
       "    <tr>\n",
       "      <td>...</td>\n",
       "      <td>...</td>\n",
       "      <td>...</td>\n",
       "      <td>...</td>\n",
       "    </tr>\n",
       "    <tr>\n",
       "      <td>233594</td>\n",
       "      <td>1006036</td>\n",
       "      <td>P00118942</td>\n",
       "      <td>7359.612842</td>\n",
       "    </tr>\n",
       "    <tr>\n",
       "      <td>233595</td>\n",
       "      <td>1006036</td>\n",
       "      <td>P00254642</td>\n",
       "      <td>6146.546270</td>\n",
       "    </tr>\n",
       "    <tr>\n",
       "      <td>233596</td>\n",
       "      <td>1006036</td>\n",
       "      <td>P00031842</td>\n",
       "      <td>12922.596573</td>\n",
       "    </tr>\n",
       "    <tr>\n",
       "      <td>233597</td>\n",
       "      <td>1006037</td>\n",
       "      <td>P00124742</td>\n",
       "      <td>20165.585227</td>\n",
       "    </tr>\n",
       "    <tr>\n",
       "      <td>233598</td>\n",
       "      <td>1006039</td>\n",
       "      <td>P00316642</td>\n",
       "      <td>2179.187634</td>\n",
       "    </tr>\n",
       "  </tbody>\n",
       "</table>\n",
       "<p>233599 rows × 3 columns</p>\n",
       "</div>"
      ],
      "text/plain": [
       "        User_ID Product_ID  Test_Purchase\n",
       "0       1000004  P00128942   13041.110033\n",
       "1       1000009  P00113442   10180.080480\n",
       "2       1000010  P00288442    6146.546270\n",
       "3       1000010  P00145342    2179.187634\n",
       "4       1000011  P00053842    2519.900466\n",
       "...         ...        ...            ...\n",
       "233594  1006036  P00118942    7359.612842\n",
       "233595  1006036  P00254642    6146.546270\n",
       "233596  1006036  P00031842   12922.596573\n",
       "233597  1006037  P00124742   20165.585227\n",
       "233598  1006039  P00316642    2179.187634\n",
       "\n",
       "[233599 rows x 3 columns]"
      ]
     },
     "execution_count": 78,
     "metadata": {},
     "output_type": "execute_result"
    }
   ],
   "source": [
    "test_predict_output = pd.merge(test[['User_ID', 'Product_ID']], test_predict_output, left_index = True, right_index = True)\n",
    "test_predict_output"
   ]
  },
  {
   "cell_type": "code",
   "execution_count": 79,
   "metadata": {
    "ExecuteTime": {
     "end_time": "2019-11-16T18:16:36.600032Z",
     "start_time": "2019-11-16T18:16:36.568116Z"
    }
   },
   "outputs": [
    {
     "name": "stdout",
     "output_type": "stream",
     "text": [
      "<class 'pandas.core.frame.DataFrame'>\n",
      "RangeIndex: 233599 entries, 0 to 233598\n",
      "Data columns (total 3 columns):\n",
      "User_ID          233599 non-null int64\n",
      "Product_ID       233599 non-null object\n",
      "Test_Purchase    233599 non-null float64\n",
      "dtypes: float64(1), int64(1), object(1)\n",
      "memory usage: 5.3+ MB\n"
     ]
    }
   ],
   "source": [
    "test_predict_output.info()"
   ]
  },
  {
   "cell_type": "code",
   "execution_count": 80,
   "metadata": {
    "ExecuteTime": {
     "end_time": "2019-11-16T18:16:36.765587Z",
     "start_time": "2019-11-16T18:16:36.603023Z"
    }
   },
   "outputs": [
    {
     "data": {
      "text/html": [
       "<div>\n",
       "<style scoped>\n",
       "    .dataframe tbody tr th:only-of-type {\n",
       "        vertical-align: middle;\n",
       "    }\n",
       "\n",
       "    .dataframe tbody tr th {\n",
       "        vertical-align: top;\n",
       "    }\n",
       "\n",
       "    .dataframe thead th {\n",
       "        text-align: right;\n",
       "    }\n",
       "</style>\n",
       "<table border=\"1\" class=\"dataframe\">\n",
       "  <thead>\n",
       "    <tr style=\"text-align: right;\">\n",
       "      <th></th>\n",
       "      <th>User_ID</th>\n",
       "      <th>Product_ID</th>\n",
       "      <th>Test_Purchase</th>\n",
       "      <th>UserID_and_ProductID</th>\n",
       "    </tr>\n",
       "  </thead>\n",
       "  <tbody>\n",
       "    <tr>\n",
       "      <td>0</td>\n",
       "      <td>1000004</td>\n",
       "      <td>P00128942</td>\n",
       "      <td>13041.110033</td>\n",
       "      <td>1000004P00128942</td>\n",
       "    </tr>\n",
       "    <tr>\n",
       "      <td>1</td>\n",
       "      <td>1000009</td>\n",
       "      <td>P00113442</td>\n",
       "      <td>10180.080480</td>\n",
       "      <td>1000009P00113442</td>\n",
       "    </tr>\n",
       "    <tr>\n",
       "      <td>2</td>\n",
       "      <td>1000010</td>\n",
       "      <td>P00288442</td>\n",
       "      <td>6146.546270</td>\n",
       "      <td>1000010P00288442</td>\n",
       "    </tr>\n",
       "    <tr>\n",
       "      <td>3</td>\n",
       "      <td>1000010</td>\n",
       "      <td>P00145342</td>\n",
       "      <td>2179.187634</td>\n",
       "      <td>1000010P00145342</td>\n",
       "    </tr>\n",
       "    <tr>\n",
       "      <td>4</td>\n",
       "      <td>1000011</td>\n",
       "      <td>P00053842</td>\n",
       "      <td>2519.900466</td>\n",
       "      <td>1000011P00053842</td>\n",
       "    </tr>\n",
       "    <tr>\n",
       "      <td>...</td>\n",
       "      <td>...</td>\n",
       "      <td>...</td>\n",
       "      <td>...</td>\n",
       "      <td>...</td>\n",
       "    </tr>\n",
       "    <tr>\n",
       "      <td>233594</td>\n",
       "      <td>1006036</td>\n",
       "      <td>P00118942</td>\n",
       "      <td>7359.612842</td>\n",
       "      <td>1006036P00118942</td>\n",
       "    </tr>\n",
       "    <tr>\n",
       "      <td>233595</td>\n",
       "      <td>1006036</td>\n",
       "      <td>P00254642</td>\n",
       "      <td>6146.546270</td>\n",
       "      <td>1006036P00254642</td>\n",
       "    </tr>\n",
       "    <tr>\n",
       "      <td>233596</td>\n",
       "      <td>1006036</td>\n",
       "      <td>P00031842</td>\n",
       "      <td>12922.596573</td>\n",
       "      <td>1006036P00031842</td>\n",
       "    </tr>\n",
       "    <tr>\n",
       "      <td>233597</td>\n",
       "      <td>1006037</td>\n",
       "      <td>P00124742</td>\n",
       "      <td>20165.585227</td>\n",
       "      <td>1006037P00124742</td>\n",
       "    </tr>\n",
       "    <tr>\n",
       "      <td>233598</td>\n",
       "      <td>1006039</td>\n",
       "      <td>P00316642</td>\n",
       "      <td>2179.187634</td>\n",
       "      <td>1006039P00316642</td>\n",
       "    </tr>\n",
       "  </tbody>\n",
       "</table>\n",
       "<p>233599 rows × 4 columns</p>\n",
       "</div>"
      ],
      "text/plain": [
       "        User_ID Product_ID  Test_Purchase UserID_and_ProductID\n",
       "0       1000004  P00128942   13041.110033     1000004P00128942\n",
       "1       1000009  P00113442   10180.080480     1000009P00113442\n",
       "2       1000010  P00288442    6146.546270     1000010P00288442\n",
       "3       1000010  P00145342    2179.187634     1000010P00145342\n",
       "4       1000011  P00053842    2519.900466     1000011P00053842\n",
       "...         ...        ...            ...                  ...\n",
       "233594  1006036  P00118942    7359.612842     1006036P00118942\n",
       "233595  1006036  P00254642    6146.546270     1006036P00254642\n",
       "233596  1006036  P00031842   12922.596573     1006036P00031842\n",
       "233597  1006037  P00124742   20165.585227     1006037P00124742\n",
       "233598  1006039  P00316642    2179.187634     1006039P00316642\n",
       "\n",
       "[233599 rows x 4 columns]"
      ]
     },
     "execution_count": 80,
     "metadata": {},
     "output_type": "execute_result"
    }
   ],
   "source": [
    "test_predict_output['UserID_and_ProductID'] = test_predict_output[\"User_ID\"].map(str) + test_predict_output[\"Product_ID\"].map(str)\n",
    "test_predict_output"
   ]
  },
  {
   "cell_type": "code",
   "execution_count": 81,
   "metadata": {
    "ExecuteTime": {
     "end_time": "2019-11-16T18:16:36.805480Z",
     "start_time": "2019-11-16T18:16:36.767582Z"
    }
   },
   "outputs": [
    {
     "data": {
      "text/html": [
       "<div>\n",
       "<style scoped>\n",
       "    .dataframe tbody tr th:only-of-type {\n",
       "        vertical-align: middle;\n",
       "    }\n",
       "\n",
       "    .dataframe tbody tr th {\n",
       "        vertical-align: top;\n",
       "    }\n",
       "\n",
       "    .dataframe thead th {\n",
       "        text-align: right;\n",
       "    }\n",
       "</style>\n",
       "<table border=\"1\" class=\"dataframe\">\n",
       "  <thead>\n",
       "    <tr style=\"text-align: right;\">\n",
       "      <th></th>\n",
       "      <th>Test_Purchase</th>\n",
       "      <th>UserID_and_ProductID</th>\n",
       "    </tr>\n",
       "  </thead>\n",
       "  <tbody>\n",
       "    <tr>\n",
       "      <td>0</td>\n",
       "      <td>13041.110033</td>\n",
       "      <td>1000004P00128942</td>\n",
       "    </tr>\n",
       "    <tr>\n",
       "      <td>1</td>\n",
       "      <td>10180.080480</td>\n",
       "      <td>1000009P00113442</td>\n",
       "    </tr>\n",
       "    <tr>\n",
       "      <td>2</td>\n",
       "      <td>6146.546270</td>\n",
       "      <td>1000010P00288442</td>\n",
       "    </tr>\n",
       "    <tr>\n",
       "      <td>3</td>\n",
       "      <td>2179.187634</td>\n",
       "      <td>1000010P00145342</td>\n",
       "    </tr>\n",
       "    <tr>\n",
       "      <td>4</td>\n",
       "      <td>2519.900466</td>\n",
       "      <td>1000011P00053842</td>\n",
       "    </tr>\n",
       "    <tr>\n",
       "      <td>...</td>\n",
       "      <td>...</td>\n",
       "      <td>...</td>\n",
       "    </tr>\n",
       "    <tr>\n",
       "      <td>233594</td>\n",
       "      <td>7359.612842</td>\n",
       "      <td>1006036P00118942</td>\n",
       "    </tr>\n",
       "    <tr>\n",
       "      <td>233595</td>\n",
       "      <td>6146.546270</td>\n",
       "      <td>1006036P00254642</td>\n",
       "    </tr>\n",
       "    <tr>\n",
       "      <td>233596</td>\n",
       "      <td>12922.596573</td>\n",
       "      <td>1006036P00031842</td>\n",
       "    </tr>\n",
       "    <tr>\n",
       "      <td>233597</td>\n",
       "      <td>20165.585227</td>\n",
       "      <td>1006037P00124742</td>\n",
       "    </tr>\n",
       "    <tr>\n",
       "      <td>233598</td>\n",
       "      <td>2179.187634</td>\n",
       "      <td>1006039P00316642</td>\n",
       "    </tr>\n",
       "  </tbody>\n",
       "</table>\n",
       "<p>233599 rows × 2 columns</p>\n",
       "</div>"
      ],
      "text/plain": [
       "        Test_Purchase UserID_and_ProductID\n",
       "0        13041.110033     1000004P00128942\n",
       "1        10180.080480     1000009P00113442\n",
       "2         6146.546270     1000010P00288442\n",
       "3         2179.187634     1000010P00145342\n",
       "4         2519.900466     1000011P00053842\n",
       "...               ...                  ...\n",
       "233594    7359.612842     1006036P00118942\n",
       "233595    6146.546270     1006036P00254642\n",
       "233596   12922.596573     1006036P00031842\n",
       "233597   20165.585227     1006037P00124742\n",
       "233598    2179.187634     1006039P00316642\n",
       "\n",
       "[233599 rows x 2 columns]"
      ]
     },
     "execution_count": 81,
     "metadata": {},
     "output_type": "execute_result"
    }
   ],
   "source": [
    "# Lets drop User ID and Product ID\n",
    "drop_columns = ['User_ID', 'Product_ID']\n",
    "test_predict_output.drop(drop_columns, inplace = True, axis =1)\n",
    "test_predict_output"
   ]
  },
  {
   "cell_type": "code",
   "execution_count": 82,
   "metadata": {
    "ExecuteTime": {
     "end_time": "2019-11-16T18:16:37.641245Z",
     "start_time": "2019-11-16T18:16:36.810468Z"
    }
   },
   "outputs": [
    {
     "data": {
      "text/html": [
       "<div>\n",
       "<style scoped>\n",
       "    .dataframe tbody tr th:only-of-type {\n",
       "        vertical-align: middle;\n",
       "    }\n",
       "\n",
       "    .dataframe tbody tr th {\n",
       "        vertical-align: top;\n",
       "    }\n",
       "\n",
       "    .dataframe thead th {\n",
       "        text-align: right;\n",
       "    }\n",
       "</style>\n",
       "<table border=\"1\" class=\"dataframe\">\n",
       "  <thead>\n",
       "    <tr style=\"text-align: right;\">\n",
       "      <th></th>\n",
       "      <th>UserID_and_ProductID</th>\n",
       "      <th>Test_Purchase</th>\n",
       "    </tr>\n",
       "  </thead>\n",
       "  <tbody>\n",
       "    <tr>\n",
       "      <td>0</td>\n",
       "      <td>1000004P00128942</td>\n",
       "      <td>13041.110033</td>\n",
       "    </tr>\n",
       "    <tr>\n",
       "      <td>1</td>\n",
       "      <td>1000009P00113442</td>\n",
       "      <td>10180.080480</td>\n",
       "    </tr>\n",
       "    <tr>\n",
       "      <td>2</td>\n",
       "      <td>1000010P00288442</td>\n",
       "      <td>6146.546270</td>\n",
       "    </tr>\n",
       "    <tr>\n",
       "      <td>3</td>\n",
       "      <td>1000010P00145342</td>\n",
       "      <td>2179.187634</td>\n",
       "    </tr>\n",
       "    <tr>\n",
       "      <td>4</td>\n",
       "      <td>1000011P00053842</td>\n",
       "      <td>2519.900466</td>\n",
       "    </tr>\n",
       "    <tr>\n",
       "      <td>...</td>\n",
       "      <td>...</td>\n",
       "      <td>...</td>\n",
       "    </tr>\n",
       "    <tr>\n",
       "      <td>233594</td>\n",
       "      <td>1006036P00118942</td>\n",
       "      <td>7359.612842</td>\n",
       "    </tr>\n",
       "    <tr>\n",
       "      <td>233595</td>\n",
       "      <td>1006036P00254642</td>\n",
       "      <td>6146.546270</td>\n",
       "    </tr>\n",
       "    <tr>\n",
       "      <td>233596</td>\n",
       "      <td>1006036P00031842</td>\n",
       "      <td>12922.596573</td>\n",
       "    </tr>\n",
       "    <tr>\n",
       "      <td>233597</td>\n",
       "      <td>1006037P00124742</td>\n",
       "      <td>20165.585227</td>\n",
       "    </tr>\n",
       "    <tr>\n",
       "      <td>233598</td>\n",
       "      <td>1006039P00316642</td>\n",
       "      <td>2179.187634</td>\n",
       "    </tr>\n",
       "  </tbody>\n",
       "</table>\n",
       "<p>233599 rows × 2 columns</p>\n",
       "</div>"
      ],
      "text/plain": [
       "       UserID_and_ProductID  Test_Purchase\n",
       "0          1000004P00128942   13041.110033\n",
       "1          1000009P00113442   10180.080480\n",
       "2          1000010P00288442    6146.546270\n",
       "3          1000010P00145342    2179.187634\n",
       "4          1000011P00053842    2519.900466\n",
       "...                     ...            ...\n",
       "233594     1006036P00118942    7359.612842\n",
       "233595     1006036P00254642    6146.546270\n",
       "233596     1006036P00031842   12922.596573\n",
       "233597     1006037P00124742   20165.585227\n",
       "233598     1006039P00316642    2179.187634\n",
       "\n",
       "[233599 rows x 2 columns]"
      ]
     },
     "execution_count": 82,
     "metadata": {},
     "output_type": "execute_result"
    }
   ],
   "source": [
    "test_predict_output = test_predict_output[['UserID_and_ProductID', 'Test_Purchase']]\n",
    "\n",
    "#Save to CSV\n",
    "\n",
    "test_predict_output.to_csv(\"../../data/testOutputCLEAN.csv\", index=False, encoding='utf8')\n",
    "\n",
    "test_predict_output"
   ]
  }
 ],
 "metadata": {
  "celltoolbar": "Slideshow",
  "kernelspec": {
   "display_name": "Python 3",
   "language": "python",
   "name": "python3"
  },
  "language_info": {
   "codemirror_mode": {
    "name": "ipython",
    "version": 3
   },
   "file_extension": ".py",
   "mimetype": "text/x-python",
   "name": "python",
   "nbconvert_exporter": "python",
   "pygments_lexer": "ipython3",
   "version": "3.6.8"
  },
  "toc": {
   "base_numbering": 1,
   "nav_menu": {},
   "number_sections": true,
   "sideBar": true,
   "skip_h1_title": false,
   "title_cell": "Table of Contents",
   "title_sidebar": "Contents",
   "toc_cell": true,
   "toc_position": {},
   "toc_section_display": true,
   "toc_window_display": true
  },
  "varInspector": {
   "cols": {
    "lenName": 16,
    "lenType": 16,
    "lenVar": 40
   },
   "kernels_config": {
    "python": {
     "delete_cmd_postfix": "",
     "delete_cmd_prefix": "del ",
     "library": "var_list.py",
     "varRefreshCmd": "print(var_dic_list())"
    },
    "r": {
     "delete_cmd_postfix": ") ",
     "delete_cmd_prefix": "rm(",
     "library": "var_list.r",
     "varRefreshCmd": "cat(var_dic_list()) "
    }
   },
   "types_to_exclude": [
    "module",
    "function",
    "builtin_function_or_method",
    "instance",
    "_Feature"
   ],
   "window_display": false
  }
 },
 "nbformat": 4,
 "nbformat_minor": 2
}
