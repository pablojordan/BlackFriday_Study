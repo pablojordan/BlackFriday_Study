{
 "cells": [
  {
   "cell_type": "markdown",
   "metadata": {},
   "source": [
    "## Import Dependencies"
   ]
  },
  {
   "cell_type": "code",
   "execution_count": 1,
   "metadata": {
    "ExecuteTime": {
     "end_time": "2019-11-15T00:01:10.752150Z",
     "start_time": "2019-11-15T00:01:06.605346Z"
    }
   },
   "outputs": [],
   "source": [
    "import os\n",
    "import pandas as pd\n",
    "import numpy as np\n",
    "import seaborn as sns\n",
    "import matplotlib.pyplot as plt\n",
    "#To visualize the whole grid\n",
    "pd.options.display.max_columns = 999"
   ]
  },
  {
   "cell_type": "markdown",
   "metadata": {},
   "source": [
    "## Train & Test File CleanUp"
   ]
  },
  {
   "cell_type": "code",
   "execution_count": 2,
   "metadata": {
    "ExecuteTime": {
     "end_time": "2019-11-15T00:01:12.203120Z",
     "start_time": "2019-11-15T00:01:10.868689Z"
    }
   },
   "outputs": [],
   "source": [
    "# Read both train and test data\n",
    "train = pd.read_csv(\"../../data/train.csv\")\n",
    "test = pd.read_csv(\"../../data/test.csv\")"
   ]
  },
  {
   "cell_type": "code",
   "execution_count": 3,
   "metadata": {
    "ExecuteTime": {
     "end_time": "2019-11-15T00:01:12.998995Z",
     "start_time": "2019-11-15T00:01:12.693031Z"
    }
   },
   "outputs": [
    {
     "data": {
      "text/plain": [
       "Product_Category_3            162562\n",
       "Product_Category_2             72344\n",
       "Product_Category_1                 0\n",
       "Marital_Status                     0\n",
       "Stay_In_Current_City_Years         0\n",
       "City_Category                      0\n",
       "Occupation                         0\n",
       "Age                                0\n",
       "Gender                             0\n",
       "Product_ID                         0\n",
       "User_ID                            0\n",
       "dtype: int64"
      ]
     },
     "execution_count": 3,
     "metadata": {},
     "output_type": "execute_result"
    }
   ],
   "source": [
    "# Check for missing values in the train and test file \n",
    "null_values_train = train.isnull().sum().sort_values(ascending = False)\n",
    "null_values_train\n",
    "\n",
    "null_values_test = test.isnull().sum().sort_values(ascending = False)\n",
    "null_values_test"
   ]
  },
  {
   "cell_type": "code",
   "execution_count": 4,
   "metadata": {
    "ExecuteTime": {
     "end_time": "2019-11-15T00:01:13.661788Z",
     "start_time": "2019-11-15T00:01:13.571111Z"
    }
   },
   "outputs": [
    {
     "name": "stdout",
     "output_type": "stream",
     "text": [
      "Product_Category_3    69.672659\n",
      "Product_Category_2    31.566643\n",
      "dtype: float64 %\n",
      "Product_Category_3    29.553073\n",
      "Product_Category_2    13.151829\n",
      "dtype: float64 %\n"
     ]
    }
   ],
   "source": [
    "# Because Product 3 and 2 have missing values, calculate the % of missing values\n",
    "null_values_train = null_values_train[null_values_train >0]/train.shape[0]\n",
    "null_values_test = null_values_test[null_values_test >0]/train.shape[0]\n",
    "print(f'{null_values_train*100} %')\n",
    "print(f'{null_values_test*100} %')"
   ]
  },
  {
   "cell_type": "code",
   "execution_count": 5,
   "metadata": {
    "ExecuteTime": {
     "end_time": "2019-11-15T00:01:14.712925Z",
     "start_time": "2019-11-15T00:01:14.184384Z"
    }
   },
   "outputs": [],
   "source": [
    "# Convert all null values to 0. It is assumed that the if it is null value, the customer did not buy such product\n",
    "train = train.fillna(0)\n",
    "test =  test.fillna(0)"
   ]
  },
  {
   "cell_type": "code",
   "execution_count": 6,
   "metadata": {
    "ExecuteTime": {
     "end_time": "2019-11-15T00:01:15.265449Z",
     "start_time": "2019-11-15T00:01:15.251040Z"
    }
   },
   "outputs": [
    {
     "data": {
      "text/plain": [
       "User_ID                         int64\n",
       "Product_ID                     object\n",
       "Gender                         object\n",
       "Age                            object\n",
       "Occupation                      int64\n",
       "City_Category                  object\n",
       "Stay_In_Current_City_Years     object\n",
       "Marital_Status                  int64\n",
       "Product_Category_1              int64\n",
       "Product_Category_2            float64\n",
       "Product_Category_3            float64\n",
       "Purchase                        int64\n",
       "dtype: object"
      ]
     },
     "execution_count": 6,
     "metadata": {},
     "output_type": "execute_result"
    }
   ],
   "source": [
    "train.dtypes"
   ]
  },
  {
   "cell_type": "code",
   "execution_count": 7,
   "metadata": {
    "ExecuteTime": {
     "end_time": "2019-11-15T00:01:15.824527Z",
     "start_time": "2019-11-15T00:01:15.818543Z"
    }
   },
   "outputs": [],
   "source": [
    "# Lets drop User ID and Product ID\n",
    "# drop_columns = ['User_ID', 'Product_ID']\n",
    "# train.drop(drop_columns, inplace = True, axis =1)\n",
    "# test.drop(drop_columns, inplace = True, axis =1)"
   ]
  },
  {
   "cell_type": "code",
   "execution_count": 8,
   "metadata": {
    "ExecuteTime": {
     "end_time": "2019-11-15T00:01:16.583354Z",
     "start_time": "2019-11-15T00:01:16.389901Z"
    }
   },
   "outputs": [
    {
     "data": {
      "text/plain": [
       "array([2, 4, 3, 1, 0], dtype=int64)"
      ]
     },
     "execution_count": 8,
     "metadata": {},
     "output_type": "execute_result"
    }
   ],
   "source": [
    "# Need to convert all objects to numeric. Let's start with Stay_In_Current_City_Years\n",
    "train['Stay_In_Current_City_Years'].unique()\n",
    "\n",
    "# # Convert 4+ to 4\n",
    "\n",
    "train['Stay_In_Current_City_Years'] = train['Stay_In_Current_City_Years'].map({'4+':4, '1':1, '2':2, '3':3,'0':0})\n",
    "test['Stay_In_Current_City_Years'] = test['Stay_In_Current_City_Years'].map({'4+':4, '1':1, '2':2, '3':3,'0':0})\n",
    "\n",
    "train['Stay_In_Current_City_Years'].unique()\n"
   ]
  },
  {
   "cell_type": "code",
   "execution_count": 9,
   "metadata": {
    "ExecuteTime": {
     "end_time": "2019-11-15T00:01:17.286741Z",
     "start_time": "2019-11-15T00:01:17.104073Z"
    }
   },
   "outputs": [
    {
     "data": {
      "text/plain": [
       "array([0, 2, 1], dtype=int64)"
      ]
     },
     "execution_count": 9,
     "metadata": {},
     "output_type": "execute_result"
    }
   ],
   "source": [
    "# Need to convert all objects to numeric.\n",
    "\n",
    "train['City_Category'].unique()\n",
    "train['City_Category'] = train['City_Category'].map({'A':0, 'B':1, 'C':2})\n",
    "test['City_Category'] = test['City_Category'].map({'A':0, 'B':1, 'C':2})\n",
    "train['City_Category'].unique()"
   ]
  },
  {
   "cell_type": "code",
   "execution_count": 10,
   "metadata": {
    "ExecuteTime": {
     "end_time": "2019-11-15T00:01:17.926150Z",
     "start_time": "2019-11-15T00:01:17.728633Z"
    }
   },
   "outputs": [
    {
     "data": {
      "text/plain": [
       "array([0, 6, 2, 4, 5, 3, 1], dtype=int64)"
      ]
     },
     "execution_count": 10,
     "metadata": {},
     "output_type": "execute_result"
    }
   ],
   "source": [
    "# Need to convert all objects to numeric.\n",
    "\n",
    "train['Age'].unique()\n",
    "train['Age'] = train['Age'].map({'0-17':0, '18-25':1, '26-35':2, '36-45':3, '46-50':4, '51-55':5, '55+':6})\n",
    "test['Age'] = test['Age'].map({'0-17':0, '18-25':1, '26-35':2, '36-45':3, '46-50':4, '51-55':5, '55+':6})\n",
    "train['Age'].unique()"
   ]
  },
  {
   "cell_type": "code",
   "execution_count": 11,
   "metadata": {
    "ExecuteTime": {
     "end_time": "2019-11-15T00:01:18.549614Z",
     "start_time": "2019-11-15T00:01:18.408897Z"
    }
   },
   "outputs": [
    {
     "data": {
      "text/plain": [
       "array([0, 1], dtype=int64)"
      ]
     },
     "execution_count": 11,
     "metadata": {},
     "output_type": "execute_result"
    }
   ],
   "source": [
    "# Need to convert all objects to numeric.\n",
    "\n",
    "train['Gender'].unique()\n",
    "train['Gender'] = train['Gender'].map({'F':0, 'M':1})\n",
    "test['Gender'] = test['Gender'].map({'F':0, 'M':1})\n",
    "train['Gender'].unique()"
   ]
  },
  {
   "cell_type": "code",
   "execution_count": 12,
   "metadata": {
    "ExecuteTime": {
     "end_time": "2019-11-15T00:01:22.442639Z",
     "start_time": "2019-11-15T00:01:19.010023Z"
    }
   },
   "outputs": [
    {
     "data": {
      "image/png": "[encoded data removed]",
      "text/plain": [
       "<Figure size 864x648 with 2 Axes>"
      ]
     },
     "metadata": {
      "needs_background": "light"
     },
     "output_type": "display_data"
    }
   ],
   "source": [
    "# Create a correlation matrix to find out which independent variable is correlated with the dependent variable\n",
    "correlation_matrix = train.corr()\n",
    "fig,ax = plt.subplots(figsize = (12,9))\n",
    "sns.heatmap(correlation_matrix, vmax=0.8, cmap=\"coolwarm\", square=True, annot = True)\n",
    "plt.savefig(\"../images/corr_matrix.png\", bbox_inches = \"tight\")"
   ]
  },
  {
   "cell_type": "code",
   "execution_count": 13,
   "metadata": {
    "ExecuteTime": {
     "end_time": "2019-11-15T00:01:23.085678Z",
     "start_time": "2019-11-15T00:01:23.072712Z"
    }
   },
   "outputs": [
    {
     "name": "stdout",
     "output_type": "stream",
     "text": [
      "PC1: 5.404270017525106 \n",
      " PC2: 6.735436346051761 \n",
      " PC3 : 3.841941359977312 \n",
      " Hence we can conclude the correlation of PC3 is due to average price. PC3 has on average the cheaper price\n"
     ]
    }
   ],
   "source": [
    "# Why product category 3 is correlated with dependent variable purchase and the others are not?\n",
    "cat_1_average = train['Product_Category_1'].mean()\n",
    "cat_2_average = train['Product_Category_2'].mean()\n",
    "cat_3_avarage= train['Product_Category_3'].mean()\n",
    "print(f\"PC1: {cat_1_average} \\n PC2: {cat_2_average} \\n PC3 : {cat_3_avarage} \\n Hence we can conclude the correlation of PC3 is due to average price. PC3 has on average the cheaper price\")"
   ]
  },
  {
   "cell_type": "code",
   "execution_count": 14,
   "metadata": {
    "ExecuteTime": {
     "end_time": "2019-11-15T00:01:23.743631Z",
     "start_time": "2019-11-15T00:01:23.739596Z"
    }
   },
   "outputs": [],
   "source": [
    "# sns.pairplot(train, kind = 'reg')\n",
    "# plt.show()\n",
    "\n",
    "# # sns.pairplot(train)\n",
    "# # plt.show()\n",
    "# plt.savefig(\"../images/corr_pairplot.png\", bbox_inches = \"tight\")"
   ]
  },
  {
   "cell_type": "code",
   "execution_count": 15,
   "metadata": {
    "ExecuteTime": {
     "end_time": "2019-11-15T00:01:24.334442Z",
     "start_time": "2019-11-15T00:01:24.330449Z"
    }
   },
   "outputs": [],
   "source": [
    "# sns.pairplot(train)\n",
    "# plt.show()\n",
    "# plt.savefig(\"../images/corr_pairplot5.png\", bbox_inches = \"tight\")"
   ]
  },
  {
   "cell_type": "code",
   "execution_count": 16,
   "metadata": {
    "ExecuteTime": {
     "end_time": "2019-11-15T00:01:24.957242Z",
     "start_time": "2019-11-15T00:01:24.952266Z"
    }
   },
   "outputs": [],
   "source": [
    "# sns.pairplot(data = train[[\"Gender\",\"Age\",\"Occupation\",\"City_Category\",\"Stay_In_Current_City_Years\",\"Marital_Status\",\"Product_Category_1\",\"Product_Category_2\",\"Product_Category_3\"]], hue = \"Purchase\", dropna = True)\n",
    "# plt.savefig(\"../images/corr_pairplot3.png\", bbox_inches = \"tight\")"
   ]
  },
  {
   "cell_type": "code",
   "execution_count": 17,
   "metadata": {
    "ExecuteTime": {
     "end_time": "2019-11-15T00:01:25.545219Z",
     "start_time": "2019-11-15T00:01:25.540511Z"
    }
   },
   "outputs": [],
   "source": [
    "# sns.pairplot(data = train[[\"Age\",\"Marital_Status\",\"Product_Category_3\"]],diag_kind=\"kde\")\n",
    "# plt.savefig(\"../images/corr_pairplot4.png\", bbox_inches = \"tight\")"
   ]
  },
  {
   "cell_type": "code",
   "execution_count": 18,
   "metadata": {
    "ExecuteTime": {
     "end_time": "2019-11-15T00:01:26.151492Z",
     "start_time": "2019-11-15T00:01:26.147501Z"
    }
   },
   "outputs": [],
   "source": [
    "# sns.pairplot(train, diag_kind=\"kde\", diag_kws=dict(shade=True, bw=.05, vertical=False) )\n",
    "# plt.savefig(\"../images/corr_pairplot2.png\", bbox_inches = \"tight\")"
   ]
  },
  {
   "cell_type": "markdown",
   "metadata": {},
   "source": [
    "## Data Preparation for Model"
   ]
  },
  {
   "cell_type": "code",
   "execution_count": 19,
   "metadata": {
    "ExecuteTime": {
     "end_time": "2019-11-15T00:01:26.927755Z",
     "start_time": "2019-11-15T00:01:26.781873Z"
    }
   },
   "outputs": [],
   "source": [
    "# Remove category 19 and 20 fron Product Category 1 from Train\n",
    "removal = train.index[(train.Product_Category_1.isin([19,20]))]\n",
    "train = train.drop(removal)"
   ]
  },
  {
   "cell_type": "code",
   "execution_count": 20,
   "metadata": {
    "ExecuteTime": {
     "end_time": "2019-11-15T00:01:27.749014Z",
     "start_time": "2019-11-15T00:01:27.556986Z"
    }
   },
   "outputs": [],
   "source": [
    "# Convert Stay_in_current_city_years to binary by using dummy variables\n",
    "train = pd.get_dummies(train, columns=['Stay_In_Current_City_Years'])\n",
    "# test = pd.get_dummies(test, columns=['Stay_In_Current_City_Years'])\n",
    "# dummy_gender = pd.get_dummies(train['Gender'])\n",
    "# dummy_age = pd.get_dummies(train['Age'])\n",
    "# dummy_city = pd.get_dummies(train['City_Category'])\n",
    "# dummy_current_city = pd.get_dummies(train['Stay_In_Current_City_Years'])"
   ]
  },
  {
   "cell_type": "code",
   "execution_count": 21,
   "metadata": {
    "ExecuteTime": {
     "end_time": "2019-11-15T00:01:28.459877Z",
     "start_time": "2019-11-15T00:01:28.449903Z"
    }
   },
   "outputs": [
    {
     "data": {
      "text/plain": [
       "User_ID                           int64\n",
       "Product_ID                       object\n",
       "Gender                            int64\n",
       "Age                               int64\n",
       "Occupation                        int64\n",
       "City_Category                     int64\n",
       "Marital_Status                    int64\n",
       "Product_Category_1                int64\n",
       "Product_Category_2              float64\n",
       "Product_Category_3              float64\n",
       "Purchase                          int64\n",
       "Stay_In_Current_City_Years_0      uint8\n",
       "Stay_In_Current_City_Years_1      uint8\n",
       "Stay_In_Current_City_Years_2      uint8\n",
       "Stay_In_Current_City_Years_3      uint8\n",
       "Stay_In_Current_City_Years_4      uint8\n",
       "dtype: object"
      ]
     },
     "execution_count": 21,
     "metadata": {},
     "output_type": "execute_result"
    }
   ],
   "source": [
    "# Check data types\n",
    "train.dtypes"
   ]
  },
  {
   "cell_type": "code",
   "execution_count": null,
   "metadata": {
    "ExecuteTime": {
     "end_time": "2019-11-14T18:18:40.400474Z",
     "start_time": "2019-11-14T18:18:19.163213Z"
    }
   },
   "outputs": [],
   "source": [
    "# Save clean file\n",
    "train.to_csv(\"../../data/trainCLEAN.csv\", index=False, encoding='utf8')\n",
    "test.to_csv(\"../../data/testCLEAN.csv\", index=False, encoding='utf8')"
   ]
  },
  {
   "cell_type": "markdown",
   "metadata": {
    "heading_collapsed": true
   },
   "source": [
    "## Build Model"
   ]
  },
  {
   "cell_type": "code",
   "execution_count": null,
   "metadata": {
    "ExecuteTime": {
     "end_time": "2019-11-14T18:18:13.721880Z",
     "start_time": "2019-11-14T18:18:13.716866Z"
    },
    "hidden": true
   },
   "outputs": [],
   "source": [
    "# # Join Train and Test Dataset to prepare both at once\n",
    "# train['origin']='train'\n",
    "# test['origin']='test'\n",
    "\n",
    "# combined_data = pd.concat([train,test], ignore_index = True, sort = False)\n",
    "# combined_data"
   ]
  },
  {
   "cell_type": "code",
   "execution_count": null,
   "metadata": {
    "ExecuteTime": {
     "end_time": "2019-11-14T18:18:41.872779Z",
     "start_time": "2019-11-14T18:18:41.714086Z"
    },
    "hidden": true
   },
   "outputs": [],
   "source": [
    "# Lets drop User ID and Product ID\n",
    "drop_columns = ['User_ID', 'Product_ID']\n",
    "train.drop(drop_columns, inplace = True, axis =1)\n",
    "# test.drop(drop_columns, inplace = True, axis =1)"
   ]
  },
  {
   "cell_type": "code",
   "execution_count": null,
   "metadata": {
    "ExecuteTime": {
     "end_time": "2019-11-14T18:18:43.035084Z",
     "start_time": "2019-11-14T18:18:43.026597Z"
    },
    "hidden": true
   },
   "outputs": [],
   "source": [
    "train.columns"
   ]
  },
  {
   "cell_type": "code",
   "execution_count": null,
   "metadata": {
    "ExecuteTime": {
     "end_time": "2019-11-14T18:24:26.592288Z",
     "start_time": "2019-11-14T18:24:26.562350Z"
    },
    "hidden": true
   },
   "outputs": [],
   "source": [
    "# Assign X (data) and y (target)\n",
    "\n",
    "### BEGIN SOLUTION\n",
    "X = train[['Gender', 'Age', 'Occupation', 'City_Category', 'Marital_Status',\n",
    "       'Product_Category_1', 'Product_Category_2', 'Product_Category_3',\n",
    "       'Stay_In_Current_City_Years_0', 'Stay_In_Current_City_Years_1',\n",
    "       'Stay_In_Current_City_Years_2', 'Stay_In_Current_City_Years_3',\n",
    "       'Stay_In_Current_City_Years_4']]\n",
    "y = train[\"Purchase\"].values.reshape(-1, 1)\n",
    "print(X.shape, y.shape)\n",
    "### END SOLUTION"
   ]
  },
  {
   "cell_type": "code",
   "execution_count": null,
   "metadata": {
    "ExecuteTime": {
     "end_time": "2019-11-14T18:24:27.522398Z",
     "start_time": "2019-11-14T18:24:27.426613Z"
    },
    "hidden": true
   },
   "outputs": [],
   "source": [
    "# Split the data into training and testing\n",
    "\n",
    "### BEGIN SOLUTION\n",
    "from sklearn.model_selection import train_test_split\n",
    "\n",
    "X_train, X_test, y_train, y_test = train_test_split(X, y, test_size=0.2, random_state=42) # need to add stratify = y but I get an error\n",
    "### END SOLUTION"
   ]
  },
  {
   "cell_type": "code",
   "execution_count": null,
   "metadata": {
    "ExecuteTime": {
     "end_time": "2019-11-14T18:24:28.991500Z",
     "start_time": "2019-11-14T18:24:28.811566Z"
    },
    "hidden": true
   },
   "outputs": [],
   "source": [
    "from sklearn.preprocessing import StandardScaler\n",
    "\n",
    "# Create a StandardScaler model and fit it to the training data\n",
    "\n",
    "### BEGIN SOLUTION\n",
    "X_scaler = StandardScaler().fit(X_train)\n",
    "y_scaler = StandardScaler().fit(y_train)\n",
    "### END SOLUTION"
   ]
  },
  {
   "cell_type": "code",
   "execution_count": null,
   "metadata": {
    "ExecuteTime": {
     "end_time": "2019-11-14T18:24:30.485245Z",
     "start_time": "2019-11-14T18:24:30.386491Z"
    },
    "hidden": true
   },
   "outputs": [],
   "source": [
    "# Transform the training and testing data using the X_scaler and y_scaler models\n",
    "\n",
    "### BEGIN SOLUTION\n",
    "X_train_scaled = X_scaler.transform(X_train)\n",
    "X_test_scaled = X_scaler.transform(X_test)\n",
    "y_train_scaled = y_scaler.transform(y_train)\n",
    "y_test_scaled = y_scaler.transform(y_test)\n",
    "### END SOLUTION\n"
   ]
  },
  {
   "cell_type": "code",
   "execution_count": null,
   "metadata": {
    "ExecuteTime": {
     "end_time": "2019-11-14T19:28:20.624587Z",
     "start_time": "2019-11-14T19:28:20.133886Z"
    },
    "hidden": true
   },
   "outputs": [],
   "source": [
    "### BEGIN SOLUTION\n",
    "from sklearn.linear_model import LinearRegression\n",
    "model = LinearRegression()\n",
    "model.fit(X_train_scaled, y_train_scaled)\n",
    "### END SOLUTION"
   ]
  },
  {
   "cell_type": "code",
   "execution_count": null,
   "metadata": {
    "ExecuteTime": {
     "end_time": "2019-11-14T18:24:39.121392Z",
     "start_time": "2019-11-14T18:24:39.117699Z"
    },
    "hidden": true
   },
   "outputs": [],
   "source": [
    "# print('Intercept parameter:', model.intercept_)\n",
    "# # coefficients = pd.DataFrame(model.coef_, X.columns, columns=['Coefficient'])\n",
    "# # print(coefficients)\n",
    "# coefficients = pd.DataFrame(X.columns,model.coef_)\n",
    "# coefficients"
   ]
  },
  {
   "cell_type": "code",
   "execution_count": null,
   "metadata": {
    "ExecuteTime": {
     "end_time": "2019-11-14T18:24:47.532174Z",
     "start_time": "2019-11-14T18:24:40.224636Z"
    },
    "hidden": true
   },
   "outputs": [],
   "source": [
    "# Make predictions using the X_test_scaled data\n",
    "# Plot y_test_scaled vs y_test_scaled\n",
    "# Scatter plot y_test_scaled vs predictions\n",
    "\n",
    "### BEGIN SOLUTION\n",
    "predictions = model.predict(X_test_scaled)\n",
    "model.fit(X_train_scaled, y_train_scaled)\n",
    "plt.scatter(model.predict(X_train_scaled), model.predict(X_train_scaled) - y_train_scaled, c=\"blue\", label=\"Training Data\")\n",
    "plt.scatter(model.predict(X_test_scaled), model.predict(X_test_scaled) - y_test_scaled, c=\"orange\", label=\"Testing Data\")\n",
    "plt.legend()\n",
    "plt.hlines(y=0, xmin=y_test_scaled.min(), xmax=y_test_scaled.max())\n",
    "plt.title(\"Residual Plot\")\n",
    "plt.show()\n",
    "### END SOLUTION\n"
   ]
  },
  {
   "cell_type": "code",
   "execution_count": null,
   "metadata": {
    "ExecuteTime": {
     "end_time": "2019-11-14T19:29:26.428095Z",
     "start_time": "2019-11-14T19:29:26.379192Z"
    },
    "hidden": true
   },
   "outputs": [],
   "source": [
    "# Used X_test_scaled, y_test_scaled, and model.predict(X_test_scaled) to calculate MSE and R2\n",
    "\n",
    "### BEGIN SOLUTION\n",
    "from sklearn.metrics import mean_squared_error, mean_absolute_error\n",
    "\n",
    "\n",
    "MSE = mean_squared_error(y_test_scaled, predictions)\n",
    "RMSE = np.sqrt(MSE)\n",
    "r2 = model.score(X_test_scaled, y_test_scaled)\n",
    "### END SOLUTION\n",
    "\n",
    "print(f\"MSE: {MSE}, R2: {r2}, RMSE: {RMSE}\")\n",
    "# print(\"RMSE : %.4g\" % np.sqrt(MSE))"
   ]
  },
  {
   "cell_type": "code",
   "execution_count": null,
   "metadata": {
    "ExecuteTime": {
     "end_time": "2019-11-14T18:25:51.531885Z",
     "start_time": "2019-11-14T18:25:51.523908Z"
    },
    "hidden": true
   },
   "outputs": [],
   "source": [
    "predictions"
   ]
  },
  {
   "cell_type": "code",
   "execution_count": null,
   "metadata": {
    "ExecuteTime": {
     "end_time": "2019-11-14T17:21:20.019887Z",
     "start_time": "2019-11-14T17:21:19.760163Z"
    },
    "hidden": true
   },
   "outputs": [],
   "source": [
    "# LASSO model\n",
    "# Note: Use an alpha of .01 when creating the model for this activity\n",
    "from sklearn.linear_model import Lasso\n",
    "\n",
    "### BEGIN SOLUTION\n",
    "lasso = Lasso(alpha=.01).fit(X_train_scaled, y_train_scaled)\n",
    "\n",
    "predictions = lasso.predict(X_test_scaled)\n",
    "\n",
    "MSE = mean_squared_error(y_test_scaled, predictions)\n",
    "r2 = lasso.score(X_test_scaled, y_test_scaled)\n",
    "### END SOLUTION\n",
    "\n",
    "print(f\"MSE: {MSE}, R2: {r2}\")"
   ]
  },
  {
   "cell_type": "code",
   "execution_count": null,
   "metadata": {
    "ExecuteTime": {
     "end_time": "2019-11-14T17:21:20.201898Z",
     "start_time": "2019-11-14T17:21:20.024944Z"
    },
    "hidden": true
   },
   "outputs": [],
   "source": [
    "# Ridge model\n",
    "# Note: Use an alpha of .01 when creating the model for this activity\n",
    "from sklearn.linear_model import Ridge\n",
    "\n",
    "### BEGIN SOLUTION\n",
    "ridge = Ridge(alpha=.01).fit(X_train_scaled, y_train_scaled)\n",
    "\n",
    "predictions = ridge.predict(X_test_scaled)\n",
    "\n",
    "MSE = mean_squared_error(y_test_scaled, predictions)\n",
    "r2 = ridge.score(X_test_scaled, y_test_scaled)\n",
    "### END SOLUTION\n",
    "\n",
    "print(f\"MSE: {MSE}, R2: {r2}\")\n"
   ]
  },
  {
   "cell_type": "code",
   "execution_count": null,
   "metadata": {
    "ExecuteTime": {
     "end_time": "2019-11-14T17:21:20.471190Z",
     "start_time": "2019-11-14T17:21:20.206821Z"
    },
    "hidden": true
   },
   "outputs": [],
   "source": [
    "# ElasticNet model\n",
    "# Note: Use an alpha of .01 when creating the model for this activity\n",
    "from sklearn.linear_model import ElasticNet\n",
    "\n",
    "### BEGIN SOLUTION\n",
    "elasticnet = ElasticNet(alpha=.01).fit(X_train_scaled, y_train_scaled)\n",
    "\n",
    "predictions = elasticnet.predict(X_test_scaled)\n",
    "\n",
    "MSE = mean_squared_error(y_test_scaled, predictions)\n",
    "r2 = elasticnet.score(X_test_scaled, y_test_scaled)\n",
    "### END SOLUTION\n",
    "\n",
    "print(f\"MSE: {MSE}, R2: {r2}\")"
   ]
  }
 ],
 "metadata": {
  "kernelspec": {
   "display_name": "Python 3",
   "language": "python",
   "name": "python3"
  },
  "language_info": {
   "codemirror_mode": {
    "name": "ipython",
    "version": 3
   },
   "file_extension": ".py",
   "mimetype": "text/x-python",
   "name": "python",
   "nbconvert_exporter": "python",
   "pygments_lexer": "ipython3",
   "version": "3.6.8"
  },
  "toc": {
   "base_numbering": 1,
   "nav_menu": {},
   "number_sections": true,
   "sideBar": true,
   "skip_h1_title": false,
   "title_cell": "Table of Contents",
   "title_sidebar": "Contents",
   "toc_cell": false,
   "toc_position": {},
   "toc_section_display": true,
   "toc_window_display": false
  },
  "varInspector": {
   "cols": {
    "lenName": 16,
    "lenType": 16,
    "lenVar": 40
   },
   "kernels_config": {
    "python": {
     "delete_cmd_postfix": "",
     "delete_cmd_prefix": "del ",
     "library": "var_list.py",
     "varRefreshCmd": "print(var_dic_list())"
    },
    "r": {
     "delete_cmd_postfix": ") ",
     "delete_cmd_prefix": "rm(",
     "library": "var_list.r",
     "varRefreshCmd": "cat(var_dic_list()) "
    }
   },
   "types_to_exclude": [
    "module",
    "function",
    "builtin_function_or_method",
    "instance",
    "_Feature"
   ],
   "window_display": false
  }
 },
 "nbformat": 4,
 "nbformat_minor": 2
}
